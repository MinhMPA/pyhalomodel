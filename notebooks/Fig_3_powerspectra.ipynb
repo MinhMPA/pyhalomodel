{
 "cells": [
  {
   "attachments": {},
   "cell_type": "markdown",
   "id": "18dbf725",
   "metadata": {},
   "source": [
    "# Fig 1: Halo model power spectra \n",
    "Power spectra for matter, galaxy and their cross-correlation using the standard halo model calculation. \n",
    "\n",
    "First we import the libraries we need:|"
   ]
  },
  {
   "cell_type": "code",
   "execution_count": null,
   "id": "8be2cdf0",
   "metadata": {},
   "outputs": [],
   "source": [
    "# Standard imports\n",
    "import sys\n",
    "import numpy as np\n",
    "import matplotlib.pyplot as plt\n",
    "\n",
    "# Third-party imports\n",
    "import camb # Calculates the linear matter power spectrum\n",
    "\n",
    "# Halo Model library imports\n",
    "sys.path.append('../halomodel/')\n",
    "import cosmology\n",
    "import halomodel"
   ]
  },
  {
   "cell_type": "markdown",
   "id": "502a13ff",
   "metadata": {},
   "source": [
    "Now we set the comsological parameters. If `sigma_8_set = True` we scale the linear power spectrum to account for the new sigma_8 value.  "
   ]
  },
  {
   "cell_type": "code",
   "execution_count": null,
   "id": "0c49ef79",
   "metadata": {},
   "outputs": [],
   "source": [
    "# Set cosmological parameters\n",
    "Omega_c = 0.25\n",
    "Omega_b = 0.05\n",
    "Omega_k = 0.0\n",
    "h = 0.7\n",
    "As = 1.97448e-9\n",
    "ns = 0.96\n",
    "w = -1.0\n",
    "wa = 0.0\n",
    "m_nu = 0.0 # in eV\n",
    "\n",
    "# You can choose to set sigma_8, in that case we scale the power spectrum\n",
    "sigma_8_set = True # if true uses the following value\n",
    "sigma_8_in  = 0.7\n",
    "\n",
    "# Colours\n",
    "col_lin = 'black'\n",
    "col_mat = 'C0'\n",
    "col_gal = 'C1'\n",
    "col_mg  = 'C4'\n",
    "\n",
    "# Line styles\n",
    "ls_li = '-'\n",
    "ls_hm = '-'\n",
    "ls_2h = '--'\n",
    "ls_1h = ':'\n",
    "\n",
    "# Labels\n",
    "klab = r'$k\\,/\\,h \\mathrm{Mpc}^{-1}$'"
   ]
  },
  {
   "cell_type": "markdown",
   "id": "49a250ba",
   "metadata": {},
   "source": [
    "Now let's set some parameters that we will use throughout the calculation: First, we set a range of wavenumbers, `k`, and then fill array, `ks`, we then set a redshift, `z`."
   ]
  },
  {
   "cell_type": "code",
   "execution_count": null,
   "id": "6ffe59e6",
   "metadata": {},
   "outputs": [],
   "source": [
    "# k range [h/Mpc]\n",
    "kmin = 1e-3; kmax = 200\n",
    "nk = 101\n",
    "ks = np.logspace(np.log10(kmin), np.log10(kmax), nk)\n",
    "\n",
    "# Starting redshift\n",
    "z = 0.\n",
    "zmax = 2.\n",
    "\n",
    "# Redshift\n",
    "zs = [1., 0.] # CAMB reorders from high-z to low-z, so we define it like this from the start to avoid confusion"
   ]
  },
  {
   "cell_type": "markdown",
   "id": "98b725d9",
   "metadata": {},
   "source": [
    "Now we initialise `CAMB` and produce a linear matter power spectrum. We have the option here to scale the power by an input `sigma_8` value: `sigma_8_in`"
   ]
  },
  {
   "cell_type": "code",
   "execution_count": null,
   "id": "3696cc57",
   "metadata": {},
   "outputs": [],
   "source": [
    "# Sets cosmological parameters in camb to calculate the linear power spectrum\n",
    "pars = camb.CAMBparams()\n",
    "wb   = Omega_b*h**2\n",
    "wc   = Omega_c*h**2\n",
    "\n",
    "# This function sets standard and helium set using BBN consistency\n",
    "pars.set_cosmology(ombh2=wb, omch2=wc, H0=100.*h, mnu=m_nu, omk=Omega_k)\n",
    "pars.set_dark_energy(w=w, wa=wa, dark_energy_model='ppf') \n",
    "pars.InitPower.set_params(As=As, ns=ns, r=0)\n",
    "pars.set_matter_power(redshifts=zs, kmax=kmax) # Setup the linear matter power spectrum\n",
    "\n",
    "# extract parameters from CAMB\n",
    "Omega_m  = pars.omegam \n",
    "Omega_nu = pars.omeganu\n",
    "Omega_L  = 1. + Omega_k - Omega_m\n",
    "camb_results = camb.get_results(pars)\n",
    "sigma_8 = (camb_results.get_sigma8()[zs.index(z)]).item()\n",
    "\n",
    "if sigma_8_set:\n",
    "#     sigma_8_original = sigma_8\n",
    "    scaling = (sigma_8_in/sigma_8)**2\n",
    "    As *= scaling\n",
    "    pars.InitPower.set_params(As=As, ns=ns, r=0)\n",
    "    \n",
    "\n",
    "Pk_lin = camb.get_matter_power_interpolator(pars, \n",
    "                                            nonlinear=False, \n",
    "                                            hubble_units=True, \n",
    "                                            k_hunit=True, \n",
    "                                            kmax=kmax,\n",
    "                                            var1=camb.model.Transfer_tot,\n",
    "                                            var2=camb.model.Transfer_tot, \n",
    "                                            zmax=zmax,\n",
    "                                           )\n",
    "Pk_lin = Pk_lin.P # Single out the linear P(k) interpolator\n",
    "camb_results = camb.get_results(pars)\n",
    "sigma_8 = (camb_results.get_sigma8()[zs.index(z)]).item()"
   ]
  },
  {
   "cell_type": "markdown",
   "id": "d52222d4",
   "metadata": {},
   "source": [
    "Now we set a range of halo masses, `M`, and fill an array, `Ms`. This halo-mass range needs to be wide enough that it includes all 'interesting' halo masses from the point of view of the calculation, and the mass-spacing needs to be fine enough that the calculation converges; in an actual use-case the effect on power spectra of both mass range and spacing should be convergence tested. Then we find the Lagrangian radii, `R`, corresponding the the halo masses."
   ]
  },
  {
   "cell_type": "code",
   "execution_count": null,
   "id": "5a944ac0",
   "metadata": {},
   "outputs": [],
   "source": [
    "# # Halo mass range [Msun/h]\n",
    "# Mmin = 1e8; Mmax = 1e16\n",
    "# nM = 1025\n",
    "# Ms = np.logspace(np.log10(Mmin), np.log10(Mmax), nM)\n",
    "\n",
    "# To speed things we use these settings if you want more precision use the above numbers\n",
    "# Halo mass range [Msun/h]\n",
    "Mmin = 1e9; Mmax = 1e15; nM = 129\n",
    "Ms = np.logspace(np.log10(Mmin), np.log10(Mmax), nM)\n",
    "\n",
    "# Lagrangian radii corresponding to halo masses; \n",
    "Rs = cosmology.Lagrangian_radius(Ms, Omega_m)"
   ]
  },
  {
   "cell_type": "markdown",
   "id": "0617030a",
   "metadata": {},
   "source": [
    "Next, we need to get an array of `sigma(R)` values. This requires an integral over the linear power spectrum times the Fourier transform of a top hat function, which is the oscillatory sinc function. We can use different integration methods to calculate this. Three methods are given: \n",
    "* `brute`: uses a brute force sum over `nk` log-bins between `kmin` and `kmax`\n",
    "* `quad`: uses the scipy.integrate.quad routine integrates between zero and infinity\n",
    "* `camb`: uses the internal camb integration"
   ]
  },
  {
   "cell_type": "code",
   "execution_count": null,
   "id": "64d82699",
   "metadata": {},
   "outputs": [],
   "source": [
    "# Get sigma(R) brute force\n",
    "# sigmaRs_brute = utility.get_sigmaR(Rs,Pk_lin=lambda k: Pk_lin(0, k),kmin=1e-5,kmax=1e5,nk=1e5,integration_type='brute')\n",
    "\n",
    "# Get sigma(R) using quad integration. Ignore the warning it is pretty accurate\n",
    "# sigmaRs_quad = utility.get_sigmaR(Rs,Pk_lin=lambda k: Pk_lin(0, k),integration_type='quad')\n",
    "# sigmaRs = sigmaRs_quad\n",
    "\n",
    "sigmaRs_camb = cosmology.get_sigmaR(Rs, camb_results, integration_type='camb')\n",
    "sigmaRs = sigmaRs_camb"
   ]
  },
  {
   "cell_type": "markdown",
   "id": "c7d4460c",
   "metadata": {},
   "source": [
    "Now we can create a halo model, which has to be reinitialised at each different redshift of interest. In this example notebook we are only doing calculations at a single redshift, so we initialise the halo model with that in mind. We also need to choose a mass function and linear halo bias, in this example these come from `Tinker et al. (2010)`, and we need to choose a halo definition, here we choose `330`, so haloes are defined to be spherical objects that contain an average density that is 330 times greater than the mean background universe, which is approximately the virial definition for this cosmology at `z=0`."
   ]
  },
  {
   "cell_type": "code",
   "execution_count": null,
   "id": "a98cf70d",
   "metadata": {},
   "outputs": [],
   "source": [
    "# Initialise halo model\n",
    "hmod = halomodel.halo_model(z, Omega_m, hm='Tinker et al. (2010)', Dv=330.)\n",
    "\n",
    "# Calculate the matter density\n",
    "rhom = cosmology.comoving_matter_density(Omega_m) \n",
    "print('Mean matter density [log10((Msun/h)/(Mpc/h)^-3)]:', np.log10(rhom))"
   ]
  },
  {
   "cell_type": "markdown",
   "id": "d7b3b017",
   "metadata": {},
   "source": [
    "First, we will use the halo model to compute the matter power spectrum, to do this we need to define a matter halo. We use the `haloprof` class, which contains the Fourier window function of the halo profile `W(M,k)` that is necessary for the power-spectrum calculation. This is a 2D array of the window function evaluated at `(ks, Ms)` values defined above, so if these change then the `haloprof` must be updated. We break the function $W(M,k)=N(M)U(M,k)/{\\rm norm}$ where `W(M,k)` has dimensions of field multiplied by volume, `N(M)/norm` has dimension of field multiplied by volume and `U(M,k)` is dimensionless and should tend to unity as k tends to zero, because its real space counter part is normalised. \n",
    "\n",
    "In our case, we are going to compute the power spectrum of matter overdensity (density contrast: $\\delta_{\\rm m}=(\\rho-\\bar\\rho)/\\bar\\rho$), which is dimensionless. We take `N(M)=M`, ${\\rm norm}=\\bar\\rho$, such that `N(M)/norm` = $M/\\bar\\rho$ and has dimensions of volume. We could also have set $N(M)=M/\\bar\\rho$ and `norm=1` and would get the same results. The distinction between these two approaches is important for discrete tracers, but not otherwise.\n",
    "\n",
    "We also need to set the optional `mass=True` in the halo profile, to let it know that our profile corresponds to a matter profile. This is important because the contribtion to the matter power of haloes below `Mmin`, set above, is important to the calculation (much of the mass in the Universe is in very low mass haloes), and this flag allows this to be taken into account in a consistent way."
   ]
  },
  {
   "cell_type": "code",
   "execution_count": null,
   "id": "3a7ddd36",
   "metadata": {},
   "outputs": [],
   "source": [
    "# Halo density profiles or window functions\n",
    "Uk = np.zeros((nM, nk))\n",
    "for iM, M in enumerate(Ms):\n",
    "    c = halomodel.concentration(M, z, method='Duffy et al. (2008)', halo_definition='Mvir') # Specifiy 'Mvir' for Duffy c(M)\n",
    "    rv = hmod.virial_radius(M) # Take Dv from the halomodel to ensure consistency\n",
    "    for ik, k in enumerate(ks):\n",
    "        Uk[iM, ik] = halomodel.halo_window_function(k, rv, c, profile='NFW')\n",
    "        \n",
    "# Initialise profile class\n",
    "matter_profile = halomodel.halo_profile(ks, Ms, Ms, Uk, rhom, mass=True)  # Need mass=True here"
   ]
  },
  {
   "cell_type": "code",
   "execution_count": null,
   "id": "1cee60e8",
   "metadata": {},
   "outputs": [],
   "source": [
    "# Simple (unrealistic) HOD model\n",
    "def HOD(M, Mmin=1e12, Msat=1e13):\n",
    "    if M < Mmin:\n",
    "        return 0.\n",
    "    elif Mmin <= M and M < Msat:\n",
    "        return 1.\n",
    "    else:\n",
    "        #return np.rint(M/Msat)\n",
    "        return M/Msat\n",
    "\n",
    "# Fill an array with galaxy number at each halo mass\n",
    "Ng = np.zeros(nM)\n",
    "for iM, M in enumerate(Ms):\n",
    "    Ng[iM] = HOD(M)\n",
    "    \n",
    "# Compute the mean galaxy density corresponding to our HOD\n",
    "rhog = hmod.average(Ms, Ng, sigmas=sigmaRs[-1])\n",
    "print('Mean galaxy density [(Mpc/h)^-3]:', rhog)\n",
    "\n",
    "# Plot HOD\n",
    "plt.loglog(Ms, Ng, color=col_gal)\n",
    "plt.xlabel('Halo mass [$h^{-1}\\,M_\\odot$]')\n",
    "plt.ylabel('Number of galaxies')\n",
    "plt.ylim(bottom=1e-1)\n",
    "plt.xlim((1e11, 1e16))\n",
    "plt.show()"
   ]
  },
  {
   "cell_type": "markdown",
   "id": "cc96451a",
   "metadata": {},
   "source": [
    "The unusual HOD has a step feature, but that is no problem for `halomodel`.\n",
    "\n",
    "Now we can create a galaxy profile by combining the HOD with a halo window. Here we choose an isothermal profile `rho(r) ~ 1/r^2` for the galaxies and we set the `discrete=True` flag to let the calculation know that the halo profile corresponds to that of a discrete tracer, which ensures that `<N(N-1)>` is used in the one-halo term, rather than `<N^2>`. In the `W(M,k)=N(M)W(M,k)/norm` language we used before we have `N(M) = Ng(M)`, the number of galaxies in each halo, and `norm=rhog` the overall number-density of galaxies (dimension 1/volume). For discrete tracers (only) it is important to make the distinction between `N` and `norm`, and we would get different results if we set `N(M)=Ng(M)/norm` and `norm=1.`. We can then do a power spectrum calculation."
   ]
  },
  {
   "cell_type": "code",
   "execution_count": null,
   "id": "d61672f3",
   "metadata": {},
   "outputs": [],
   "source": [
    "# Halo density profiles or window functions\n",
    "Uk = np.zeros((nM, nk))\n",
    "for iM, M in enumerate(Ms):\n",
    "    c = halomodel.concentration(M, z, method='Duffy et al. (2008)', halo_definition='Mvir') # Specifiy 'Mvir' for Duffy c(M)\n",
    "    rv = hmod.virial_radius(M) # Take Dv from the halomodel to ensure consistency\n",
    "    for ik, k in enumerate(ks):\n",
    "        Uk[iM, ik] = halomodel.halo_window_function(k, rv, c, profile='NFW')\n",
    "        \n",
    "# Initialise profile class\n",
    "# Need discrete=True here because profile is of a discrete tracer\n",
    "galaxy_profile = halomodel.halo_profile(ks, Ms, Ng, Uk, rhog, discrete=True)"
   ]
  },
  {
   "attachments": {},
   "cell_type": "markdown",
   "id": "acdec302",
   "metadata": {},
   "source": [
    "Now that we have created both matter and galaxy profiles, it is easy to cross correlate them by supplying a list of the two halo profiles. When we do this, the code calculates both auto spectra and also the cross spectrum. If we supply `n` halo profiles then we get the triangle number of `n` independent auto/cross spectra computed. These are stored in the first two dimensions of the `Pk_xx[:, :, :]` arrays, each of length `n`, so there is some redundancy."
   ]
  },
  {
   "cell_type": "code",
   "execution_count": null,
   "id": "6c0cc689",
   "metadata": {},
   "outputs": [],
   "source": [
    "# Calculate the halo-model power spectrum\n",
    "profiles = [matter_profile, galaxy_profile]\n",
    "Pk_2h, Pk_1h, Pk_hm = hmod.power_spectrum(ks, Ms, profiles, lambda k: Pk_lin(z, k), sigmas=sigmaRs[-1])#, shot=True)"
   ]
  },
  {
   "cell_type": "markdown",
   "id": "2c6d6dc2",
   "metadata": {},
   "source": [
    "...and plot, noting that `Pk_xx[0, 0, :]` singles out the matter-matter (auto) spectrum, `Pk_xx[1, 1, :]` singles out the galaxy-galaxy (auto) spectrum, and `Pk_xx[0, 1, :]` singles out the matter-galaxy cross spectrum, and is identical to `Pk_xx[1, 0, :]`:"
   ]
  },
  {
   "cell_type": "code",
   "execution_count": null,
   "id": "4bb07d03",
   "metadata": {},
   "outputs": [],
   "source": [
    "# Plot matter, galaxy and cross spectra\n",
    "\n",
    "# Axis limits\n",
    "Pkmin = 1e1; Pkmax = 4e4\n",
    "kmin_plot = 1e-3; kmax_plot = 1e1\n",
    "rmin = 1e-1; rmax = 1e2\n",
    "smin = 0.; smax = 2.4\n",
    "\n",
    "# Initialise plot\n",
    "#fig=plt.figure(figsize=(8,5), dpi= 100, facecolor='w', edgecolor='k')\n",
    "plt.subplots(3, 1, figsize=(5,7), dpi= 100, sharex=True)\n",
    "plt.subplots_adjust(wspace=0.1, hspace=0.1) \n",
    "\n",
    "# Lists for plots\n",
    "Pks = [Pk_2h[0, 0, :], Pk_1h[0, 0, :], Pk_hm[0, 0, :], Pk_hm[1, 1, :], Pk_hm[0, 1, :]]\n",
    "cols = 3*[col_mat]+[col_gal, col_mg]\n",
    "lss = [ls_2h, ls_1h, ls_hm, ls_hm, ls_hm]\n",
    "labs = [None, None, 'matter', 'galaxy', 'matter-galaxy']\n",
    "\n",
    "# P(k)\n",
    "plt.subplot(3, 1, 1)\n",
    "plt.loglog(ks, Pk_lin(z, ks), color=col_lin, ls=ls_li, label='linear')\n",
    "for (ls, lab) in zip([ls_2h, ls_1h], ['2-halo term', '1-halo term']):\n",
    "    plt.plot(np.nan, ls=ls, label=lab, color='black')\n",
    "for (Pk, col, ls, lab) in zip(Pks, cols, lss, labs):\n",
    "    plt.loglog(ks, Pk, color=col, ls=ls, label=lab)\n",
    "plt.xticks([])\n",
    "plt.xlim((kmin_plot, kmax_plot))\n",
    "plt.ylabel(r'$P_{\\rm uv}(k)\\,/\\,(h^{-1} \\mathrm{Mpc})^3$')\n",
    "plt.ylim((Pkmin, Pkmax))\n",
    "plt.legend(ncol=2, loc='lower left', fontsize='9')\n",
    "\n",
    "# Lists for plots\n",
    "Pks = [Pk_2h[0, 0, :], Pk_1h[0, 0, :], Pk_hm[0, 0, :],\n",
    "       Pk_2h[1, 1, :], Pk_1h[1, 1, :], Pk_hm[1, 1, :],\n",
    "       Pk_2h[0, 1, :], Pk_1h[0, 1, :], Pk_hm[0, 1, :]]\n",
    "cols = 3*[col_mat]+3*[col_gal]+3*[col_mg]\n",
    "lss = 3*[ls_2h, ls_1h, ls_hm]\n",
    "\n",
    "# Residual with linear\n",
    "plt.subplot(3, 1, 2)\n",
    "plt.loglog(ks, Pk_lin(z, ks)/Pk_lin(z, ks), color=col_lin)\n",
    "for (Pk, col, ls) in zip(Pks, cols, lss):\n",
    "    plt.loglog(ks, Pk/Pk_lin(z, ks), color=col, ls=ls)\n",
    "plt.xticks([])\n",
    "plt.xlim((kmin_plot, kmax_plot))\n",
    "plt.ylabel(r'$P_{\\rm uv}(k)\\,/\\,P^\\mathrm{lin}(k)$')\n",
    "plt.ylim((rmin, rmax))\n",
    "\n",
    "# Residual with halo-model matter power\n",
    "plt.subplot(3, 1, 3)\n",
    "plt.semilogx(ks, Pk_lin(z, ks)/Pk_hm[0, 0, :], color=col_lin)\n",
    "for (Pk, col, ls) in zip(Pks, cols, lss):\n",
    "    plt.semilogx(ks, Pk/Pk_hm[0, 0, :], color=col, ls=ls)\n",
    "plt.xlabel(klab)\n",
    "plt.xlim((kmin_plot, kmax_plot))\n",
    "plt.ylabel(r'$P_{\\rm uv}(k)\\,/\\,P_\\mathrm{mm}(k)$')\n",
    "plt.ylim((smin, smax))\n",
    "\n",
    "# Finish\n",
    "#plt.tight_layout()\n",
    "plt.savefig('plots/power_HOD_all.pdf', bbox_inches='tight')\n",
    "plt.show()"
   ]
  },
  {
   "cell_type": "markdown",
   "id": "9bde2bda",
   "metadata": {},
   "source": [
    "This is Figure 1 of the review paper. "
   ]
  },
  {
   "cell_type": "markdown",
   "id": "9d7f5783",
   "metadata": {},
   "source": [
    "We see that all spectra have the same shape at large scales, but that those spectra that involve galaxies are offset in amplitude. This tells us that the galaxy sample is positively biased, with `b~1.3`. At smaller scales the spectra are all similarly shaped, but the exact scale dependence is different for each. This arises because of the different way that matter and galaxies occupy haloes."
   ]
  }
 ],
 "metadata": {
  "kernelspec": {
   "display_name": "Python 3",
   "language": "python",
   "name": "python3"
  },
  "language_info": {
   "codemirror_mode": {
    "name": "ipython",
    "version": 3
   },
   "file_extension": ".py",
   "mimetype": "text/x-python",
   "name": "python",
   "nbconvert_exporter": "python",
   "pygments_lexer": "ipython3",
   "version": "3.10.9 (main, Dec 15 2022, 18:25:35) [Clang 14.0.0 (clang-1400.0.29.202)]"
  },
  "vscode": {
   "interpreter": {
    "hash": "aee8b7b246df8f9039afb4144a1f6fd8d2ca17a180786b69acc140d282b71a49"
   }
  }
 },
 "nbformat": 4,
 "nbformat_minor": 5
}

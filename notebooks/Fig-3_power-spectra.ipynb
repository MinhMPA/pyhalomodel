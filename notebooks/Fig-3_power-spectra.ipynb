{
 "cells": [
  {
   "attachments": {},
   "cell_type": "markdown",
   "id": "18dbf725",
   "metadata": {},
   "source": [
    "## Fig 3: Halo model power spectra "
   ]
  },
  {
   "cell_type": "code",
   "execution_count": null,
   "id": "8be2cdf0",
   "metadata": {},
   "outputs": [],
   "source": [
    "# Standard imports\n",
    "import sys\n",
    "import numpy as np\n",
    "import matplotlib.pyplot as plt\n",
    "\n",
    "# Third-party imports\n",
    "import camb # Calculates the linear matter power spectrum\n",
    "\n",
    "# Halo Model library imports\n",
    "sys.path.append('../src/')\n",
    "import halomodel as halo"
   ]
  },
  {
   "cell_type": "code",
   "execution_count": null,
   "id": "0c49ef79",
   "metadata": {},
   "outputs": [],
   "source": [
    "# Set cosmological parameters\n",
    "Omega_c = 0.25\n",
    "Omega_b = 0.05\n",
    "Omega_k = 0.0\n",
    "h = 0.7\n",
    "As = 1.97448e-9\n",
    "ns = 0.96\n",
    "w = -1.0\n",
    "wa = 0.0\n",
    "m_nu = 0.0 # in eV\n",
    "sigma_8_set = True # if true uses the following value\n",
    "sigma_8_in  = 0.8\n",
    "\n",
    "# Colours\n",
    "col_lin = 'black'\n",
    "col_mat = 'C0'\n",
    "col_gal = 'C1'\n",
    "col_mg  = 'C4'\n",
    "\n",
    "# Line styles\n",
    "ls_li = '-'\n",
    "ls_hm = '-'\n",
    "ls_2h = '--'\n",
    "ls_1h = ':'\n",
    "\n",
    "# Labels\n",
    "klab = r'$k\\,/\\,h \\mathrm{Mpc}^{-1}$'"
   ]
  },
  {
   "cell_type": "code",
   "execution_count": null,
   "id": "6ffe59e6",
   "metadata": {},
   "outputs": [],
   "source": [
    "# k range [h/Mpc]\n",
    "kmin = 1e-3; kmax = 10.\n",
    "nk = 101\n",
    "ks = np.logspace(np.log10(kmin), np.log10(kmax), nk)\n",
    "\n",
    "# Redshift\n",
    "z = 0.\n",
    "\n",
    "# CAMB parameters\n",
    "zmax_CAMB = 2.\n",
    "kmax_CAMB = 200."
   ]
  },
  {
   "cell_type": "code",
   "execution_count": null,
   "id": "3696cc57",
   "metadata": {},
   "outputs": [],
   "source": [
    "# Sets cosmological parameters in camb to calculate the linear power spectrum\n",
    "pars = camb.CAMBparams()\n",
    "wb = Omega_b*h**2\n",
    "wc = Omega_c*h**2\n",
    "\n",
    "# This function sets standard and helium set using BBN consistency\n",
    "pars.set_cosmology(ombh2=wb, omch2=wc, H0=100.*h, mnu=m_nu, omk=Omega_k)\n",
    "pars.set_dark_energy(w=w, wa=wa, dark_energy_model='ppf') \n",
    "pars.InitPower.set_params(As=As, ns=ns, r=0)\n",
    "pars.set_matter_power(redshifts=[z], kmax=kmax_CAMB) # Setup the linear matter power spectrum\n",
    "\n",
    "# extract parameters from CAMB\n",
    "Omega_m  = pars.omegam\n",
    "camb_results = camb.get_results(pars)\n",
    "sigma_8 = (camb_results.get_sigma8()[[z].index(0.)]).item()\n",
    "\n",
    "if sigma_8_set:\n",
    "    scaling = (sigma_8_in/sigma_8)**2\n",
    "    As *= scaling\n",
    "    pars.InitPower.set_params(As=As, ns=ns, r=0.)\n",
    "\n",
    "Pk_lin = camb.get_matter_power_interpolator(pars, \n",
    "                                            nonlinear=False, \n",
    "                                            hubble_units=True, \n",
    "                                            k_hunit=True, \n",
    "                                            kmax=kmax_CAMB,\n",
    "                                            var1=camb.model.Transfer_tot,\n",
    "                                            var2=camb.model.Transfer_tot, \n",
    "                                            zmax=zmax_CAMB,\n",
    "                                           )\n",
    "Pks_lin = Pk_lin.P(z, ks) # Single out the linear P(k) interpolator\n",
    "camb_results = camb.get_results(pars)\n",
    "sigma_8 = (camb_results.get_sigma8()[[z].index(0.)]).item()"
   ]
  },
  {
   "cell_type": "code",
   "execution_count": null,
   "id": "5102a9be",
   "metadata": {},
   "outputs": [],
   "source": [
    "# Initialise halo model\n",
    "hmod = halo.model(z, Omega_m, name='Tinker et al. (2010)', Dv=330.)\n",
    "\n",
    "# Calculate the matter density\n",
    "print('Mean matter density [log10((Msun/h)/(Mpc/h)^-3)]:', np.log10(hmod.rhom))"
   ]
  },
  {
   "cell_type": "code",
   "execution_count": null,
   "id": "5a944ac0",
   "metadata": {},
   "outputs": [],
   "source": [
    "# To speed things we use these settings if you want more precision use the above numbers\n",
    "Mmin = 1e9; Mmax = 1e15; nM = 256\n",
    "Ms = np.logspace(np.log10(Mmin), np.log10(Mmax), nM)\n",
    "\n",
    "# Lagrangian radii corresponding to halo masses; \n",
    "Rs = hmod.Lagrangian_radius(Ms)"
   ]
  },
  {
   "cell_type": "code",
   "execution_count": null,
   "id": "64d82699",
   "metadata": {},
   "outputs": [],
   "source": [
    "# Get sigma(R) from CAMB\n",
    "sigmaRs = camb_results.get_sigmaR(Rs, hubble_units=True, return_R_z=False)[[z].index(z)]"
   ]
  },
  {
   "cell_type": "code",
   "execution_count": null,
   "id": "3a7ddd36",
   "metadata": {},
   "outputs": [],
   "source": [
    "# Initialise profile class\n",
    "rvs = hmod.virial_radius(Ms)\n",
    "cs = halo.concentration(Ms, z, method='Duffy et al. (2008)', halo_definition='Mvir')\n",
    "matter_profile = halo.matter_profile(ks, Ms, rvs, cs, hmod.Om_m)\n",
    "print(matter_profile)"
   ]
  },
  {
   "cell_type": "code",
   "execution_count": null,
   "id": "1cee60e8",
   "metadata": {},
   "outputs": [],
   "source": [
    "# Simple (unrealistic) HOD model\n",
    "def HOD(M, Mmin=1e12, Msat=1e13):\n",
    "    if M < Mmin:\n",
    "        return 0.\n",
    "    elif Mmin <= M and M < Msat:\n",
    "        return 1.\n",
    "    else:\n",
    "        #return np.rint(M/Msat)\n",
    "        return M/Msat\n",
    "HOD = np.vectorize(HOD)\n",
    " \n",
    "# Compute the mean galaxy density corresponding to our HOD\n",
    "Ng = HOD(Ms)\n",
    "rhog = hmod.average(Ms, sigmaRs, Ng)\n",
    "print('Mean galaxy density [(Mpc/h)^-3]:', rhog)\n",
    "\n",
    "# Plot HOD\n",
    "plt.loglog(Ms, Ng, color=col_gal)\n",
    "plt.xlabel('Halo mass [$h^{-1}\\,M_\\odot$]')\n",
    "plt.ylabel('Number of galaxies')\n",
    "plt.ylim(bottom=1e-1)\n",
    "plt.xlim((1e11, 1e16))\n",
    "plt.show()"
   ]
  },
  {
   "cell_type": "code",
   "execution_count": null,
   "id": "d61672f3",
   "metadata": {},
   "outputs": [],
   "source": [
    "# Galaxy profile\n",
    "Uk = halo.window_function(ks, rvs, cs, profile='NFW')\n",
    "galaxy_profile = halo.profile.Fourier(ks, Ms, Uk, amp=Ng, norm=rhog, discrete_tracer=True)\n",
    "print(galaxy_profile)"
   ]
  },
  {
   "cell_type": "code",
   "execution_count": null,
   "id": "6c0cc689",
   "metadata": {},
   "outputs": [],
   "source": [
    "# Calculate the halo-model power spectrum\n",
    "profiles = {'m': matter_profile, 'g': galaxy_profile}\n",
    "Pk_2h, Pk_1h, Pk_hm = hmod.power_spectrum(ks, Pks_lin, Ms, sigmaRs, profiles)"
   ]
  },
  {
   "cell_type": "code",
   "execution_count": null,
   "id": "4bb07d03",
   "metadata": {},
   "outputs": [],
   "source": [
    "# Plot matter, galaxy and cross spectra\n",
    "\n",
    "# Axis limits\n",
    "Pkmin, Pkmax = 1e1, 1e5\n",
    "kmin_plot, kmax_plot = 1e-3, 1e1\n",
    "rmin, rmax = 1e-1, 1e2\n",
    "smin, smax = 0., 2.4\n",
    "\n",
    "# Initialise plot\n",
    "plt.subplots(3, 1, figsize=(5, 7), dpi= 100, sharex=True)\n",
    "plt.subplots_adjust(wspace=0.1, hspace=0.1) \n",
    "\n",
    "# Lists for plots\n",
    "Pks = [Pk_2h['m-m'], Pk_1h['m-m'], Pk_hm['m-m'], Pk_hm['g-g'], Pk_hm['m-g']]\n",
    "cols = 3*[col_mat]+[col_gal, col_mg]\n",
    "lss = [ls_2h, ls_1h, ls_hm, ls_hm, ls_hm]\n",
    "labs = [None, None, 'matter', 'galaxy', 'matter-galaxy']\n",
    "\n",
    "# P(k)\n",
    "plt.subplot(3, 1, 1)\n",
    "plt.loglog(ks, Pks_lin, color=col_lin, ls=ls_li, label='linear')\n",
    "for (ls, lab) in zip([ls_2h, ls_1h], ['2-halo term', '1-halo term']):\n",
    "    plt.plot(np.nan, ls=ls, label=lab, color='black')\n",
    "for (Pk, col, ls, lab) in zip(Pks, cols, lss, labs):\n",
    "    plt.loglog(ks, Pk, color=col, ls=ls, label=lab)\n",
    "plt.xticks([])\n",
    "plt.xlim((kmin_plot, kmax_plot))\n",
    "plt.ylabel(r'$P_{\\rm uv}(k)\\,/\\,(h^{-1} \\mathrm{Mpc})^3$')\n",
    "plt.ylim((Pkmin, Pkmax))\n",
    "plt.legend(ncol=2, loc='lower left', fontsize='9')\n",
    "\n",
    "# Lists for plots\n",
    "Pks = [Pk_2h['m-m'], Pk_1h['m-m'], Pk_hm['m-m'],\n",
    "       Pk_2h['g-g'], Pk_1h['g-g'], Pk_hm['g-g'],\n",
    "       Pk_2h['m-g'], Pk_1h['m-g'], Pk_hm['m-g']]\n",
    "cols = 3*[col_mat]+3*[col_gal]+3*[col_mg]\n",
    "lss = 3*[ls_2h, ls_1h, ls_hm]\n",
    "\n",
    "# Residual with linear\n",
    "plt.subplot(3, 1, 2)\n",
    "plt.loglog(ks, Pks_lin/Pks_lin, color=col_lin)\n",
    "for (Pk, col, ls) in zip(Pks, cols, lss):\n",
    "    plt.loglog(ks, Pk/Pks_lin, color=col, ls=ls)\n",
    "plt.xticks([])\n",
    "plt.xlim((kmin_plot, kmax_plot))\n",
    "plt.ylabel(r'$P_{\\rm uv}(k)\\,/\\,P^\\mathrm{lin}(k)$')\n",
    "plt.ylim((rmin, rmax))\n",
    "\n",
    "# Residual with halo-model matter power\n",
    "plt.subplot(3, 1, 3)\n",
    "plt.semilogx(ks, Pks_lin/Pk_hm['m-m'], color=col_lin)\n",
    "for (Pk, col, ls) in zip(Pks, cols, lss):\n",
    "    plt.semilogx(ks, Pk/Pk_hm['m-m'], color=col, ls=ls)\n",
    "plt.xlabel(klab)\n",
    "plt.xlim((kmin_plot, kmax_plot))\n",
    "plt.ylabel(r'$P_{\\rm uv}(k)\\,/\\,P_\\mathrm{mm}(k)$')\n",
    "plt.ylim((smin, smax))\n",
    "\n",
    "# Finish\n",
    "plt.savefig('plots/power_HOD_all.pdf', bbox_inches='tight')\n",
    "plt.show()"
   ]
  }
 ],
 "metadata": {
  "kernelspec": {
   "display_name": "Python 3",
   "language": "python",
   "name": "python3"
  },
  "language_info": {
   "codemirror_mode": {
    "name": "ipython",
    "version": 3
   },
   "file_extension": ".py",
   "mimetype": "text/x-python",
   "name": "python",
   "nbconvert_exporter": "python",
   "pygments_lexer": "ipython3",
   "version": "3.10.9"
  },
  "vscode": {
   "interpreter": {
    "hash": "aee8b7b246df8f9039afb4144a1f6fd8d2ca17a180786b69acc140d282b71a49"
   }
  }
 },
 "nbformat": 4,
 "nbformat_minor": 5
}

{
 "cells": [
  {
   "attachments": {},
   "cell_type": "markdown",
   "id": "663e8527",
   "metadata": {},
   "source": [
    "## NFW profile normalised Fourier transforms"
   ]
  },
  {
   "cell_type": "code",
   "execution_count": null,
   "id": "ff1314cc",
   "metadata": {},
   "outputs": [],
   "source": [
    "# Standard imports\n",
    "import sys\n",
    "import numpy as np\n",
    "import matplotlib.pyplot as plt\n",
    "\n",
    "# Imports from the halo model repo\n",
    "sys.path.append('../src/')\n",
    "import halomodel as halo"
   ]
  },
  {
   "cell_type": "code",
   "execution_count": null,
   "id": "cc2d0090",
   "metadata": {},
   "outputs": [],
   "source": [
    "# Parameters\n",
    "\n",
    "# k range [h/Mpc]\n",
    "kmin = 1e-1; kmax = 1e1\n",
    "nk = 129\n",
    "\n",
    "# Halo parameters\n",
    "M_fid = 1e14\n",
    "\n",
    "# Conversion between r and k space (approximate)\n",
    "rk = 1.\n",
    "\n",
    "# Cosmology\n",
    "halo_definition = 'Mvir'\n",
    "Dv = 330.\n",
    "Om_m = 0.3\n",
    "z = 0."
   ]
  },
  {
   "cell_type": "markdown",
   "id": "43ed0012",
   "metadata": {},
   "source": [
    "Setup values for an NFW profile:\n",
    "$\\rho(r)=\\frac{\\rho_{\\rm s}}{r/r_{\\rm s}(1+r/r_{\\rm s})^2}$\n",
    "The halo is truncated at the virial radius, `rv_fid` and $r_{\\rm s}$ is defined using $r_{\\rm s}= r_{\\rm v}/c$, where c is the concentraion, taken from [Duffy et al. (2008)](https://arxiv.org/abs/0804.2486)."
   ]
  },
  {
   "cell_type": "code",
   "execution_count": null,
   "id": "cf745dbf",
   "metadata": {},
   "outputs": [],
   "source": [
    "# Fiducial values\n",
    "hmod = halo.model(z, Om_m, Dv=Dv)\n",
    "\n",
    "# Find the virial radius for the given halo mass: M_fid, halo definition: Dv and matter density parameter: Om_m\n",
    "rv_fid = hmod.virial_radius(M_fid)\n",
    "c_fid = halo.concentration(M_fid, z, halo_definition=halo_definition)\n",
    "rs_fid = rv_fid/c_fid\n",
    "kv_fid = rk/rv_fid\n",
    "ks_fid = rk/rs_fid\n",
    "\n",
    "# Print to screen\n",
    "print('Fiducial halo')\n",
    "print('Mass [log10(Msun/h)]):', np.log10(M_fid))\n",
    "print('Concentration:', c_fid)\n",
    "print('Virial radius [Mpc/h]:', rv_fid)\n",
    "print('Scale radius [Mpc/h]:', rs_fid)\n",
    "print('Virial wavenumber [h/Mpc]:', kv_fid)\n",
    "print('Scale wavenumber [h/Mpc]:', ks_fid)\n",
    "print()\n",
    "\n",
    "# Fill arrays\n",
    "ks = np.logspace(np.log10(kmin), np.log10(kmax), nk)\n",
    "\n",
    "# get the Fourier transform of the NFW profile\n",
    "Wk = halo.window_function(ks, rv_fid, c_fid, profile='NFW')\n",
    "\n",
    "# Varying halo mass\n",
    "Mmin, Mmax = M_fid/10., M_fid*10.\n",
    "nM = 11\n",
    "Ms = np.logspace(np.log10(Mmin), np.log10(Mmax), nM)\n",
    "\n",
    "# Fill Wk arrays with varying M\n",
    "rvs = hmod.virial_radius(Ms)\n",
    "cs = halo.concentration(Ms, z, halo_definition=halo_definition)\n",
    "Wks_M = halo.window_function(ks, rvs, cs, profile='NFW')\n",
    "\n",
    "print('Minimum-mass halo')\n",
    "print('Mass [log10(Msun/h)]):', np.log10(Ms[0]))\n",
    "print('Concentration:', cs[0])\n",
    "print('Virial radius [Mpc/h]:', rvs[0])\n",
    "print()\n",
    "\n",
    "print('Maximum-mass halo')\n",
    "print('Mass [log10(Msun/h)]):', np.log10(Ms[-1]))\n",
    "print('Concentration:', cs[-1])\n",
    "print('Virial radius [Mpc/h]:', rvs[-1])\n",
    "print()"
   ]
  },
  {
   "attachments": {},
   "cell_type": "markdown",
   "id": "7755b36a",
   "metadata": {},
   "source": [
    "Now lets make the figure."
   ]
  },
  {
   "cell_type": "code",
   "execution_count": null,
   "id": "240ff4d7",
   "metadata": {},
   "outputs": [],
   "source": [
    "# Plot parameters\n",
    "Umin, Umax = 0., 1.05\n",
    "xlaboff = 0.7\n",
    "ylab = 0.83\n",
    "colors = plt.cm.coolwarm(np.linspace(0, 1, nM))\n",
    "\n",
    "# Plot\n",
    "plt.figure(figsize=(5, 2.5),dpi=100)\n",
    "plt.axvline(kv_fid, color='black', ls='--')\n",
    "plt.axvline(ks_fid, color='black', ls='--')\n",
    "plt.text(xlaboff*kv_fid, 0.55, r'$1/r_\\mathrm{v}$')\n",
    "plt.text(xlaboff*ks_fid, 0.95, r'$1/r_\\mathrm{s}$')\n",
    "for iM in [0, (nM-1)//2, -1]:\n",
    "    plt.plot(np.nan, color=colors[iM],  label='$10^{%d}\\,h^{-1}M_\\odot$'%(np.log10(Ms[iM])))\n",
    "for i, _ in enumerate(Wks_M[0, :]): # TODO: Better\n",
    "    plt.plot(ks, Wks_M[:, i], color=colors[i])\n",
    "plt.xscale('log')\n",
    "plt.xlabel(r'$k$ / $h\\,\\mathrm{Mpc}^{-1}$')\n",
    "plt.xlim((kmin, kmax))\n",
    "plt.ylabel(r'$\\hat{U}_\\mathrm{m}(M, k)$')\n",
    "plt.ylim((Umin, Umax))\n",
    "plt.legend()\n",
    "plt.tight_layout()\n",
    "plt.savefig('plots/NFW_U.pdf', bbox_inches='tight')\n",
    "plt.show()"
   ]
  },
  {
   "cell_type": "markdown",
   "id": "22e598b6",
   "metadata": {},
   "source": [
    "Now we compare $\\hat U$ functions defined with fixed concentration or fixed virial radius with the previous plot"
   ]
  },
  {
   "cell_type": "code",
   "execution_count": null,
   "id": "caebd885",
   "metadata": {},
   "outputs": [],
   "source": [
    "# Fill Wk arrays with varying M\n",
    "Wk_fid = halo.window_function(ks, rv_fid, c_fid, profile='NFW')\n",
    "Wks_rv = halo.window_function(ks, rvs, c_fid, profile='NFW')\n",
    "Wks_c = halo.window_function(ks, rv_fid, cs, profile='NFW')"
   ]
  },
  {
   "cell_type": "code",
   "execution_count": null,
   "id": "18855a8c",
   "metadata": {},
   "outputs": [],
   "source": [
    "# Plot\n",
    "plt.subplots(4, 1, sharex=True, figsize=(6.4, 8.4))\n",
    "\n",
    "xlaboff = 0.6\n",
    "ylab = 0.83\n",
    "\n",
    "plt.subplot(4, 1, 1)\n",
    "plt.axvline(kv_fid, color='black', ls='--')\n",
    "plt.axvline(ks_fid, color='black', ls='--')\n",
    "plt.text(xlaboff*kv_fid, ylab, r'$\\pi/r_\\mathrm{v}$')\n",
    "plt.text(xlaboff*ks_fid, ylab, r'$\\pi/r_\\mathrm{s}$')\n",
    "plt.plot(ks, Wk_fid, color=colors[(nM-1)//2])\n",
    "plt.xscale('log')\n",
    "plt.xticks([])\n",
    "plt.xlim((kmin, kmax))\n",
    "plt.ylabel(r'$U_\\mathrm{m}(M, k)$')\n",
    "plt.ylim((0., 1.1))\n",
    "\n",
    "plt.subplot(4, 1, 2)\n",
    "plt.text(0.5, 0.3, r'varying c and $r_{\\rm v}$')\n",
    "plt.plot(np.nan, color=colors[0],  label='$10^{%d}\\,h^{-1}M_\\odot$'%(np.log10(Ms[0])))\n",
    "plt.plot(np.nan, color=colors[-1], label='$10^{%d}\\,h^{-1}M_\\odot$'%(np.log10(Ms[-1])))\n",
    "for i, _ in enumerate(Wks_M[0, :]):\n",
    "    plt.plot(ks, Wks_M[:, i], color=colors[i])\n",
    "plt.xscale('log')\n",
    "plt.xlim((kmin, kmax))\n",
    "plt.xticks([])\n",
    "plt.ylabel(r'$U_\\mathrm{m}(M, k)$')\n",
    "plt.ylim((0., 1.1))\n",
    "plt.legend()\n",
    "\n",
    "plt.subplot(4, 1, 3)\n",
    "plt.text(0.5, 0.3, r'fixed c and varying $r_{\\rm v}$')\n",
    "for i, _ in enumerate(Wks_rv[0, :]):\n",
    "    plt.plot(ks, Wks_rv[:, i], color=colors[i])\n",
    "plt.xscale('log')\n",
    "plt.xlim((kmin, kmax))\n",
    "plt.xticks([])\n",
    "plt.ylabel(r'$U_\\mathrm{m}(M, k)$')\n",
    "plt.ylim((0., 1.1))\n",
    "\n",
    "plt.subplot(4, 1, 4)\n",
    "plt.text(0.5, 0.3, r'varying c and fixed $r_{\\rm v}$')\n",
    "for i, _ in enumerate(Wks_c[0, :]):\n",
    "    plt.plot(ks, Wks_c[:, i], color=colors[i])\n",
    "plt.xscale('log')\n",
    "plt.xlabel(r'$k$ / $h\\,\\mathrm{Mpc}^{-1}$')\n",
    "plt.xlim((kmin, kmax))\n",
    "plt.ylabel(r'$U_\\mathrm{m}(M, k)$')\n",
    "plt.ylim((0., 1.1))\n",
    "\n",
    "plt.show()"
   ]
  }
 ],
 "metadata": {
  "kernelspec": {
   "display_name": "halomodel-9x4PpIM0-py3.10",
   "language": "python",
   "name": "python3"
  },
  "language_info": {
   "codemirror_mode": {
    "name": "ipython",
    "version": 3
   },
   "file_extension": ".py",
   "mimetype": "text/x-python",
   "name": "python",
   "nbconvert_exporter": "python",
   "pygments_lexer": "ipython3",
   "version": "3.10.9"
  },
  "vscode": {
   "interpreter": {
    "hash": "8d443b5d6f21d64bdd5ec2aaf46e6b3a56438c3d8195417b180d3601582e93fe"
   }
  }
 },
 "nbformat": 4,
 "nbformat_minor": 5
}

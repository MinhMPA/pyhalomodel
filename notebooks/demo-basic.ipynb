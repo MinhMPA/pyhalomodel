{
 "cells": [
  {
   "attachments": {},
   "cell_type": "markdown",
   "id": "18dbf725",
   "metadata": {},
   "source": [
    "## Basic demo notebook\n",
    "\n",
    "First we import the libraries we need"
   ]
  },
  {
   "cell_type": "code",
   "execution_count": null,
   "id": "8be2cdf0",
   "metadata": {},
   "outputs": [],
   "source": [
    "# Standard imports\n",
    "import sys\n",
    "import numpy as np\n",
    "import matplotlib.pyplot as plt\n",
    "\n",
    "# Third-party imports\n",
    "import camb # Calculates the linear matter power spectrum\n",
    "\n",
    "# Halo Model library imports\n",
    "sys.path.append('../src')\n",
    "import halomodel as halo"
   ]
  },
  {
   "attachments": {},
   "cell_type": "markdown",
   "id": "502a13ff",
   "metadata": {},
   "source": [
    "Now we set the cosmological parameters. If `sigma_8_set = True` we scale the linear power spectrum to account for the new `sigma_8` value.  "
   ]
  },
  {
   "cell_type": "code",
   "execution_count": null,
   "id": "0c49ef79",
   "metadata": {},
   "outputs": [],
   "source": [
    "# Set cosmological parameters\n",
    "Omega_c = 0.25\n",
    "Omega_b = 0.05\n",
    "Omega_k = 0.0\n",
    "h = 0.7\n",
    "As = 2e-9\n",
    "ns = 0.96\n",
    "w = -1.0\n",
    "wa = 0.0\n",
    "m_nu = 0.0 # [eV]\n",
    "sigma_8_set = True # If True uses the following value\n",
    "sigma_8  = 0.8\n",
    "\n",
    "# Wavenumber range [h/Mpc]\n",
    "kmin, kmax = 1e-3, 10.\n",
    "nk = 101\n",
    "ks = np.logspace(np.log10(kmin), np.log10(kmax), nk)\n",
    "\n",
    "# Redshift\n",
    "z = 0.\n",
    "\n",
    "# Halo mass range [Msun/h] over which to integrate\n",
    "Mmin, Mmax = 1e9, 1e17\n",
    "nM = 256\n",
    "Ms = np.logspace(np.log10(Mmin), np.log10(Mmax), nM)\n",
    "\n",
    "# CAMB\n",
    "zmax_CAMB = 2.\n",
    "kmax_CAMB = 200.\n",
    "\n",
    "# Plot colours\n",
    "col_lin = 'grey'\n",
    "col_mat = 'C0'\n",
    "col_gal = 'C1'\n",
    "col_mg  = 'C4'\n",
    "\n",
    "# Plot line styles\n",
    "ls_li = '-'\n",
    "ls_hm = '-'\n",
    "ls_2h = '--'\n",
    "ls_1h = ':'\n",
    "\n",
    "# Plot labels\n",
    "klab = r'$k\\,/\\,h \\mathrm{Mpc}^{-1}$'\n",
    "Pklab = r'$P(k)/(h^{-1}\\,\\mathrm{Mpc})^3$'"
   ]
  },
  {
   "attachments": {},
   "cell_type": "markdown",
   "id": "98b725d9",
   "metadata": {},
   "source": [
    "Now we initialise `CAMB` and produce a linear matter power spectrum. We have the option here to scale the power by an input `sigma_8` value."
   ]
  },
  {
   "cell_type": "code",
   "execution_count": null,
   "id": "3696cc57",
   "metadata": {},
   "outputs": [],
   "source": [
    "# Sets cosmological parameters in camb to calculate the linear power spectrum\n",
    "pars = camb.CAMBparams()\n",
    "wb = Omega_b*h**2\n",
    "wc = Omega_c*h**2\n",
    "\n",
    "# This function sets standard and helium set using BBN consistency\n",
    "pars.set_cosmology(ombh2=wb, omch2=wc, H0=100.*h, mnu=m_nu, omk=Omega_k)\n",
    "pars.set_dark_energy(w=w, wa=wa, dark_energy_model='ppf') \n",
    "pars.InitPower.set_params(As=As, ns=ns, r=0.)\n",
    "pars.set_matter_power(redshifts=[z], kmax=kmax_CAMB) # Setup the linear matter power spectrum\n",
    "\n",
    "# Scale 'As' to be correct for the desired 'sigma_8' value if necessary\n",
    "if sigma_8_set:\n",
    "    camb_results = camb.get_results(pars)\n",
    "    sigma_8_init = (camb_results.get_sigma8()[[z].index(0.)]).item()\n",
    "    print('Initial sigma_8:', sigma_8_init)\n",
    "    scaling = (sigma_8/sigma_8_init)**2\n",
    "    As *= scaling\n",
    "    pars.InitPower.set_params(As=As, ns=ns, r=0.)\n",
    "\n",
    "# Now get the linear power spectrum\n",
    "Pk_lin = camb.get_matter_power_interpolator(pars, \n",
    "                                            nonlinear=False, \n",
    "                                            hubble_units=True, \n",
    "                                            k_hunit=True, \n",
    "                                            kmax=kmax_CAMB,\n",
    "                                            var1=camb.model.Transfer_tot,\n",
    "                                            var2=camb.model.Transfer_tot, \n",
    "                                            zmax=zmax_CAMB,\n",
    "                                           )\n",
    "Omega_m  = pars.omegam # Also extract the matter density\n",
    "Pks_lin = Pk_lin.P(z, ks) # Single out the linear P(k) interpolator and evaluate linear power\n",
    "camb_results = camb.get_results(pars)\n",
    "sigma_8 = (camb_results.get_sigma8()[[z].index(0.)]).item()\n",
    "if sigma_8_set: print('Final sigma_8:', sigma_8)"
   ]
  },
  {
   "attachments": {},
   "cell_type": "markdown",
   "id": "1bdda81b",
   "metadata": {},
   "source": [
    "Now we can create a halo model, which needs to be reinitialised at each different redshift. In this example notebook we are only doing calculations at a single redshift, so we initialise the halo model with that in mind. We also need to choose a mass function and linear halo bias, in this example these come from `Tinker et al. (2010)`, and we need to choose a halo definition, here we choose $\\Delta_\\mathrm{v}=330$, so haloes are defined to be spherical objects that contain an average density that is $330$ times greater than the mean background universe, which is approximately the virial (spherical-collapse) definition for this cosmology at $z=0$."
   ]
  },
  {
   "cell_type": "code",
   "execution_count": null,
   "id": "faaef5bf",
   "metadata": {},
   "outputs": [],
   "source": [
    "# Initialise halo model\n",
    "hmod = halo.model(z, Omega_m, name='Tinker et al. (2010)', Dv=330.)\n",
    "print(hmod)"
   ]
  },
  {
   "attachments": {},
   "cell_type": "markdown",
   "id": "d52222d4",
   "metadata": {},
   "source": [
    "Now we can find the Lagrangian radii, `Rs`, corresponding the the halo masses, then we can get an array of `sigma(R)` values. This requires an integral over the linear power spectrum times the Fourier transform of a top hat function, which is the oscillatory $\\mathrm{sinc}(kr)$ function. We can get this from `CAMB`."
   ]
  },
  {
   "cell_type": "code",
   "execution_count": null,
   "id": "5a944ac0",
   "metadata": {},
   "outputs": [],
   "source": [
    "# Get sigma(R) from CAMB\n",
    "Rs = hmod.Lagrangian_radius(Ms)\n",
    "sigmaRs = camb_results.get_sigmaR(Rs, hubble_units=True, return_R_z=False)[[z].index(z)]"
   ]
  },
  {
   "attachments": {},
   "cell_type": "markdown",
   "id": "d7b3b017",
   "metadata": {},
   "source": [
    "First, we will use the halo model to compute the matter power spectrum, to do this we need to define a matter halo. We use the `profile` class, which computes the Fourier window function of the halo profile `W(M,k)` that is necessary for the power-spectrum calculation. We break the function $W(M,k)=A(M)U(M,k)/\\bar{n}$ where $W(M,k)$ has dimensions of field multiplied by volume, $A(M)$, or `amp` is the amplitude the field value in each halo profile, and $\\bar{n}$, or `norm` is the field normalisation. Here $A(M)/\\bar{n}$ has dimension of field multiplied by volume and $U(M,k)$ is dimensionless and should tend to unity as k tends to zero, because its real space counter part is normalised.\n",
    "\n",
    "In our case, we are going to compute the power spectrum of matter overdensity (density contrast: $\\delta_{\\rm m}=(\\rho-\\bar\\rho)/\\bar\\rho$), which is dimensionless. We take $A(M)=M$ (`amp=Ms`), $\\bar{n}=\\bar\\rho$ (`norm=hmod.rhom`), such that $N(M)/\\bar{n}$ = $M/\\bar\\rho$ and has dimensions of volume. We could also have set $N(M)=M/\\bar\\rho$ and $\\bar{n}=1$ and would get the same results. The distinction between these two approaches is important for discrete tracers.\n",
    "\n",
    "We also need to set the optional `mass_tracer=True` in the halo profile, to let it know that our profile corresponds to a matter profile. This is important because the contribution to the matter power of haloes below `Mmin`, set above for halo-model integration, is important to the calculation (much of the mass in the Universe is in very low mass haloes), and this flag allows this to be taken into account in a consistent way."
   ]
  },
  {
   "cell_type": "code",
   "execution_count": null,
   "id": "3a7ddd36",
   "metadata": {},
   "outputs": [],
   "source": [
    "# Halo window functions\n",
    "rvs = hmod.virial_radius(Ms)\n",
    "cs = halo.concentration(Ms, z, method='Duffy et al. (2008)', halo_definition='Mvir')\n",
    "Uk = halo.window_function(ks, rvs, cs, profile='NFW')\n",
    "\n",
    "# Create a profile, need mass_tracer=True here\n",
    "matter_profile = halo.profile.Fourier(ks, Ms, Uk, amp=Ms, norm=hmod.rhom, mass_tracer=True) \n",
    "print(matter_profile)"
   ]
  },
  {
   "attachments": {},
   "cell_type": "markdown",
   "id": "f584af20",
   "metadata": {},
   "source": [
    "Now we are in a position to combine our halo model with our matter profile and do a calculation of the power spectrum. Note that profile must be provided as a dictionary: `{'m': matter_profile}` rather than `matter_profile`, where the key `'m'` can be chosen by the user and identifies that the `matter_profile` corresponds to field `'m'`. The reason for this will become apparent soon."
   ]
  },
  {
   "cell_type": "code",
   "execution_count": null,
   "id": "01509d47",
   "metadata": {},
   "outputs": [],
   "source": [
    "# Calculate the halo-model power spectrum\n",
    "Pk_2h, Pk_1h, Pk_hm = hmod.power_spectrum(ks, Pks_lin, Ms, sigmaRs, {'m': matter_profile})"
   ]
  },
  {
   "attachments": {},
   "cell_type": "markdown",
   "id": "801f7cc6",
   "metadata": {},
   "source": [
    "Now let's do some plotting. In this first example we have only provided one profile, the `matter_profile`. So to access the power spectrum we need `Pk_xx['m-m']`."
   ]
  },
  {
   "cell_type": "code",
   "execution_count": null,
   "id": "1a62d3f1",
   "metadata": {},
   "outputs": [],
   "source": [
    "# Initialise plot\n",
    "plt.subplots(3, 1, figsize=(6., 7.), dpi=100)\n",
    "Pkmin, Pkmax = 1e1, 1e5\n",
    "rmin, rmax = 1e-1, 1e2\n",
    "smin, smax = 0.0, 1.1\n",
    "kmin_plot, kmax_plot = 1e-3, 1e1\n",
    "\n",
    "# P(k)\n",
    "plt.subplot(3, 1, 1)\n",
    "plt.loglog(ks, Pks_lin, color=col_lin, label='Linear')\n",
    "plt.loglog(ks, Pk_2h['m-m'], color=col_mat, ls=ls_2h, label='Two-halo term')\n",
    "plt.loglog(ks, Pk_1h['m-m'], color=col_mat, ls=ls_1h, label='One-halo term')\n",
    "plt.loglog(ks, Pk_hm['m-m'], color=col_mat, ls=ls_hm, label='Matter')\n",
    "plt.xticks([])\n",
    "plt.xlim((kmin_plot, kmax_plot))\n",
    "plt.ylabel(r'$P_\\mathrm{mm}(k)\\,/\\,(h^{-1} \\mathrm{Mpc})^3$')\n",
    "plt.ylim((Pkmin, Pkmax))\n",
    "plt.legend(fontsize='9', loc='lower left')\n",
    "\n",
    "# Residual with linear\n",
    "plt.subplot(3, 1, 2)\n",
    "plt.loglog(ks, Pks_lin/Pks_lin, color=col_lin)\n",
    "plt.loglog(ks, Pk_2h['m-m']/Pks_lin, color=col_mat, ls=ls_2h)\n",
    "plt.loglog(ks, Pk_1h['m-m']/Pks_lin, color=col_mat, ls=ls_1h)\n",
    "plt.loglog(ks, Pk_hm['m-m']/Pks_lin, color=col_mat, ls=ls_hm)\n",
    "plt.xticks([])\n",
    "plt.xlim((kmin_plot, kmax_plot))\n",
    "plt.ylabel(r'$P_\\mathrm{mm}(k)\\,/\\,P^\\mathrm{lin}_{\\rm mm}(k)$')\n",
    "plt.ylim((rmin, rmax))\n",
    "\n",
    "# Residual with halo-model matter power\n",
    "plt.subplot(3, 1, 3)\n",
    "plt.semilogx(ks, Pks_lin/Pk_hm['m-m'], color=col_lin, ls='-')\n",
    "plt.semilogx(ks, Pk_2h['m-m']/Pk_hm['m-m'], color=col_mat, ls=ls_2h)\n",
    "plt.semilogx(ks, Pk_1h['m-m']/Pk_hm['m-m'], color=col_mat, ls=ls_1h)\n",
    "plt.semilogx(ks, Pk_hm['m-m']/Pk_hm['m-m'], color=col_mat, ls=ls_hm)\n",
    "plt.xlabel(klab)\n",
    "plt.xlim((kmin_plot, kmax_plot))\n",
    "plt.ylabel(r'$P_\\mathrm{mm}(k)\\,/\\,P_\\mathrm{mm}^\\mathrm{hm}(k)$')\n",
    "plt.ylim((smin, smax))\n",
    "\n",
    "# Finish\n",
    "plt.tight_layout()\n",
    "plt.show()"
   ]
  },
  {
   "attachments": {},
   "cell_type": "markdown",
   "id": "b0c71d8a",
   "metadata": {},
   "source": [
    "The upper panel shows the halo-model matter power spectrum broken into two- and one-halo components, we see that the two-halo term dominates at large scales while the one-halo term dominates at small scales, as expected. We see that the one-halo term has a constant 'shot-noise' contribution at large scales, and we see that the two-halo term deviates from the linear spectrum only at small scales, and only where the one-halo term is dominating the overall spectrum. The shot-noise contribution of the one-halo term at large scales is unphysical, and arises because neither mass nor momentum conservation have been imposed in the initial step of the derivation of the halo model, but this has very little impact in practice, although the one-halo term will eventually (and unphysically) dominate the power at ultra-large scales. The middle panel shows each spectra relative to linear and the bottom shows the contribution of the two- and one-halo terms to the total. Note that each term contributes equally at $k\\sim 0.5 h\\mathrm{Mpc}^{-1}$, which is the transition region at $z=0$. The slight (and unphysical) deviation of the total power from the linear result can be seen at $k\\sim 10^{-3} h\\mathrm{Mpc}^{-1}$."
   ]
  },
  {
   "attachments": {},
   "cell_type": "markdown",
   "id": "8dd944fb",
   "metadata": {},
   "source": [
    "Now let's calculate some galaxy spectra, first we need to specify a halo-occupation distribution (HOD) model to assign galaxies to haloes. In this example we choose a simple HOD, one that illustrates the basic point. Then we must calculate the mean galaxy density (which normalises the galaxy power spectrum) and finally create a galaxy `profile`. Here we use an isothermal profile for galaxies."
   ]
  },
  {
   "cell_type": "code",
   "execution_count": null,
   "id": "1cee60e8",
   "metadata": {},
   "outputs": [],
   "source": [
    "# Simple HOD model\n",
    "def HOD(M, Mmin):\n",
    "    return np.rint(M/Mmin)\n",
    "Ng = HOD(Ms, Mmin=1e11) # Number of galaxies at each halo mass\n",
    "\n",
    "# Compute the mean galaxy density corresponding to our HOD\n",
    "rhog = hmod.average(Ms, sigmaRs, Ng)\n",
    "print('Mean galaxy density [(Mpc/h)^-3]:', rhog)\n",
    "\n",
    "# Initialise profile class, we need discrete_tracer=True here because galaxies are discrete\n",
    "Uk = halo.window_function(ks, rvs, profile='isothermal')\n",
    "galaxy_profile = halo.profile.Fourier(ks, Ms, Uk, amp=Ng, var=Ng, norm=rhog, discrete_tracer=True) \n",
    "print(galaxy_profile)"
   ]
  },
  {
   "attachments": {},
   "cell_type": "markdown",
   "id": "89fda2b1",
   "metadata": {},
   "source": [
    "Now that we have created both matter and galaxy profiles, it is easy to cross correlate them by supplying a list of the two halo profiles. When we do this, the code calculates both auto spectra and also the cross spectrum. If we supply `n` halo profiles then we get the triangle number of `n` independent auto/cross spectra computed. These are stored and accessed via the keys of `Pk_xx`. For example, if we have `profiles = {'u': profile_u, 'v': profile_v}` then `Pk_xx['u-u']` will store the auto spectrum corresponding to `profile_u`, `Pk_xx['v-v']` will store the same but for `profile_v`, the cross spectra can be accessed via either of `Pk_xx['u-v']` or  `Pk_xx['v-u']`, so there is some redundancy but the cross calculations are performed only once."
   ]
  },
  {
   "cell_type": "code",
   "execution_count": null,
   "id": "6c0cc689",
   "metadata": {},
   "outputs": [],
   "source": [
    "# Calculate the halo-model power spectrum\n",
    "profiles = {'m': matter_profile, 'g': galaxy_profile}\n",
    "Pk_2h, Pk_1h, Pk_hm = hmod.power_spectrum(ks, Pks_lin, Ms, sigmaRs, profiles)"
   ]
  },
  {
   "attachments": {},
   "cell_type": "markdown",
   "id": "2c6d6dc2",
   "metadata": {},
   "source": [
    "Now we can plot, noting that `Pk_xx['m-m']` singles out the matter-matter (auto) spectrum, `Pk_xx['g-g']` singles out the galaxy-galaxy (auto) spectrum, and `Pk_xx['m-g']` singles out the matter-galaxy cross spectrum, and is identical to `Pk_xx['g-m']`:"
   ]
  },
  {
   "cell_type": "code",
   "execution_count": null,
   "id": "4bb07d03",
   "metadata": {},
   "outputs": [],
   "source": [
    "# Initialise plot\n",
    "plt.subplots(3, 1, figsize=(6., 7.))\n",
    "Pkmin, Pkmax = 1e1, 1e5\n",
    "kmin_plot, kmax_plot = 1e-3, 1e1\n",
    "rmin, rmax = 1e-1, 3e2\n",
    "smin, smax = 0., 5.5\n",
    "\n",
    "# Lists for plots\n",
    "Pks = [Pk_2h['m-m'], Pk_1h['m-m'], Pk_hm['m-m'], Pk_hm['g-g'], Pk_hm['m-g']]\n",
    "cols = 3*[col_mat]+[col_gal, col_mg]\n",
    "lss = [ls_2h, ls_1h, ls_hm, ls_hm, ls_hm]\n",
    "labs = [None, None, 'Matter', 'Galaxy', 'Matter-galaxy']\n",
    "\n",
    "# P(k)\n",
    "plt.subplot(3, 1, 1)\n",
    "plt.loglog(ks, Pks_lin, color=col_lin, label='Linear')\n",
    "for (ls, lab) in zip([ls_2h, ls_1h], ['Two-halo term', 'One-halo term']):\n",
    "    plt.plot(np.nan, ls=ls, label=lab, color='black')\n",
    "for (Pk, col, ls, lab) in zip(Pks, cols, lss, labs):\n",
    "    plt.loglog(ks, Pk, color=col, ls=ls, label=lab)\n",
    "plt.xticks([])\n",
    "plt.xlim((kmin_plot, kmax_plot))\n",
    "plt.ylabel(r'$P_{\\rm uv}(k)\\,/\\,(h^{-1} \\mathrm{Mpc})^3$')\n",
    "plt.ylim((Pkmin, Pkmax))\n",
    "plt.legend(ncol=2, loc='lower left', fontsize='9')\n",
    "\n",
    "# Lists for plots\n",
    "Pks = [Pk_2h['m-m'], Pk_1h['m-m'], Pk_hm['m-m'],\n",
    "       Pk_2h['g-g'], Pk_1h['g-g'], Pk_hm['g-g'],\n",
    "       Pk_2h['m-g'], Pk_1h['m-g'], Pk_hm['m-g']]\n",
    "cols = 3*[col_mat]+3*[col_gal]+3*[col_mg]\n",
    "lss = 3*[ls_2h, ls_1h, ls_hm]\n",
    "\n",
    "# Residual with linear\n",
    "plt.subplot(3, 1, 2)\n",
    "plt.loglog(ks, Pks_lin/Pks_lin, color=col_lin)\n",
    "for (Pk, col, ls) in zip(Pks, cols, lss):\n",
    "    plt.loglog(ks, Pk/Pks_lin, color=col, ls=ls)\n",
    "plt.xticks([])\n",
    "plt.xlim((kmin_plot, kmax_plot))\n",
    "plt.ylabel(r'$P_{\\rm uv}(k)\\,/\\,P^\\mathrm{lin}(k)$')\n",
    "plt.ylim((rmin, rmax))\n",
    "\n",
    "# Residual with halo-model matter power\n",
    "plt.subplot(3, 1, 3)\n",
    "plt.semilogx(ks, Pks_lin/Pk_hm['m-m'], color=col_lin)\n",
    "for (Pk, col, ls) in zip(Pks, cols, lss):\n",
    "    plt.semilogx(ks, Pk/Pk_hm['m-m'], color=col, ls=ls)\n",
    "plt.xlabel(klab)\n",
    "plt.xlim((kmin_plot, kmax_plot))\n",
    "plt.ylabel(r'$P_{\\rm uv}(k)\\,/\\,P_\\mathrm{mm}(k)$')\n",
    "plt.ylim((smin, smax))\n",
    "\n",
    "# Finish\n",
    "plt.show()"
   ]
  },
  {
   "attachments": {},
   "cell_type": "markdown",
   "id": "9d7f5783",
   "metadata": {},
   "source": [
    "We see that all spectra have the same shape at large scales, but that those spectra that involve galaxies are offset in amplitude. This tells us that the galaxy sample is positively biased, with $b\\simeq1.5$. At smaller scales the spectra are all similarly shaped, but the exact scale dependence is different for each. This arises because of the different way that matter and galaxies occupy haloes."
   ]
  },
  {
   "attachments": {},
   "cell_type": "markdown",
   "id": "dffc78b8",
   "metadata": {},
   "source": [
    "We can also use `halomodel` to calculate the 3D spectra relevant to tSZ, for this we use the 'universal pressure profile' (Arnaud et al. 2010) to for the halo electron pressure distribution. In the example here we show how to create `profile`s in configuration (real) space, as opposed to Fourier space. Using configuration-space profiles is convenient for many applications of the halo model, but comes with some additional overhead as the profiles need to be Fourier transformed internally, which is (relatively) computationally expensive."
   ]
  },
  {
   "cell_type": "code",
   "execution_count": null,
   "id": "da3853df",
   "metadata": {},
   "outputs": [],
   "source": [
    "# Universal pressure profile: UPP\n",
    "def rho_UPP(r, M, rv, c, z, Om_m):\n",
    "    alphap = 0.12\n",
    "    r500 = rv/2. # Good enough approximation to this example\n",
    "    H0 = 100. # TODO: Not sure on units here!\n",
    "    def p(x):\n",
    "        P0, c500, alpha, beta, gamma = 6.41, 1.81, 1.33, 4.13, 0.31\n",
    "        y = c500*x\n",
    "        f1 = y**(2.-gamma)\n",
    "        f2 = (1.+y**alpha)**(beta-gamma)/alpha\n",
    "        return P0*(h/0.7)**(-3./2.)*f1*(r500/c500)**2/f2\n",
    "    a = 1./(1.+z)\n",
    "    H = H0*np.sqrt(Om_m*(1.+z)**3+(1.-Om_m)) # Hubble parameter assuming late-time LCDM\n",
    "    f1 = 1.65*(h/0.7)**2*H**(8./3.)\n",
    "    f2 = (M/2.1e14)**(2./3.+alphap)\n",
    "    return f1*f2*p(r/r500)*4.*np.pi\n",
    "Prho_UPP = lambda r, M, rv, c: rho_UPP(r, M, rv, c, z, hmod.Om_m)\n",
    "\n",
    "# NFW profile (multiplied by 4pir^2 with constant factors removed)\n",
    "def Prho_NFW(r, M, rv, c):\n",
    "    rs = rv/c\n",
    "    return r/(1.+r/rs)**2\n",
    "\n",
    "# Isothermal profile (multiplied by 4pir^2 with constant factors removed gives a constant)\n",
    "def Prho_iso(r, M, rv, c):\n",
    "    return 1.\n",
    "\n",
    "# Create profiles in configuration space\n",
    "print('Matter profile')\n",
    "matter_profile = halo.profile.configuration(ks, Ms, Prho_NFW, rvs, cs, amp=Ms, norm=hmod.rhom, mass_tracer=True)\n",
    "print(matter_profile)\n",
    "print('Galaxy profile')\n",
    "galaxy_profile = halo.profile.configuration(ks, Ms, Prho_iso, rvs, cs, amp=Ng, norm=rhog, discrete_tracer=True)\n",
    "print(galaxy_profile)\n",
    "print('Pressure profile')\n",
    "pressure_profile = halo.profile.configuration(ks, Ms, Prho_UPP, rvs, cs)\n",
    "print(pressure_profile)\n",
    "\n",
    "# Power spectrum calculation\n",
    "halo_profiles = {'matter': matter_profile, 'galaxy': galaxy_profile, 'pressure': pressure_profile}\n",
    "Pk_2h, Pk_1h, Pk_hm = hmod.power_spectrum(ks, Pks_lin, Ms, sigmaRs, halo_profiles)"
   ]
  },
  {
   "cell_type": "code",
   "execution_count": null,
   "id": "53696339",
   "metadata": {},
   "outputs": [],
   "source": [
    "# Initialise\n",
    "plt.subplots(1, 2, figsize=(10, 4))\n",
    "Pkmin, Pkmax = 1e1, 1e5\n",
    "pfac = 0.02 # Scaling factor for pressure to bring it into the same range as other spectra\n",
    "\n",
    "# Auto spectra\n",
    "plt.subplot(1, 2, 1)\n",
    "for name, col, fac in zip(['matter-matter', 'galaxy-galaxy', 'pressure-pressure'], [col_mat, col_gal, 'purple'], [1., 1., pfac**2]):\n",
    "    plt.loglog(ks, fac*Pk_2h[name], ls=ls_2h, color=col)\n",
    "    plt.loglog(ks, fac*Pk_1h[name], ls=ls_1h, color=col)\n",
    "    plt.loglog(ks, fac*Pk_hm[name], ls=ls_hm, color=col, label=name)\n",
    "plt.xlabel(klab)\n",
    "plt.xlim((kmin, kmax))\n",
    "plt.ylabel(Pklab)\n",
    "plt.ylim((Pkmin, Pkmax))\n",
    "plt.legend()\n",
    "\n",
    "# Cross spectra\n",
    "plt.subplot(1, 2, 2)\n",
    "for name, col, fac in zip(['matter-galaxy', 'matter-pressure', 'galaxy-pressure'], ['royalblue', 'forestgreen', 'deeppink'], [1., pfac, pfac]):\n",
    "    plt.loglog(ks, fac*Pk_2h[name], ls=ls_2h, color=col)\n",
    "    plt.loglog(ks, fac*Pk_1h[name], ls=ls_1h, color=col)\n",
    "    plt.loglog(ks, fac*Pk_hm[name], ls=ls_hm, color=col, label=name)\n",
    "plt.xlabel(klab)\n",
    "plt.xlim((kmin, kmax))\n",
    "plt.yticks([])\n",
    "plt.ylim((Pkmin, Pkmax))\n",
    "plt.legend()\n",
    "\n",
    "# Finalise\n",
    "plt.tight_layout()\n",
    "plt.show()"
   ]
  },
  {
   "attachments": {},
   "cell_type": "markdown",
   "id": "6f4d515c",
   "metadata": {},
   "source": [
    "We see that we can compute the auto and cross spectra of a new tracer very easily using `halomodel`."
   ]
  }
 ],
 "metadata": {
  "kernelspec": {
   "display_name": "halomodel-ZbihH8Ur-py3.10",
   "language": "python",
   "name": "python3"
  },
  "language_info": {
   "codemirror_mode": {
    "name": "ipython",
    "version": 3
   },
   "file_extension": ".py",
   "mimetype": "text/x-python",
   "name": "python",
   "nbconvert_exporter": "python",
   "pygments_lexer": "ipython3",
   "version": "3.10.9"
  },
  "vscode": {
   "interpreter": {
    "hash": "392dc21fcc4fd9ef56c379de2eca7a3d5b745ad122ab4cfc3903add347a64f37"
   }
  }
 },
 "nbformat": 4,
 "nbformat_minor": 5
}

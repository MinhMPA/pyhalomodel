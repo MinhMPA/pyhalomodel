{
 "cells": [
  {
   "attachments": {},
   "cell_type": "markdown",
   "id": "18dbf725",
   "metadata": {},
   "source": [
    "## Dimensionless multiplicity function $M^2 n(M)/\\bar\\rho$ and linear halo bias $b(M)$"
   ]
  },
  {
   "cell_type": "code",
   "execution_count": null,
   "id": "8be2cdf0",
   "metadata": {},
   "outputs": [],
   "source": [
    "# Standard imports\n",
    "import numpy as np\n",
    "import matplotlib.pyplot as plt\n",
    "\n",
    "# Third-party imports\n",
    "import camb\n",
    "\n",
    "# Project imports\n",
    "import pyhalomodel as halo"
   ]
  },
  {
   "cell_type": "code",
   "execution_count": null,
   "id": "0c49ef79",
   "metadata": {},
   "outputs": [],
   "source": [
    "# Set cosmological parameters\n",
    "Omega_c = 0.25\n",
    "Omega_b = 0.05\n",
    "Omega_k = 0.0\n",
    "h = 0.7\n",
    "As = 1.97448e-9\n",
    "ns = 0.96\n",
    "w = -1.0\n",
    "wa = 0.0\n",
    "m_nu = 0.0 # in eV\n",
    "sigma_8_set = True # If true uses the following value\n",
    "sigma_8  = 0.8\n",
    "\n",
    "# Halo mass range [Msun/h]\n",
    "Mmin = 1e7; Mmax = 1e17; nM = 256\n",
    "Ms = np.logspace(np.log10(Mmin), np.log10(Mmax), nM)\n",
    "\n",
    "# CAMB parameters\n",
    "zmax_CAMB = 2.\n",
    "kmax_CAMB = 200.\n",
    "\n",
    "# Redshifts\n",
    "z = 0.\n",
    "zs = [1., 0.] # CAMB reorders from high-z to low-z, so we define it like this from the start to avoid confusion"
   ]
  },
  {
   "cell_type": "code",
   "execution_count": null,
   "id": "3696cc57",
   "metadata": {},
   "outputs": [],
   "source": [
    "# Sets cosmological parameters in camb to calculate the linear power spectrum\n",
    "pars = camb.CAMBparams()\n",
    "wb = Omega_b*h**2\n",
    "wc = Omega_c*h**2\n",
    "\n",
    "# This function sets standard and helium set using BBN consistency\n",
    "pars.set_cosmology(ombh2=wb, omch2=wc, H0=100.*h, mnu=m_nu, omk=Omega_k)\n",
    "pars.set_dark_energy(w=w, wa=wa, dark_energy_model='ppf') \n",
    "pars.InitPower.set_params(As=As, ns=ns, r=0)\n",
    "pars.set_matter_power(redshifts=zs, kmax=kmax_CAMB) # Setup the linear matter power spectrum\n",
    "\n",
    "# extract parameters from CAMB\n",
    "Omega_m  = pars.omegam \n",
    "\n",
    "# Set sigma_8 if necessary\n",
    "if sigma_8_set:\n",
    "    camb_results = camb.get_results(pars)\n",
    "    sigma_8_init = (camb_results.get_sigma8()[zs.index(0.)]).item()\n",
    "    scaling = (sigma_8/sigma_8_init)**2\n",
    "    As *= scaling\n",
    "    pars.InitPower.set_params(As=As, ns=ns, r=0)\n",
    "\n",
    "# Get linear power spectrum\n",
    "Pk_lin = camb.get_matter_power_interpolator(pars, \n",
    "                                            nonlinear = False, \n",
    "                                            hubble_units = True, \n",
    "                                            k_hunit = True, \n",
    "                                            kmax = kmax_CAMB,\n",
    "                                            var1 = camb.model.Transfer_tot,\n",
    "                                            var2 = camb.model.Transfer_tot, \n",
    "                                            zmax = zmax_CAMB,\n",
    "                                           )\n",
    "Pk_lin = Pk_lin.P # Single out the linear P(k) interpolator\n",
    "camb_results = camb.get_results(pars)\n",
    "sigma_8 = (camb_results.get_sigma8()[zs.index(0.)]).item()"
   ]
  },
  {
   "cell_type": "code",
   "execution_count": null,
   "id": "89b00310",
   "metadata": {},
   "outputs": [],
   "source": [
    "mass_functions = [\n",
    "    'Sheth & Tormen (1999)',\n",
    "    'Tinker et al. (2010)',\n",
    "    'Despali et al. (2016)',\n",
    "]\n",
    "\n",
    "# Calculate b(M) and n(M)\n",
    "bs, Fs = [], []\n",
    "for iz, z in enumerate(zs):\n",
    "    for mass_function in mass_functions:\n",
    "        print(mass_function, 'z = %1.1f'%(z))\n",
    "        hmod = halo.model(z, Omega_m, name=mass_function, Dv=330.)\n",
    "        Rs = hmod.Lagrangian_radius(Ms)\n",
    "        sigmaRs = camb_results.get_sigmaR(Rs, hubble_units=True, return_R_z=False)[zs.index(z)]\n",
    "        b = hmod.linear_bias(Ms, sigmaRs)\n",
    "        F = hmod.multiplicity_function(Ms, sigmaRs)\n",
    "        bs.append(b)\n",
    "        Fs.append(F)"
   ]
  },
  {
   "cell_type": "code",
   "execution_count": null,
   "id": "5bbf1948",
   "metadata": {},
   "outputs": [],
   "source": [
    "# Make the plot\n",
    "plt.subplots(2, 1, figsize=(5, 4), dpi=100, sharex=True)\n",
    "n = len(mass_functions)\n",
    "Mmin_plot, Mmax_plot = 1e9, 1e16\n",
    "\n",
    "# Mass function\n",
    "plt.subplot(2, 1, 1)\n",
    "plt.plot(Ms[0], np.nan, color='black', ls='-', label=r'$z=0$')\n",
    "plt.plot(Ms[0], np.nan, color='black', ls='--', label=r'$z=1$')\n",
    "for i, mass_function in enumerate(mass_functions):\n",
    "    plt.plot(Ms, Fs[i], ls='--', color='C%d'%i)\n",
    "    plt.plot(Ms, Fs[i+n], ls='-', color='C%d'%i)\n",
    "plt.xscale('log')\n",
    "plt.gca().set_xticklabels([])\n",
    "plt.ylim((0., 0.06))\n",
    "plt.ylabel(r'$M^2 n(M)/\\bar\\rho$')\n",
    "plt.xlim((Mmin_plot, Mmax_plot))\n",
    "plt.legend()\n",
    "\n",
    "# Linear bias\n",
    "plt.subplot(2, 1, 2)\n",
    "plt.axhline(1., color='black')\n",
    "for i, mass_function in enumerate(mass_functions):\n",
    "    plt.plot(Ms, bs[i], ls='--', color='C%d'%i)\n",
    "    plt.plot(Ms, bs[i+n], ls='-', color='C%d'%i, label=mass_function)\n",
    "plt.xlabel(r'$M / h^{-1} M_\\odot$')\n",
    "plt.xscale('log')\n",
    "plt.ylim((0., 5.))\n",
    "plt.ylabel(r'$b(M)$')\n",
    "\n",
    "# Common x-axis\n",
    "plt.xlim((Mmin_plot, Mmax_plot))\n",
    "plt.legend()\n",
    "\n",
    "plt.savefig('plots/hmf_and_bias.pdf',bbox_inches='tight')\n",
    "plt.show()"
   ]
  }
 ],
 "metadata": {
  "kernelspec": {
   "display_name": "pyhalomodel-9x4PpIM0-py3.10",
   "language": "python",
   "name": "python3"
  },
  "language_info": {
   "codemirror_mode": {
    "name": "ipython",
    "version": 3
   },
   "file_extension": ".py",
   "mimetype": "text/x-python",
   "name": "python",
   "nbconvert_exporter": "python",
   "pygments_lexer": "ipython3",
   "version": "3.10.9"
  },
  "vscode": {
   "interpreter": {
    "hash": "2ba9d06372f471ba0c67d5ca201ae409f948f5898d6a308c2de7ac25e888f9d0"
   }
  }
 },
 "nbformat": 4,
 "nbformat_minor": 5
}

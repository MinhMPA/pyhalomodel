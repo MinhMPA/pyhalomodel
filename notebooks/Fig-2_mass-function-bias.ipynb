{
 "cells": [
  {
   "attachments": {},
   "cell_type": "markdown",
   "id": "18dbf725",
   "metadata": {},
   "source": [
    "## Fig 2: Dimensionless multiplicity function $M^2 n(M)/\\bar\\rho$ and linear halo bias $b(M)$"
   ]
  },
  {
   "cell_type": "code",
   "execution_count": null,
   "id": "8be2cdf0",
   "metadata": {},
   "outputs": [],
   "source": [
    "# Standard imports\n",
    "import sys\n",
    "import numpy as np\n",
    "import matplotlib.pyplot as plt\n",
    "\n",
    "# Third-party imports\n",
    "import camb # Calculates the linear matter power spectrum\n",
    "\n",
    "# Halo Model library imports\n",
    "sys.path.append('../src/')\n",
    "import halomodel as halo\n",
    "import cosmology"
   ]
  },
  {
   "cell_type": "code",
   "execution_count": null,
   "id": "0c49ef79",
   "metadata": {},
   "outputs": [],
   "source": [
    "# Set cosmological parameters\n",
    "Omega_c = 0.25\n",
    "Omega_b = 0.05\n",
    "Omega_k = 0.0\n",
    "h = 0.7\n",
    "As = 1.97448e-9\n",
    "ns = 0.96\n",
    "w = -1.0\n",
    "wa = 0.0\n",
    "m_nu = 0.0 # in eV\n",
    "sigma_8_set = True # If true uses the following value\n",
    "sigma_8_in  = 0.7"
   ]
  },
  {
   "cell_type": "code",
   "execution_count": null,
   "id": "6ffe59e6",
   "metadata": {},
   "outputs": [],
   "source": [
    "# CAMB parameters\n",
    "zmax_CAMB = 2.\n",
    "kmax_CAMB = 200.\n",
    "\n",
    "# Redshifts\n",
    "zs = [1., 0.] # CAMB reorders from high-z to low-z, so we define it like this from the start to avoid confusion"
   ]
  },
  {
   "cell_type": "code",
   "execution_count": null,
   "id": "3696cc57",
   "metadata": {},
   "outputs": [],
   "source": [
    "# Sets cosmological parameters in camb to calculate the linear power spectrum\n",
    "pars = camb.CAMBparams()\n",
    "wb = Omega_b*h**2\n",
    "wc = Omega_c*h**2\n",
    "\n",
    "# This function sets standard and helium set using BBN consistency\n",
    "pars.set_cosmology(ombh2=wb, omch2=wc, H0=100.*h, mnu=m_nu, omk=Omega_k)\n",
    "pars.set_dark_energy(w=w, wa=wa, dark_energy_model='ppf') \n",
    "pars.InitPower.set_params(As=As, ns=ns, r=0)\n",
    "pars.set_matter_power(redshifts=zs, kmax=kmax_CAMB) # Setup the linear matter power spectrum\n",
    "\n",
    "# extract parameters from CAMB\n",
    "Omega_m  = pars.omegam \n",
    "camb_results = camb.get_results(pars)\n",
    "sigma_8 = (camb_results.get_sigma8()[zs.index(0.)]).item()\n",
    "\n",
    "if sigma_8_set:\n",
    "    scaling = (sigma_8_in/sigma_8)**2\n",
    "    As *= scaling\n",
    "    pars.InitPower.set_params(As=As, ns=ns, r=0)\n",
    "\n",
    "Pk_lin = camb.get_matter_power_interpolator(pars, \n",
    "                                            nonlinear = False, \n",
    "                                            hubble_units = True, \n",
    "                                            k_hunit = True, \n",
    "                                            kmax = kmax_CAMB,\n",
    "                                            var1 = camb.model.Transfer_tot,\n",
    "                                            var2 = camb.model.Transfer_tot, \n",
    "                                            zmax = zmax_CAMB,\n",
    "                                           )\n",
    "Pk_lin = Pk_lin.P # Single out the linear P(k) interpolator\n",
    "camb_results = camb.get_results(pars)\n",
    "sigma_8 = (camb_results.get_sigma8()[zs.index(0.)]).item()"
   ]
  },
  {
   "cell_type": "code",
   "execution_count": null,
   "id": "21892cc0",
   "metadata": {},
   "outputs": [],
   "source": [
    "# Initialise halo model\n",
    "hmod = halo.model(z, Omega_m, name='Tinker et al. (2010)', Dv=330.)"
   ]
  },
  {
   "cell_type": "code",
   "execution_count": null,
   "id": "5a944ac0",
   "metadata": {},
   "outputs": [],
   "source": [
    "# Halo mass range [Msun/h]\n",
    "Mmin = 1e9; Mmax = 1e15; nM = 129\n",
    "Ms = np.logspace(np.log10(Mmin), np.log10(Mmax), nM)\n",
    "\n",
    "# Lagrangian radii corresponding to halo masses; \n",
    "Rs = hmod.Lagrangian_radius(Ms)"
   ]
  },
  {
   "cell_type": "code",
   "execution_count": null,
   "id": "64d82699",
   "metadata": {},
   "outputs": [],
   "source": [
    "# Get sigma(R) from CAMB\n",
    "sigmaRs_camb = cosmology.sigmaR(Rs, camb_results, integration_type='camb')\n",
    "sigmaRs = sigmaRs_camb"
   ]
  },
  {
   "cell_type": "code",
   "execution_count": null,
   "id": "89b00310",
   "metadata": {},
   "outputs": [],
   "source": [
    "mass_functions = [\n",
    "    'Sheth & Tormen (1999)',\n",
    "    'Tinker et al. (2010)',\n",
    "    'Despali et al. (2016)',\n",
    "]\n",
    "\n",
    "# Calculate b(M) and n(M)\n",
    "# NOTE: Remove slow calculation with sigma(R) from P(k)\n",
    "bs = []\n",
    "Fs = []\n",
    "for iz, z in enumerate(zs):\n",
    "    for mass_function in mass_functions:\n",
    "        print(mass_function, 'z = %1.1f'%(z))\n",
    "        hmod = halo.model(z, Omega_m, name=mass_function, Dv=330.)\n",
    "        b = hmod.linear_bias(Ms, sigmas=sigmaRs[iz])\n",
    "        F = hmod.multiplicity_function(Ms, sigma=lambda R: camb_results.get_sigmaR(R, hubble_units=True, return_R_z=False)[iz])\n",
    "        bs.append(b)\n",
    "        Fs.append(F)"
   ]
  },
  {
   "cell_type": "code",
   "execution_count": null,
   "id": "5bbf1948",
   "metadata": {},
   "outputs": [],
   "source": [
    "# Make the plot\n",
    "plt.subplots(2, 1, figsize=(5, 4), dpi=100, sharex=True)\n",
    "n = len(mass_functions)\n",
    "\n",
    "# Mass function\n",
    "plt.subplot(2, 1, 1)\n",
    "plt.plot(Ms[0], np.nan, color='black', ls='-', label=r'$z=0$')\n",
    "plt.plot(Ms[0], np.nan, color='black', ls='--', label=r'$z=1$')\n",
    "for i, mass_function in enumerate(mass_functions):\n",
    "    plt.plot(Ms, Fs[i], ls='--', color='C%d'%i)\n",
    "    plt.plot(Ms, Fs[i+n], ls='-', color='C%d'%i)\n",
    "plt.xscale('log')\n",
    "plt.gca().set_xticklabels([])\n",
    "plt.ylim((0., 0.06))\n",
    "plt.ylabel(r'$M^2 n(M)/\\bar\\rho$')\n",
    "plt.xlim((Ms[0], Ms[-1]))\n",
    "plt.legend()\n",
    "\n",
    "# Linear bias\n",
    "plt.subplot(2, 1, 2)\n",
    "plt.axhline(1., color='black')\n",
    "for i, mass_function in enumerate(mass_functions):\n",
    "    plt.plot(Ms, bs[i], ls='--', color='C%d'%i)\n",
    "    plt.plot(Ms, bs[i+n], ls='-', color='C%d'%i, label=mass_function)\n",
    "plt.xlabel(r'$M / h^{-1} M_\\odot$')\n",
    "plt.xscale('log')\n",
    "plt.ylim((0., 5.))\n",
    "plt.ylabel(r'$b(M)$')\n",
    "\n",
    "# Common x-axis\n",
    "plt.xlim((Ms[0], Ms[-1]))\n",
    "plt.legend()\n",
    "\n",
    "plt.savefig('plots/hmf_and_bias.pdf',bbox_inches='tight')\n",
    "plt.show()"
   ]
  }
 ],
 "metadata": {
  "kernelspec": {
   "display_name": "Python 3",
   "language": "python",
   "name": "python3"
  },
  "language_info": {
   "codemirror_mode": {
    "name": "ipython",
    "version": 3
   },
   "file_extension": ".py",
   "mimetype": "text/x-python",
   "name": "python",
   "nbconvert_exporter": "python",
   "pygments_lexer": "ipython3",
   "version": "3.10.9"
  },
  "vscode": {
   "interpreter": {
    "hash": "aee8b7b246df8f9039afb4144a1f6fd8d2ca17a180786b69acc140d282b71a49"
   }
  }
 },
 "nbformat": 4,
 "nbformat_minor": 5
}

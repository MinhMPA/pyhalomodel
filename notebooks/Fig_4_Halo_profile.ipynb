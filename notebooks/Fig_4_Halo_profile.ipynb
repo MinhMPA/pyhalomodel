{
 "cells": [
  {
   "cell_type": "markdown",
   "id": "663e8527",
   "metadata": {},
   "source": [
    "# Fig 4: NFW profile normalised Fourier transforms\n",
    "\n",
    "This notebook makes figure 4 in the halo model review `(Asgari,Heymans and Mead 2022)`."
   ]
  },
  {
   "cell_type": "code",
   "execution_count": null,
   "id": "ff1314cc",
   "metadata": {},
   "outputs": [],
   "source": [
    "# Standard imports\n",
    "import sys\n",
    "import numpy as np\n",
    "import matplotlib.pyplot as plt\n",
    "\n",
    "# Imports from the halo model repo\n",
    "sys.path.append('../halomodel/')\n",
    "import halomodel"
   ]
  },
  {
   "cell_type": "code",
   "execution_count": null,
   "id": "cc2d0090",
   "metadata": {},
   "outputs": [],
   "source": [
    "# Parameters\n",
    "\n",
    "# k range\n",
    "kmin = 1e-1; kmax = 1e1\n",
    "nk = 129\n",
    "\n",
    "# Halo parameters\n",
    "M_fid = 1e14\n",
    "\n",
    "rk = 1.\n",
    "\n",
    "# Cosmology\n",
    "halo_definition = 'Mvir'\n",
    "Dv = 330.\n",
    "Om_m = 0.3\n",
    "z = 0."
   ]
  },
  {
   "cell_type": "markdown",
   "id": "43ed0012",
   "metadata": {},
   "source": [
    "Setup values for an NFW profile:\n",
    "$\\rho(r)=\\frac{\\rho_{\\rm s}}{r/r_{\\rm s}(1+r/r_{\\rm s})^2}$\n",
    "The halo is truncated at the virial radius, `rv_fid` and $r_{\\rm s}$ is defined using $r_{\\rm s}= r_{\\rm v}/c$, where c is the concentraion, taken from [Duffy et al. (2008)](https://arxiv.org/abs/0804.2486)."
   ]
  },
  {
   "cell_type": "code",
   "execution_count": null,
   "id": "cf745dbf",
   "metadata": {},
   "outputs": [],
   "source": [
    "# Fiducial values\n",
    "hmod = halomodel.halo_model(z, Om_m, Dv=Dv)\n",
    "\n",
    "# find the virial radius for the given halo mass: M_fid, halo definition: Dv and matter density parameter: Om_m\n",
    "rv_fid = hmod.virial_radius(M_fid)\n",
    "# find concentration \n",
    "#c_fid = hmod.conc_Duffy(M_fid, z, halo_definition='Mvir')\n",
    "c_fid = halomodel.concentration(M_fid, z, halo_definition=halo_definition)\n",
    "rs_fid = rv_fid/c_fid\n",
    "kv_fid = rk/rv_fid\n",
    "ks_fid = rk/rs_fid\n",
    "\n",
    "print('Fiducial halo')\n",
    "print('Mass [log10(Msun/h)]):', np.log10(M_fid))\n",
    "print('Concentration:', c_fid)\n",
    "print('Virial radius [Mpc/h]:', rv_fid)\n",
    "print('Scale radius [Mpc/h]:', rs_fid)\n",
    "print('Virial wavenumber [h/Mpc]:', kv_fid)\n",
    "print('Scale wavenumber [h/Mpc]:', ks_fid)\n",
    "print('')\n",
    "\n",
    "# Fill arrays\n",
    "ks = np.logspace(np.log10(kmin), np.log10(kmax), nk)\n",
    "\n",
    "# get the Fourier transform of the NFW profile\n",
    "#Wk = halomodel.win_NFW(ks, rv_fid, c_fid)\n",
    "Wk = halomodel.halo_window_function(ks, rv_fid, c_fid, profile='NFW')\n",
    "\n",
    "# Varying halo mass\n",
    "Mmin, Mmax = M_fid/10., M_fid*10.\n",
    "nM = 11\n",
    "Ms = np.logspace(np.log10(Mmin), np.log10(Mmax), nM)\n",
    "\n",
    "# Fill Wk arrays with varying M\n",
    "cs = []; rvs = []; Wks_M = []#; Wks_rv = []; Wks_c = []\n",
    "for M in Ms:\n",
    "    rv = hmod.virial_radius(M)\n",
    "    rvs.append(rv)\n",
    "    c = halomodel.concentration(M, z, halo_definition=halo_definition)\n",
    "    Wk = halomodel.halo_window_function(ks, rv, c, profile='NFW')\n",
    "    cs.append(c)\n",
    "    Wks_M.append(Wk)\n",
    "    \n",
    "print('Minimum-mass halo')\n",
    "print('Mass [log10(Msun/h)]):', np.log10(Ms[0]))\n",
    "print('Concentration:', cs[0])\n",
    "print('Virial radius [Mpc/h]:', rvs[0])\n",
    "print('')\n",
    "\n",
    "print('Maximum-mass halo')\n",
    "print('Mass [log10(Msun/h)]):', np.log10(Ms[-1]))\n",
    "print('Concentration:', cs[-1])\n",
    "print('Virial radius [Mpc/h]:', rvs[-1])\n",
    "print('')"
   ]
  },
  {
   "cell_type": "markdown",
   "id": "7755b36a",
   "metadata": {},
   "source": [
    "Now lets make Figure 4. "
   ]
  },
  {
   "cell_type": "code",
   "execution_count": null,
   "id": "240ff4d7",
   "metadata": {},
   "outputs": [],
   "source": [
    "Umin = 0.\n",
    "Umax = 1.05\n",
    "\n",
    "xlaboff = 0.7\n",
    "ylab = 0.83\n",
    "colors = plt.cm.coolwarm(np.linspace(0, 1, nM))\n",
    "\n",
    "plt.figure(figsize=(5, 2.5),dpi=100)\n",
    "plt.axvline(kv_fid, color='black', ls='--')\n",
    "plt.axvline(ks_fid, color='black', ls='--')\n",
    "plt.text(xlaboff*kv_fid, 0.55, r'$1/r_\\mathrm{v}$')\n",
    "plt.text(xlaboff*ks_fid, 0.95, r'$1/r_\\mathrm{s}$')\n",
    "for iM in [0, (nM-1)//2, -1]:\n",
    "    plt.plot(np.nan, color=colors[iM],  label='$10^{%d}\\,h^{-1}M_\\odot$'%(np.log10(Ms[iM])))\n",
    "for i, Wk in enumerate(Wks_M):\n",
    "    plt.plot(ks, Wk, color=colors[i])\n",
    "plt.xscale('log')\n",
    "plt.xlabel(r'$k$ / $h\\,\\mathrm{Mpc}^{-1}$')\n",
    "plt.xlim((kmin, kmax))\n",
    "plt.ylabel(r'$\\hat{U}_\\mathrm{m}(M, k)$')\n",
    "plt.ylim((Umin, Umax))\n",
    "plt.legend()\n",
    "plt.tight_layout()\n",
    "plt.savefig('plots/NFW_U.pdf',bbox_inches='tight')\n",
    "plt.show()"
   ]
  },
  {
   "cell_type": "markdown",
   "id": "22e598b6",
   "metadata": {},
   "source": [
    "Now we compare $\\hat U$ functions defined with fixed concentration or fixed virial radius with the previous plot"
   ]
  },
  {
   "cell_type": "code",
   "execution_count": null,
   "id": "caebd885",
   "metadata": {},
   "outputs": [],
   "source": [
    "# Fill Wk arrays with varying M\n",
    "cs = []; rvs = []; Wks_rv = []; Wks_c = []\n",
    "for M in Ms:\n",
    "    rv = hmod.virial_radius(M)\n",
    "    rvs.append(rv)\n",
    "    c = halomodel.concentration(M, z, method='Duffy et al. (2008)', halo_definition='Mvir')\n",
    "    cs.append(c)\n",
    "    #Wks_rv.append(halomod.win_NFW(ks, rv, c_fid))\n",
    "    #Wks_c.append(halomod.win_NFW(ks, rv_fid, c))\n",
    "    Wk_rv = halomodel.halo_window_function(ks, rv, c_fid, profile='NFW')\n",
    "    Wk_c = halomodel.halo_window_function(ks, rv_fid, c, profile='NFW')\n",
    "    Wks_rv.append(Wk_rv)\n",
    "    Wks_c.append(Wk_c)"
   ]
  },
  {
   "cell_type": "code",
   "execution_count": null,
   "id": "18855a8c",
   "metadata": {},
   "outputs": [],
   "source": [
    "# Plot\n",
    "plt.subplots(4, 1, sharex=True, figsize=(6.4, 8.4))\n",
    "\n",
    "xlaboff = 0.6\n",
    "ylab = 0.83\n",
    "\n",
    "plt.subplot(4, 1, 1)\n",
    "plt.axvline(kv_fid, color='black', ls='--')\n",
    "plt.axvline(ks_fid, color='black', ls='--')\n",
    "plt.text(xlaboff*kv_fid, ylab, r'$\\pi/r_\\mathrm{v}$')\n",
    "plt.text(xlaboff*ks_fid, ylab, r'$\\pi/r_\\mathrm{s}$')\n",
    "plt.plot(ks, Wk, color=colors[(nM-1)//2])\n",
    "plt.xscale('log')\n",
    "plt.xticks([])\n",
    "plt.xlim((kmin, kmax))\n",
    "plt.ylabel(r'$U_\\mathrm{m}(M, k)$')\n",
    "plt.ylim((0., 1.1))\n",
    "\n",
    "plt.subplot(4, 1, 2)\n",
    "plt.text(0.5, 0.3, r'varying c and $r_{\\rm v}$')\n",
    "plt.plot(np.nan, color=colors[0],  label='$10^{%d}\\,h^{-1}M_\\odot$'%(np.log10(Ms[0])))\n",
    "plt.plot(np.nan, color=colors[-1], label='$10^{%d}\\,h^{-1}M_\\odot$'%(np.log10(Ms[-1])))\n",
    "for i, Wk in enumerate(Wks_M):\n",
    "    plt.plot(ks, Wk, color=colors[i])\n",
    "plt.xscale('log')\n",
    "plt.xlim((kmin, kmax))\n",
    "plt.xticks([])\n",
    "plt.ylabel(r'$U_\\mathrm{m}(M, k)$')\n",
    "plt.ylim((0., 1.1))\n",
    "plt.legend()\n",
    "\n",
    "plt.subplot(4, 1, 3)\n",
    "plt.text(0.5, 0.3, r'fixed c and varying $r_{\\rm v}$')\n",
    "for i, Wk in enumerate(Wks_rv):\n",
    "    plt.plot(ks, Wk, color=colors[i])\n",
    "plt.xscale('log')\n",
    "plt.xlim((kmin, kmax))\n",
    "plt.xticks([])\n",
    "plt.ylabel(r'$U_\\mathrm{m}(M, k)$')\n",
    "plt.ylim((0., 1.1))\n",
    "\n",
    "plt.subplot(4, 1, 4)\n",
    "plt.text(0.5, 0.3, r'varying c and fixed $r_{\\rm v}$')\n",
    "for i, Wk in enumerate(Wks_c):\n",
    "    plt.plot(ks, Wk, color=colors[i])\n",
    "plt.xscale('log')\n",
    "plt.xlabel(r'$k$ / $h\\,\\mathrm{Mpc}^{-1}$')\n",
    "plt.xlim((kmin, kmax))\n",
    "plt.ylabel(r'$U_\\mathrm{m}(M, k)$')\n",
    "plt.ylim((0., 1.1))\n",
    "\n",
    "plt.show()"
   ]
  }
 ],
 "metadata": {
  "kernelspec": {
   "display_name": "Python 3",
   "language": "python",
   "name": "python3"
  },
  "language_info": {
   "codemirror_mode": {
    "name": "ipython",
    "version": 3
   },
   "file_extension": ".py",
   "mimetype": "text/x-python",
   "name": "python",
   "nbconvert_exporter": "python",
   "pygments_lexer": "ipython3",
   "version": "3.10.9 (main, Dec 15 2022, 18:25:35) [Clang 14.0.0 (clang-1400.0.29.202)]"
  },
  "vscode": {
   "interpreter": {
    "hash": "aee8b7b246df8f9039afb4144a1f6fd8d2ca17a180786b69acc140d282b71a49"
   }
  }
 },
 "nbformat": 4,
 "nbformat_minor": 5
}

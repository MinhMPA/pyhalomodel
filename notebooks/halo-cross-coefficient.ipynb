{
 "cells": [
  {
   "attachments": {},
   "cell_type": "markdown",
   "id": "1e72b3c2",
   "metadata": {},
   "source": [
    "## Halo-halo cross-correlation coefficient in Fourier space\n",
    "\n",
    "The correlation coeffient is defined as:\n",
    "$R_{\\rm hh}= P_{\\rm hh}(M_1, M_2,k)/\\sqrt{P_{\\rm hh}(M_1, M_1,k)\\; P_{\\rm hh}(M_2, M_2,k)}$, where $M_1$ and $M_2$ are halo masses. In the absence of non-linear halo bias $R_{\\rm hh}=1$. We use the DarkEmu which is an emulator for the Dark Quest simulations ([Nishimichi et al. 2019](https://arxiv.org/abs/1811.09504); [Miyatake et al. 2020](https://arxiv.org/abs/2101.00113)) to estimate $R_{\\rm hh}$ for various masses."
   ]
  },
  {
   "cell_type": "code",
   "execution_count": null,
   "id": "40140ba3",
   "metadata": {},
   "outputs": [],
   "source": [
    "# Standard imports\n",
    "import sys\n",
    "import numpy as np\n",
    "import matplotlib.pyplot as plt\n",
    "\n",
    "# Third-party imports\n",
    "from dark_emulator import darkemu\n",
    "\n",
    "# Imports from the halomodel repo\n",
    "sys.path.append('../src/')\n",
    "import darkquest"
   ]
  },
  {
   "cell_type": "code",
   "execution_count": null,
   "id": "e6eaf69f",
   "metadata": {},
   "outputs": [],
   "source": [
    "# Wavenumber range\n",
    "kmin, kmax = 1e-2, 1.\n",
    "nk = 65\n",
    "ks = np.logspace(np.log10(kmin), np.log10(kmax), nk)\n",
    "\n",
    "# Redshift\n",
    "z = 0."
   ]
  },
  {
   "cell_type": "code",
   "execution_count": null,
   "id": "ebcf6e3f",
   "metadata": {},
   "outputs": [],
   "source": [
    "# Start emulator\n",
    "emu = darkemu.base_class()\n",
    "\n",
    "# Set cosmological parameters\n",
    "wb = 0.023\n",
    "wc = 0.124\n",
    "Om_w = 0.7\n",
    "lnAs = 2.716\n",
    "ns = 0.96\n",
    "w = -1.\n",
    "\n",
    "# Initialise emulator\n",
    "cparam = np.array([wb, wc, Om_w, lnAs, ns, w]) # array for cosmological parameters\n",
    "emu.set_cosmology(cparam)\n",
    "print()\n",
    "\n",
    "print('Minimum halo mass [log10(Msun/h)]:', np.log10(darkquest.minimum_halo_mass(emu)))\n",
    "print()"
   ]
  },
  {
   "cell_type": "code",
   "execution_count": null,
   "id": "2be07200",
   "metadata": {},
   "outputs": [],
   "source": [
    "# List of mass pairs\n",
    "M12s = [\n",
    "    (10**12.5, 10**13.0),\n",
    "    (10**12.5, 10**13.5),\n",
    "    (10**12.5, 10**14.0),\n",
    "    (10**13.0, 10**13.5),\n",
    "    (10**13.0, 10**14.0),\n",
    "    (10**13.5, 10**14.5),\n",
    "    ]\n",
    "colors = ['C0', 'C1', 'C2', 'C3', 'C4', 'C5']\n",
    "\n",
    "# Get the Fourier cross-correlation coefficient\n",
    "Rs = []\n",
    "for Mmin, Mmax in M12s:\n",
    "    R = darkquest.get_halo_cross_spectrum_coefficient(emu, ks, Mmin, Mmax, z)\n",
    "    Rs.append(R)"
   ]
  },
  {
   "cell_type": "code",
   "execution_count": null,
   "id": "3dfca3ba",
   "metadata": {},
   "outputs": [],
   "source": [
    "def label(M1, M2):\n",
    "    #return r'$M_1 = %2.1f$; $M_2 = %2.1f$'%(np.log10(M1), np.log10(M2))\n",
    "    #return r'$\\log_{10} (M_1/ h^{-1}M_\\odot) = %2.1f$; $\\log_{10} (M_2/ h^{-1}M_\\odot) = %2.1f$'%(np.log10(M1), np.log10(M2))\n",
    "    #return r'$M_1 = 10^{%2.1f}h^{-1}M_\\odot$; $M_2 = 10^{%2.1f}h^{-1}M_\\odot$'%(np.log10(M1), np.log10(M2))\n",
    "    return r'$M_1$, $M_2$ = $10^{%2.1f}$, $10^{%2.1f}$ $h^{-1}M_\\odot$'%(np.log10(M1), np.log10(M2))\n",
    "\n",
    "# Make plot\n",
    "plt.subplots(1, 1, dpi=100, figsize=(6, 3.3))\n",
    "plt.axhline(1., color='black')\n",
    "for i, R in enumerate(Rs):\n",
    "    plt.plot(ks, R, colors[i], ls='-', label=label(M12s[i][0], M12s[i][1]))\n",
    "plt.xscale('log')\n",
    "plt.xlabel('$k$ / $h \\mathrm{Mpc}^{-1}$')\n",
    "plt.xlim((kmin,kmax))\n",
    "plt.ylabel('$R_\\mathrm{hh}(M_1, M_2, k)$')\n",
    "plt.legend()\n",
    "plt.tight_layout()\n",
    "plt.savefig('plots/Rhh.pdf',bbox_inches='tight')\n",
    "plt.show()"
   ]
  }
 ],
 "metadata": {
  "kernelspec": {
   "display_name": "halomodel-9x4PpIM0-py3.10",
   "language": "python",
   "name": "python3"
  },
  "language_info": {
   "codemirror_mode": {
    "name": "ipython",
    "version": 3
   },
   "file_extension": ".py",
   "mimetype": "text/x-python",
   "name": "python",
   "nbconvert_exporter": "python",
   "pygments_lexer": "ipython3",
   "version": "3.10.9"
  },
  "vscode": {
   "interpreter": {
    "hash": "8d443b5d6f21d64bdd5ec2aaf46e6b3a56438c3d8195417b180d3601582e93fe"
   }
  }
 },
 "nbformat": 4,
 "nbformat_minor": 5
}

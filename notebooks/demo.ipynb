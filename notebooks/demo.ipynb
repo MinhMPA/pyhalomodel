{
 "cells": [
  {
   "attachments": {},
   "cell_type": "markdown",
   "id": "18dbf725",
   "metadata": {},
   "source": [
    "# Demo notebook\n",
    "\n",
    "First we import the libraries we need"
   ]
  },
  {
   "cell_type": "code",
   "execution_count": null,
   "id": "8be2cdf0",
   "metadata": {},
   "outputs": [],
   "source": [
    "# Standard imports\n",
    "import sys\n",
    "import numpy as np\n",
    "import matplotlib.pyplot as plt\n",
    "\n",
    "# Third-party imports\n",
    "import camb # Calculates the linear matter power spectrum\n",
    "\n",
    "# Halo Model library imports\n",
    "sys.path.append('../halomodel/') # TODO: This will not be necessary once this is all pip installable\n",
    "import halomodel"
   ]
  },
  {
   "attachments": {},
   "cell_type": "markdown",
   "id": "502a13ff",
   "metadata": {},
   "source": [
    "Now we set the cosmological parameters. If `sigma_8_set = True` we scale the linear power spectrum to account for the new `sigma_8` value.  "
   ]
  },
  {
   "cell_type": "code",
   "execution_count": null,
   "id": "0c49ef79",
   "metadata": {},
   "outputs": [],
   "source": [
    "# Set cosmological parameters\n",
    "Omega_c = 0.25\n",
    "Omega_b = 0.05\n",
    "Omega_k = 0.0\n",
    "h = 0.7\n",
    "As = 2e-9\n",
    "ns = 0.96\n",
    "w = -1.0\n",
    "wa = 0.0\n",
    "m_nu = 0.0 # [eV]\n",
    "sigma_8_set = True # If True uses the following value\n",
    "sigma_8  = 0.7"
   ]
  },
  {
   "attachments": {},
   "cell_type": "markdown",
   "id": "5e615216",
   "metadata": {},
   "source": [
    "Set some plot parameters"
   ]
  },
  {
   "cell_type": "code",
   "execution_count": null,
   "id": "003100fb",
   "metadata": {},
   "outputs": [],
   "source": [
    "# Plot colours\n",
    "col_lin = 'black'\n",
    "col_mat = 'C0'\n",
    "col_gal = 'C1'\n",
    "col_cen = 'C3'\n",
    "col_sat = 'C0'\n",
    "col_mg  = 'C4'\n",
    "col_cs  = 'C5'\n",
    "\n",
    "# Plot line styles\n",
    "ls_li = '-'\n",
    "ls_hm = '-'\n",
    "ls_2h = '--'\n",
    "ls_1h = ':'\n",
    "\n",
    "# Plot labels\n",
    "klab = r'$k\\,/\\,h \\mathrm{Mpc}^{-1}$'\n",
    "Pklab = r'$P(k)/(h^{-1}\\,\\mathrm{Mpc})^3$'"
   ]
  },
  {
   "cell_type": "markdown",
   "id": "49a250ba",
   "metadata": {},
   "source": [
    "Now let's set some parameters that we will use throughout the calculation: First, we set a range of wavenumbers, `k`, and then fill array, `ks`, we then set a redshift, `z`."
   ]
  },
  {
   "cell_type": "code",
   "execution_count": null,
   "id": "6ffe59e6",
   "metadata": {},
   "outputs": [],
   "source": [
    "# Wavenumber range [h/Mpc]\n",
    "kmin = 1e-3; kmax = 10.\n",
    "nk = 101\n",
    "ks = np.logspace(np.log10(kmin), np.log10(kmax), nk)\n",
    "\n",
    "# Redshift\n",
    "z = 0.\n",
    "\n",
    "# CAMB\n",
    "zmax_CAMB = 2.\n",
    "kmax_CAMB = 200."
   ]
  },
  {
   "attachments": {},
   "cell_type": "markdown",
   "id": "98b725d9",
   "metadata": {},
   "source": [
    "Now we initialise `CAMB` and produce a linear matter power spectrum. We have the option here to scale the power by an input `sigma_8` value."
   ]
  },
  {
   "cell_type": "code",
   "execution_count": null,
   "id": "3696cc57",
   "metadata": {},
   "outputs": [],
   "source": [
    "# Sets cosmological parameters in camb to calculate the linear power spectrum\n",
    "pars = camb.CAMBparams()\n",
    "wb   = Omega_b*h**2\n",
    "wc   = Omega_c*h**2\n",
    "\n",
    "# This function sets standard and helium set using BBN consistency\n",
    "pars.set_cosmology(ombh2=wb, omch2=wc, H0=100.*h, mnu=m_nu, omk=Omega_k)\n",
    "pars.set_dark_energy(w=w, wa=wa, dark_energy_model='ppf') \n",
    "pars.InitPower.set_params(As=As, ns=ns, r=0.)\n",
    "pars.set_matter_power(redshifts=[z], kmax=kmax_CAMB) # Setup the linear matter power spectrum\n",
    "\n",
    "# Scale 'As' to be correct for the desired 'sigma_8' value if necessary\n",
    "if sigma_8_set:\n",
    "    camb_results = camb.get_results(pars)\n",
    "    sigma_8_init = (camb_results.get_sigma8()[[z].index(0.)]).item()\n",
    "    print('Initial sigma_8:', sigma_8_init)\n",
    "    scaling = (sigma_8/sigma_8_init)**2\n",
    "    As *= scaling\n",
    "    pars.InitPower.set_params(As=As, ns=ns, r=0.)\n",
    "\n",
    "# Now get the linear power spectrum\n",
    "Pk_lin = camb.get_matter_power_interpolator(pars, \n",
    "                                            nonlinear=False, \n",
    "                                            hubble_units=True, \n",
    "                                            k_hunit=True, \n",
    "                                            kmax=kmax,\n",
    "                                            var1=camb.model.Transfer_tot,\n",
    "                                            var2=camb.model.Transfer_tot, \n",
    "                                            zmax=zmax_CAMB,\n",
    "                                           )\n",
    "Omega_m  = pars.omegam # Also extract the matter density\n",
    "Pk_lin = Pk_lin.P # Single out the linear P(k) interpolator\n",
    "camb_results = camb.get_results(pars)\n",
    "if sigma_8_set: \n",
    "    sigma_8 = (camb_results.get_sigma8()[[z].index(0.)]).item()\n",
    "    print('Final sigma_8:', sigma_8)\n"
   ]
  },
  {
   "attachments": {},
   "cell_type": "markdown",
   "id": "1bdda81b",
   "metadata": {},
   "source": [
    "Now we can create a halo model, which needs to be reinitialised at each different redshift. In this example notebook we are only doing calculations at a single redshift, so we initialise the halo model with that in mind. We also need to choose a mass function and linear halo bias, in this example these come from `Tinker et al. (2010)`, and we need to choose a halo definition, here we choose $\\Delta_\\mathrm{v}=330$, so haloes are defined to be spherical objects that contain an average density that is $330$ times greater than the mean background universe, which is approximately the virial (spherical-collapse) definition for this cosmology at $z=0$."
   ]
  },
  {
   "cell_type": "code",
   "execution_count": null,
   "id": "faaef5bf",
   "metadata": {},
   "outputs": [],
   "source": [
    "# Initialise halo model\n",
    "hmod = halomodel.halo_model(z, Omega_m, name='Tinker et al. (2010)', Dv=330.)"
   ]
  },
  {
   "attachments": {},
   "cell_type": "markdown",
   "id": "d52222d4",
   "metadata": {},
   "source": [
    "Now we set a range of halo masses, `M`, and fill an array, `Ms`. This halo-mass range needs to be wide enough that it includes all 'interesting' halo masses from the point of view of the calculation, and the mass-spacing needs to be fine enough that the calculation converges; in an actual use-case the effect on power spectra of both mass range and spacing should be convergence tested. Then we find the Lagrangian radii, `Rs`, corresponding the the halo masses."
   ]
  },
  {
   "cell_type": "code",
   "execution_count": null,
   "id": "5a944ac0",
   "metadata": {},
   "outputs": [],
   "source": [
    "# Halo mass range [Msun/h] over which to integrate\n",
    "Mmin = 1e9; Mmax = 1e17\n",
    "nM = 256\n",
    "Ms = np.logspace(np.log10(Mmin), np.log10(Mmax), nM)\n",
    "\n",
    "# Lagrangian radii [Mpc/h] corresponding to halo masses\n",
    "Rs = hmod.Lagrangian_radius(Ms)"
   ]
  },
  {
   "attachments": {},
   "cell_type": "markdown",
   "id": "0617030a",
   "metadata": {},
   "source": [
    "Next, we need to get an array of `sigma(R)` values. This requires an integral over the linear power spectrum times the Fourier transform of a top hat function, which is the oscillatory sinc function. We can get this from `CAMB`."
   ]
  },
  {
   "cell_type": "code",
   "execution_count": null,
   "id": "64d82699",
   "metadata": {},
   "outputs": [],
   "source": [
    "# Get sigma(R) from CAMB\n",
    "sigmaRs = camb_results.get_sigmaR(Rs, hubble_units=True, return_R_z=False)[0]"
   ]
  },
  {
   "attachments": {},
   "cell_type": "markdown",
   "id": "a2781764",
   "metadata": {},
   "source": [
    "Now we can plot $\\sigma(R)$, note that the variance in the linear density field is larger when smoothing is performed at smaller scales (smaller values of $R$), as one would expect. Also note how boring and featureless this function is, despite the (relative) feature-full-ness of the linear spectrum."
   ]
  },
  {
   "cell_type": "code",
   "execution_count": null,
   "id": "2d81defd",
   "metadata": {},
   "outputs": [],
   "source": [
    "# Plot sigma(R)\n",
    "plt.loglog(Rs, sigmaRs)\n",
    "plt.xlabel(r'$R/h^{-1}\\mathrm{Mpc}$')\n",
    "plt.ylabel(r'$\\sigma(R)$')\n",
    "plt.show()"
   ]
  },
  {
   "attachments": {},
   "cell_type": "markdown",
   "id": "9dd62365",
   "metadata": {},
   "source": [
    "Now lets plot the dimensionless multiplicity function, $M^2 n(M)/\\bar\\rho$, as a function of halo mass for three popular halo mass functions: Sheth & Tormen (1999); Tinker et al. (2010); Despali et al. (2016) for the virial halo definition. Note that the `kmax_CAMB` value for `Pk_lin` is important here. We chose `kmax_CAMB=200`, which produces smooth functions. A smaller `kmax_CAMB` can produce noisy results for lower masses, and this can go on to spoil some halo-power power spectrum predictions."
   ]
  },
  {
   "cell_type": "code",
   "execution_count": null,
   "id": "860912a4",
   "metadata": {},
   "outputs": [],
   "source": [
    "# List of mass functions to consider\n",
    "mass_functions = [\n",
    "    'Sheth & Tormen (1999)',\n",
    "    'Tinker et al. (2010)',\n",
    "    'Despali et al. (2016)',\n",
    "]\n",
    "\n",
    "# Calculate b(M) and n(M)\n",
    "bs = []\n",
    "Fs = []\n",
    "for mass_function in mass_functions:\n",
    "    print(mass_function)#, 'z = %1.1f'%(z))\n",
    "    hmod = halomodel.halo_model(z, Omega_m, name=mass_function, Dv=330.)\n",
    "    b = hmod.linear_bias(Ms, sigmas=sigmaRs)\n",
    "    F = hmod.multiplicity_function(Ms, sigma=lambda R: camb_results.get_sigmaR(R, hubble_units=True, return_R_z=False)[[z].index(z)])\n",
    "    bs.append(b)\n",
    "    Fs.append(F)"
   ]
  },
  {
   "cell_type": "code",
   "execution_count": null,
   "id": "6b3f6f98",
   "metadata": {},
   "outputs": [],
   "source": [
    "# Plot parameters\n",
    "Mmin_plot, Mmax_plot = 1e9, 1e16\n",
    "\n",
    "# Make the plot\n",
    "plt.subplots(2, 1, figsize=(5, 4), dpi=100, sharex=True)\n",
    "\n",
    "# Mass function\n",
    "plt.subplot(2, 1, 1)\n",
    "for i, mass_function in enumerate(mass_functions):\n",
    "    plt.plot(Ms, Fs[i], ls='-', color='C%d'%i)\n",
    "plt.xscale('log')\n",
    "plt.gca().set_xticklabels([])\n",
    "plt.ylim((0., 0.06))\n",
    "plt.ylabel(r'$M^2 n(M)/\\bar\\rho$')\n",
    "plt.xlim((Mmin_plot, Mmax_plot))\n",
    "\n",
    "# Linear bias\n",
    "plt.subplot(2, 1, 2)\n",
    "plt.axhline(1., color='black')\n",
    "for i, mass_function in enumerate(mass_functions):\n",
    "    plt.plot(Ms, bs[i], ls='-', color='C%d'%i, label=mass_function)\n",
    "plt.xlabel(r'$M / h^{-1} M_\\odot$')\n",
    "plt.xscale('log')\n",
    "plt.ylim((0., 5.))\n",
    "plt.ylabel(r'$b(M)$')\n",
    "plt.xlim((Mmin_plot, Mmax_plot))\n",
    "plt.legend()\n",
    "\n",
    "# Finalize\n",
    "plt.show()"
   ]
  },
  {
   "attachments": {},
   "cell_type": "markdown",
   "id": "6fd03f20",
   "metadata": {},
   "source": [
    "From the upper plot, which can be interpreted as a probability density function for  we infer that the most important haloes will be $\\sim10^{13}h^{-1}M_\\odot$, but that there is a long tail of halo mass down to low masses."
   ]
  },
  {
   "attachments": {},
   "cell_type": "markdown",
   "id": "d7b3b017",
   "metadata": {},
   "source": [
    "First, we will use the halo model to compute the matter power spectrum, to do this we need to define a matter halo. We use the `haloprof` class, which contains the Fourier window function of the halo profile `W(M,k)` that is necessary for the power-spectrum calculation. This is a 2D array of the window function evaluated at `(ks, Ms)` values defined above, so if these change then the `haloprof` must be updated. We break the function $W(M,k)=N(M)U(M,k)/{\\rm norm}$ where $W(M,k)$ has dimensions of field multiplied by volume, $N(M)/{\\rm norm}$ has dimension of field multiplied by volume and $U(M,k)$ is dimensionless and should tend to unity as k tends to zero, because its real space counter part is normalised. \n",
    "\n",
    "In our case, we are going to compute the power spectrum of matter overdensity (density contrast: $\\delta_{\\rm m}=(\\rho-\\bar\\rho)/\\bar\\rho$), which is dimensionless. We take $N(M)=M$, ${\\rm norm}=\\bar\\rho$, such that $N(M)/{\\rm norm}$ = $M/\\bar\\rho$ and has dimensions of volume. We could also have set $N(M)=M/\\bar\\rho$ and ${\\rm norm}=1$ and would get the same results. The distinction between these two approaches is important for discrete tracers, but not otherwise.\n",
    "\n",
    "We also need to set the optional `mass=True` in the halo profile, to let it know that our profile corresponds to a matter profile. This is important because the contribution to the matter power of haloes below `Mmin`, set above, is important to the calculation (much of the mass in the Universe is in very low mass haloes), and this flag allows this to be taken into account in a consistent way."
   ]
  },
  {
   "cell_type": "code",
   "execution_count": null,
   "id": "3a7ddd36",
   "metadata": {},
   "outputs": [],
   "source": [
    "# Halo window functions\n",
    "rvs = hmod.virial_radius(Ms)\n",
    "cs = halomodel.concentration(Ms, z, method='Duffy et al. (2008)', halo_definition='Mvir') # Specify 'Mvir' for Duffy c(M)\n",
    "Uk = halomodel.halo_window_function(ks, rvs, cs, profile='NFW')\n",
    "\n",
    "# Initialise profile class\n",
    "matter_profile = halomodel.halo_profile(ks, Ms, Ms, Uk, hmod.rhom, mass=True) # Need mass=True here"
   ]
  },
  {
   "attachments": {},
   "cell_type": "markdown",
   "id": "f584af20",
   "metadata": {},
   "source": [
    "Now we are in a position to combine our halo model with our matter profile and do a calculation of the power spectrum. Note that profile must be provided as a dictionary: `{'m': matter_profile}` rather than `matter_profile`, where the key `'m'` can be chosen by the user and identifies that the `matter_profile` corresponds to field `'m'`. The reason for this will become apparent soon."
   ]
  },
  {
   "cell_type": "code",
   "execution_count": null,
   "id": "01509d47",
   "metadata": {},
   "outputs": [],
   "source": [
    "# Calculate the halo-model power spectrum\n",
    "Pk_2h, Pk_1h, Pk_hm = hmod.power_spectrum(ks, Ms, {'m': matter_profile}, lambda k: Pk_lin(z, k), sigmas=sigmaRs)"
   ]
  },
  {
   "attachments": {},
   "cell_type": "markdown",
   "id": "801f7cc6",
   "metadata": {},
   "source": [
    "Now let's do some plotting. Note carefully that the output arrays `Pk_2h`, `Pk_1h`, and `Pk_hm` are three dimensional, with `k` in the third dimension. In this first example the first two dimensions are length `1` because we have only provided one profile, the `matter_profile`. So to access the power spectrum we need `Pk_xx['m-m']`."
   ]
  },
  {
   "cell_type": "code",
   "execution_count": null,
   "id": "1a62d3f1",
   "metadata": {},
   "outputs": [],
   "source": [
    "# Axis limits\n",
    "Pkmin = 1e1; Pkmax = 3e4\n",
    "rmin = 1e-1; rmax = 1e2\n",
    "smin = 0.0; smax = 1.1\n",
    "kmin_plot = 1e-3; kmax_plot = 1e1\n",
    "\n",
    "# Initialise plot\n",
    "plt.subplots(3, 1, figsize=(5., 7.), dpi=100)\n",
    "\n",
    "# P(k)\n",
    "plt.subplot(3, 1, 1)\n",
    "plt.loglog(ks, Pk_lin(z, ks), color=col_lin, label='Linear')\n",
    "plt.loglog(ks, Pk_2h['m-m'], color=col_mat, ls=ls_2h, label='Two-halo term')\n",
    "plt.loglog(ks, Pk_1h['m-m'], color=col_mat, ls=ls_1h, label='One-halo term')\n",
    "plt.loglog(ks, Pk_hm['m-m'], color=col_mat, ls=ls_hm, label='Halo model')\n",
    "plt.xticks([])\n",
    "plt.xlim((kmin_plot, kmax_plot))\n",
    "plt.ylabel(r'$P_\\mathrm{mm}(k)\\,/\\,(h^{-1} \\mathrm{Mpc})^3$')\n",
    "plt.ylim((Pkmin, Pkmax))\n",
    "plt.legend(fontsize='9', loc='lower left')\n",
    "\n",
    "# Residual with linear\n",
    "plt.subplot(3, 1, 2)\n",
    "plt.loglog(ks, Pk_lin(z, ks)/Pk_lin(z, ks), color=col_lin)\n",
    "plt.loglog(ks, Pk_2h['m-m']/Pk_lin(z, ks), color=col_mat, ls=ls_2h)\n",
    "plt.loglog(ks, Pk_1h['m-m']/Pk_lin(z, ks), color=col_mat, ls=ls_1h)\n",
    "plt.loglog(ks, Pk_hm['m-m']/Pk_lin(z, ks), color=col_mat, ls=ls_hm)\n",
    "plt.xticks([])\n",
    "plt.xlim((kmin_plot, kmax_plot))\n",
    "plt.ylabel(r'$P_\\mathrm{mm}(k)\\,/\\,P^\\mathrm{lin}_{\\rm mm}(k)$')\n",
    "plt.ylim((rmin, rmax))\n",
    "\n",
    "# Residual with halo-model matter power\n",
    "plt.subplot(3, 1, 3)\n",
    "plt.semilogx(ks, Pk_lin(z, ks)/Pk_hm['m-m'], color=col_lin, ls='-')\n",
    "plt.semilogx(ks, Pk_2h['m-m']/Pk_hm['m-m'], color=col_mat, ls=ls_2h)\n",
    "plt.semilogx(ks, Pk_1h['m-m']/Pk_hm['m-m'], color=col_mat, ls=ls_1h)\n",
    "plt.semilogx(ks, Pk_hm['m-m']/Pk_hm['m-m'], color=col_mat, ls=ls_hm)\n",
    "plt.xlabel(klab)\n",
    "plt.xlim((kmin_plot, kmax_plot))\n",
    "plt.ylabel(r'$P_\\mathrm{mm}(k)\\,/\\,P_\\mathrm{mm}^\\mathrm{hm}(k)$')\n",
    "plt.ylim((smin, smax))\n",
    "\n",
    "# Finish\n",
    "plt.tight_layout()\n",
    "plt.show()"
   ]
  },
  {
   "attachments": {},
   "cell_type": "markdown",
   "id": "b0c71d8a",
   "metadata": {},
   "source": [
    "The upper panel shows the halo-model matter power spectrum broken into two- and one-halo components, we see that the two-halo term dominates at large scales while the one-halo term dominates at small scales, as expected. We see that the one-halo term has a constant 'shot-noise' contribution at large scales, and we see that the two-halo term deviates from the linear spectrum only at small scales, and only where the one-halo term is dominating the overall spectrum. The shot-noise contribution of the one-halo term at large scales is unphysical, and arises because neither mass nor momentum conservation have been imposed in the initial step of the derivation of the halo model, but this has very little impact in practice, although the one-halo term will eventually (and unphysically) dominate the power at ultra-large scales. The middle panel shows each spectra relative to linear and the bottom shows the contribution of the two- and one-halo terms to the total. Note that each term contributes equally at $k\\sim 0.5 h\\mathrm{Mpc}^{-1}$, which is the transition region at $z=0$. The slight (and unphysical) deviation of the total power from the linear result can be seen at $k\\sim 10^{-3} h\\mathrm{Mpc}^{-1}$."
   ]
  },
  {
   "attachments": {},
   "cell_type": "markdown",
   "id": "7784fa14",
   "metadata": {},
   "source": [
    "We can also look at the matter power spectrum as a function of halo mass, by varying the upper limit on the mass integral."
   ]
  },
  {
   "cell_type": "code",
   "execution_count": null,
   "id": "316e56c8",
   "metadata": {},
   "outputs": [],
   "source": [
    "# Maximum halo mass [Msun/h] to consider, corresponding to upper limit of integration range\n",
    "Ms_max = [10**17, 10**16, 10**15, 10**14, 10**13, 10**12, 10**11]#, 10**14, 10**13.5, 10**13]#, 10**12.5, 10**12]\n",
    "\n",
    "# Loop over upper limits of halo mass\n",
    "Pks = []\n",
    "for Mmax_here in Ms_max:\n",
    "    Ms_here = np.logspace(np.log10(Mmin), np.log10(Mmax_here), nM)\n",
    "    Rs_here = hmod.Lagrangian_radius(Ms_here)\n",
    "    sigmaRs_here = camb_results.get_sigmaR(Rs_here, hubble_units=True, return_R_z=False)[0]\n",
    "    rvs = hmod.virial_radius(Ms_here)\n",
    "    cs = halomodel.concentration(Ms_here, z, method='Duffy et al. (2008)', halo_definition='Mvir')\n",
    "    matter_profile_here = halomodel.matter_profile(ks, Ms_here, rvs, cs, hmod.Om_m)\n",
    "\n",
    "    # Calculate the halo-model power spectrum\n",
    "    _, _, Pk = hmod.power_spectrum(ks, Ms_here, {'m': matter_profile_here}, lambda k: Pk_lin(z, k), sigmas=sigmaRs_here)\n",
    "    Pks.append(Pk)"
   ]
  },
  {
   "cell_type": "code",
   "execution_count": null,
   "id": "2ed528c3",
   "metadata": {},
   "outputs": [],
   "source": [
    "# Axis limits\n",
    "Pkmin = 1e1; Pkmax = 3e4\n",
    "colors = plt.cm.inferno(np.linspace(0., 1., len(Ms_max)))\n",
    "\n",
    "# Plot the results\n",
    "plt.subplots(3, 1, figsize=(5., 7.))\n",
    "\n",
    "# Power\n",
    "plt.subplot(3, 1, 1)\n",
    "plt.loglog(ks, Pk_hm['m-m'], color='black', lw=3., label='Truth')\n",
    "for (Pk, Mmax_here, col) in zip(Pks, Ms_max, colors):\n",
    "    label = r'$M_\\mathrm{max} = 10^{%d}h^{-1}M_\\odot$'%(np.log10(Mmax_here))\n",
    "    plt.loglog(ks, Pk['m-m'], label=label, color=col)\n",
    "plt.xticks([])\n",
    "plt.xlim((kmin, kmax))\n",
    "plt.ylabel(Pklab)\n",
    "plt.ylim((Pkmin, Pkmax))\n",
    "plt.legend(loc='lower left', ncol=2, fontsize=8)\n",
    "\n",
    "# Ratio\n",
    "plt.subplot(3, 1, 2)\n",
    "plt.semilogx(ks, Pk_hm['m-m']/Pk_hm['m-m'], color='black', lw=3.)\n",
    "for (Pk, col) in zip(Pks, colors):\n",
    "    plt.semilogx(ks, Pk['m-m']/Pk_hm['m-m'], label=label, color=col)\n",
    "plt.xticks([])\n",
    "plt.xlim((kmin, kmax))\n",
    "plt.ylabel('$P(k, M_\\mathrm{max}) / P(k)$')\n",
    "\n",
    "# Log ratio\n",
    "plt.subplot(3, 1, 3)\n",
    "for (Pk, col) in zip(Pks, colors):\n",
    "    plt.loglog(ks, np.abs(-1.+Pk['m-m']/Pk_hm['m-m']), label=label, color=col)\n",
    "plt.xlabel(klab)\n",
    "plt.xlim((kmin, kmax))\n",
    "plt.ylabel('$|P(k, M_\\mathrm{max}) / P(k)-1|$')\n",
    "\n",
    "plt.tight_layout()\n",
    "plt.show()"
   ]
  },
  {
   "attachments": {},
   "cell_type": "markdown",
   "id": "cd7e278d",
   "metadata": {},
   "source": [
    "We can see that the integral pretty much converges when the upper limit is $10^{16}h^{-1}M_\\odot$, but we usually set it to $10^{17}h^{-1}M_\\odot$ to be safe as a function of cosmology. Note that for high $\\sigma_8$ values you might want to set the upper limit to be even higher. You can also see that more massive haloes bend the one-halo term away from a constant at progressively smaller scales as the mass limit is lowered. As you would expect."
   ]
  },
  {
   "attachments": {},
   "cell_type": "markdown",
   "id": "05d74dc2",
   "metadata": {},
   "source": [
    "We can also change the lower mass limit on the integral"
   ]
  },
  {
   "cell_type": "code",
   "execution_count": null,
   "id": "48461b98",
   "metadata": {},
   "outputs": [],
   "source": [
    "# Minimum halo mass [Msun/h] to consider, corresponding to lower limit of integration range\n",
    "Ms_min = [10**9, 10**10, 10**11, 10**12, 10**13, 10**14, 10**15]\n",
    "\n",
    "# Loop over upper limits of halo mass\n",
    "Pks = []\n",
    "for Mmin_here in Ms_min:\n",
    "    Ms_here = np.logspace(np.log10(Mmin_here), np.log10(Mmax), nM)\n",
    "    Rs_here = hmod.Lagrangian_radius(Ms_here)\n",
    "    sigmaRs_here = camb_results.get_sigmaR(Rs_here, hubble_units=True, return_R_z=False)[0]\n",
    "    rvs = hmod.virial_radius(Ms_here)\n",
    "    cs = halomodel.concentration(Ms_here, z, method='Duffy et al. (2008)', halo_definition='Mvir')\n",
    "    matter_profile_here = halomodel.matter_profile(ks, Ms_here, rvs, cs, hmod.Om_m)\n",
    "\n",
    "    # Calculate the halo-model power spectrum\n",
    "    _, _, Pk = hmod.power_spectrum(ks, Ms_here, {'m': matter_profile_here}, lambda k: Pk_lin(z, k), sigmas=sigmaRs_here)\n",
    "    Pks.append(Pk)"
   ]
  },
  {
   "cell_type": "code",
   "execution_count": null,
   "id": "5488ae25",
   "metadata": {},
   "outputs": [],
   "source": [
    "# Axis limits\n",
    "Pkmin = 1e1; Pkmax = 3e4\n",
    "colors = plt.cm.inferno(np.linspace(0., 1., len(Ms_min)))\n",
    "\n",
    "# Plot the results\n",
    "plt.subplots(3, 1, figsize=(5., 7.))\n",
    "\n",
    "# Power\n",
    "plt.subplot(3, 1, 1)\n",
    "plt.loglog(ks, Pk_hm['m-m'], color='black', lw=3., label='Truth')\n",
    "for (Pk, Mmin_here, col) in zip(Pks, Ms_min, colors):\n",
    "    label = r'$M_\\mathrm{min} = 10^{%d}h^{-1}M_\\odot$'%(np.log10(Mmin_here))\n",
    "    plt.loglog(ks, Pk['m-m'], label=label, color=col)\n",
    "plt.xticks([])\n",
    "plt.xlim((kmin, kmax))\n",
    "plt.ylabel(Pklab)\n",
    "plt.ylim((Pkmin, Pkmax))\n",
    "plt.legend(loc='lower left', ncol=2, fontsize=8)\n",
    "\n",
    "# Ratio\n",
    "plt.subplot(3, 1, 2)\n",
    "plt.semilogx(ks, Pk_hm['m-m']/Pk_hm['m-m'], color='black', lw=3.)\n",
    "for (Pk, col) in zip(Pks, colors):\n",
    "    plt.semilogx(ks, Pk['m-m']/Pk_hm['m-m'], label=label, color=col)\n",
    "plt.xlim((kmin, kmax))\n",
    "plt.xticks([])\n",
    "plt.ylabel('$P(k, M_\\mathrm{min}) / P(k)$')\n",
    "plt.ylim(bottom=0.9)\n",
    "\n",
    "# Log ratio\n",
    "plt.subplot(3, 1, 3)\n",
    "for (Pk, col) in zip(Pks, colors):\n",
    "    plt.loglog(ks, np.abs(-1.+Pk['m-m']/Pk_hm['m-m']), color=col)\n",
    "plt.xlim((kmin, kmax))\n",
    "plt.xlabel(klab)\n",
    "plt.ylabel('$|P(k, M_\\mathrm{min}) / P(k)-1|$')\n",
    "\n",
    "# Finalize\n",
    "plt.tight_layout()\n",
    "plt.show()"
   ]
  },
  {
   "attachments": {},
   "cell_type": "markdown",
   "id": "05f345ec",
   "metadata": {},
   "source": [
    "Note that using a matter profile (or setting `mass=True` when using a `halo_profile` object) lets the code know that mass is still contained in haloes below the mass limit. So the halo-model matter power spectrum predictions will be correct unless the *shape* of halo profiles below the lower mass limit is important. In this case we see that we are okay for $k\\leq10h\\mathrm{Mpc}^{-1}$ as long as we include the shapes of haloes $\\sim 10^{10}h^{-1}M_\\odot$. We usually set the limit in our calculation to $\\sim 10^{9}h^{-1}M_\\odot$ to be conservative."
   ]
  },
  {
   "attachments": {},
   "cell_type": "markdown",
   "id": "a733f176",
   "metadata": {},
   "source": [
    "If we create a `halo_profile` for matter, but set `mass=False` we can look at the contribution to the overall matter power spectrum from bins of halo mass. When using profiles that are supposed to represent the matter distribution, setting `mass=False` neglects the contribution from mass below the lower mass limit, which is usually not desired. However, in this case it allows us to isolate the contribution to the power from halo-mass bins of fixed width."
   ]
  },
  {
   "cell_type": "code",
   "execution_count": null,
   "id": "0bc97740",
   "metadata": {},
   "outputs": [],
   "source": [
    "# Halo mass [Msun/h] limits to consider\n",
    "Ms_lim = [\n",
    "    (10**10, 10**11),\n",
    "    (10**11, 10**12),\n",
    "    (10**12, 10**13), \n",
    "    (10**13, 10**14),\n",
    "    (10**14, 10**15),\n",
    "    (10**15, 10**16),\n",
    "    (10**16, 10**17),\n",
    "]\n",
    "\n",
    "# Loop over upper limits of halo mass\n",
    "Pks = []\n",
    "for M_lim in Ms_lim:\n",
    "\n",
    "    # Mass range\n",
    "    Mmin_here, Mmax_here = M_lim\n",
    "    Ms_here = np.logspace(np.log10(Mmin_here), np.log10(Mmax_here), nM)\n",
    "    Rs_here = hmod.Lagrangian_radius(Ms_here)\n",
    "    sigmaRs_here = camb_results.get_sigmaR(Rs_here, hubble_units=True, return_R_z=False)[0]\n",
    "\n",
    "    # Construct haloes\n",
    "    rvs = hmod.virial_radius(Ms_here)\n",
    "    cs = halomodel.concentration(Ms_here, z, method='Duffy et al. (2008)', halo_definition='Mvir')\n",
    "    Uk = halomodel.halo_window_function(ks, rvs, cs, profile='NFW')\n",
    "    matter_profile_here = halomodel.halo_profile(ks, Ms_here, Ms_here, Uk, hmod.rhom, mass=False, discrete=False)\n",
    "\n",
    "    # Calculate the halo-model power spectrum\n",
    "    _, _, Pk = hmod.power_spectrum(ks, Ms_here, {'m': matter_profile_here}, lambda k: Pk_lin(z, k), sigmas=sigmaRs_here)\n",
    "    Pks.append(Pk)"
   ]
  },
  {
   "cell_type": "code",
   "execution_count": null,
   "id": "f89f359a",
   "metadata": {},
   "outputs": [],
   "source": [
    "# Axis limits\n",
    "Pkmin = 1e1; Pkmax = 3e4\n",
    "colors = plt.cm.viridis(np.linspace(0., 1., len(Ms_lim)))\n",
    "\n",
    "# Plot the results\n",
    "plt.subplots(2, 1, figsize=(6., 6.))\n",
    "\n",
    "# Power\n",
    "plt.subplot(2, 1, 1)\n",
    "plt.loglog(ks, Pk_hm['m-m'], color='black', lw=3.)\n",
    "for (Pk, col) in zip(Pks, colors):\n",
    "    plt.loglog(ks, Pk['m-m'], color=col)\n",
    "plt.xticks([])\n",
    "plt.xlim((kmin, kmax))\n",
    "plt.ylabel(Pklab)\n",
    "plt.ylim((Pkmin, Pkmax))\n",
    "\n",
    "# Ratio\n",
    "plt.subplot(2, 1, 2)\n",
    "plt.semilogx(ks, Pk_hm['m-m']/Pk_hm['m-m'], color='black', lw=3., label='Truth')\n",
    "for (Pk, M_lim, col) in zip(Pks, Ms_lim, colors):\n",
    "    Mmin_here, Mmax_here = M_lim\n",
    "    label = r'$M = 10^{%d}\\to 10^{%d}h^{-1}M_\\odot$'%(np.log10(Mmin_here), np.log10(Mmax_here))\n",
    "    plt.semilogx(ks, Pk['m-m']/Pk_hm['m-m'], label=label, color=col)\n",
    "plt.xlabel(klab)\n",
    "plt.xlim((kmin, kmax))\n",
    "plt.ylabel('$P(k, M_\\mathrm{max}) / P(k)$')\n",
    "plt.ylim(top=0.6)\n",
    "plt.legend(loc='upper left', ncol=2, fontsize=9.)\n",
    "\n",
    "plt.show()"
   ]
  },
  {
   "attachments": {},
   "cell_type": "markdown",
   "id": "e3e9b9d7",
   "metadata": {},
   "source": [
    "We see that the most important halo masses for this calculation are those in the range $10^{13}\\to10^{14}h^{-1}M_\\odot$, which contribute almost $60\\%$ of the power around $k\\sim5h\\mathrm{Mpc}^{-1}$. Haloes with masses greater than $10^{14}h^{-1}M_\\odot$ contribute slightly less power, but are more important at larger scales. At smaller and smaller scales haloes of progressively lower and lower mass will dominate the power spectrum. All mass ranges shown contribute less than $10\\%$ to the power at very large scales, which is consistent with the fact that a lot of the mass in the universe is locked in very low mass haloes according to standard halo mass functions."
   ]
  },
  {
   "attachments": {},
   "cell_type": "markdown",
   "id": "9aa456e8",
   "metadata": {},
   "source": [
    "We can also look at the convergence of the halo model prediction for the matter power spectrum as a function of the number of halo-mass points we use."
   ]
  },
  {
   "cell_type": "code",
   "execution_count": null,
   "id": "92390245",
   "metadata": {},
   "outputs": [],
   "source": [
    "# Minimum halo mass [Msun/h] to consider, corresponding to lower limit of integration range\n",
    "nMs = [8, 16, 32, 64, 128, 256, 512]\n",
    "\n",
    "# Loop over upper limits of halo mass\n",
    "Pks = []\n",
    "for nM_here in nMs:\n",
    "    Ms_here = np.logspace(np.log10(Mmin), np.log10(Mmax), nM_here)\n",
    "    Rs_here = hmod.Lagrangian_radius(Ms_here)\n",
    "    sigmaRs_here = camb_results.get_sigmaR(Rs_here, hubble_units=True, return_R_z=False)[0]\n",
    "    rvs = hmod.virial_radius(Ms_here)\n",
    "    cs = halomodel.concentration(Ms_here, z, method='Duffy et al. (2008)', halo_definition='Mvir')\n",
    "    matter_profile_here = halomodel.matter_profile(ks, Ms_here, rvs, cs, hmod.Om_m)\n",
    "\n",
    "    # Calculate the halo-model power spectrum\n",
    "    _, _, Pk = hmod.power_spectrum(ks, Ms_here, {'m': matter_profile_here}, lambda k: Pk_lin(z, k), sigmas=sigmaRs_here)\n",
    "    Pks.append(Pk)"
   ]
  },
  {
   "cell_type": "code",
   "execution_count": null,
   "id": "737095f8",
   "metadata": {},
   "outputs": [],
   "source": [
    "# Axis limits\n",
    "Pkmin = 1e1; Pkmax = 3e4\n",
    "colors = plt.cm.viridis(np.linspace(0., 1., len(Ms_lim)))\n",
    "\n",
    "# Plot the results\n",
    "plt.subplots(3, 1, figsize=(5., 7.))\n",
    "\n",
    "# Power\n",
    "plt.subplot(3, 1, 1)\n",
    "plt.loglog(ks, Pk_hm['m-m'], color='black', lw=3., label='Truth')\n",
    "for (Pk, nM_here, col) in zip(Pks, nMs, colors):\n",
    "    label = r'$N_M=%d$'%(nM_here)\n",
    "    plt.loglog(ks, Pk['m-m'], color=col, label=label)\n",
    "plt.xticks([])\n",
    "plt.xlim((kmin, kmax))\n",
    "plt.ylabel(Pklab)\n",
    "plt.ylim((Pkmin, Pkmax))\n",
    "plt.legend(ncol=2)\n",
    "\n",
    "# Ratio\n",
    "plt.subplot(3, 1, 2)\n",
    "plt.semilogx(ks, Pk_hm['m-m']/Pk_hm['m-m'], color='black', lw=3., label='Truth')\n",
    "for (Pk, nM_here, col) in zip(Pks, nMs, colors):\n",
    "    plt.semilogx(ks, Pk['m-m']/Pk_hm['m-m'], color=col)\n",
    "plt.xticks([])\n",
    "plt.xlim((kmin, kmax))\n",
    "plt.ylabel('$P(k, M_\\mathrm{max}) / P(k)$')\n",
    "\n",
    "# Log ratio\n",
    "plt.subplot(3, 1, 3)\n",
    "for (Pk, nM_here, col) in zip(Pks, nMs, colors):\n",
    "    plt.loglog(ks, np.abs(Pk['m-m']/Pk_hm['m-m']-1.), color=col)\n",
    "plt.xlabel(klab)\n",
    "plt.xlim((kmin, kmax))\n",
    "plt.ylabel('$|P(k, M_\\mathrm{max}) / P(k)-1|$')\n",
    "\n",
    "plt.show()"
   ]
  },
  {
   "attachments": {},
   "cell_type": "markdown",
   "id": "a7d4be6d",
   "metadata": {},
   "source": [
    "We see that the power agrees to a relative precision of better than $10^{-4}$ between using $512$ points vs. using $256$ points logarithmically spaced in mass. We usually choose $256$ points because this level of precision is acceptable for most use cases."
   ]
  },
  {
   "attachments": {},
   "cell_type": "markdown",
   "id": "8dd944fb",
   "metadata": {},
   "source": [
    "Now let's calculate some galaxy spectra, first we need to specify a halo-occupation distribution (HOD) model to assign galaxies to haloes. In this example we choose a simple HOD, one that illustrates the basic point."
   ]
  },
  {
   "cell_type": "code",
   "execution_count": null,
   "id": "1cee60e8",
   "metadata": {},
   "outputs": [],
   "source": [
    "# Simple HOD model\n",
    "def HOD(M, Mmin):\n",
    "    return np.rint(M/Mmin)\n",
    "Ng = HOD(Ms, Mmin=1e11)\n",
    "\n",
    "# Compute the mean galaxy density corresponding to our HOD\n",
    "rhog = hmod.average(Ms, Ng, sigmas=sigmaRs)\n",
    "print('Mean galaxy density [(Mpc/h)^-3]:', rhog)\n",
    "\n",
    "# Plot HOD\n",
    "plt.loglog(Ms, Ng, color=col_gal)\n",
    "plt.xlabel('Halo mass [$h^{-1}\\,M_\\odot$]')\n",
    "plt.xlim(right=1e16)\n",
    "plt.ylabel('Number of galaxies')\n",
    "plt.ylim(bottom=1e-1)\n",
    "plt.show()"
   ]
  },
  {
   "attachments": {},
   "cell_type": "markdown",
   "id": "cc96451a",
   "metadata": {},
   "source": [
    "The unusual HOD has step features, but that is no problem for `halomodel`.\n",
    "\n",
    "Now we can create a galaxy profile by combining the HOD with a halo window. Here we choose an isothermal profile `rho(r) ~ 1/r^2` for the galaxies and we set the `discrete=True` flag to let the calculation know that the halo profile corresponds to that of a discrete tracer, which ensures that `<N(N-1)>` is used in the one-halo term, rather than `<N^2>`. In the `W(M,k)=N(M)W(M,k)/norm` language we used before we have `N(M) = Ng(M)`, the number of galaxies in each halo, and `norm=rhog` the overall number-density of galaxies (dimension 1/volume). For discrete tracers (only) it is important to make the distinction between `N` and `norm`, and we would get different results if we set `N(M)=Ng(M)/norm` and `norm=1.`. We can then do a power spectrum calculation."
   ]
  },
  {
   "cell_type": "code",
   "execution_count": null,
   "id": "d61672f3",
   "metadata": {},
   "outputs": [],
   "source": [
    "# Halo window function\n",
    "rvs = hmod.virial_radius(Ms)\n",
    "Uk = halomodel.halo_window_function(ks, rvs, profile='isothermal')\n",
    "\n",
    "# Galaxy profile: Need discrete=True here because profile is of a discrete galaxys\n",
    "galaxy_profile = halomodel.halo_profile(ks, Ms, Ng, Uk, rhog, discrete=True)\n",
    "\n",
    "# Calculate the halo-model power spectrum\n",
    "Pk_2h, Pk_1h, Pk_hm = hmod.power_spectrum(ks, Ms, {'g': galaxy_profile}, lambda k: Pk_lin(z, k), sigmas=sigmaRs)"
   ]
  },
  {
   "cell_type": "markdown",
   "id": "d56860d7",
   "metadata": {},
   "source": [
    "And we can plot the results once more..."
   ]
  },
  {
   "cell_type": "code",
   "execution_count": null,
   "id": "6b16c270",
   "metadata": {},
   "outputs": [],
   "source": [
    "# Axis limits\n",
    "Pkmin = 1e1; Pkmax = 1e5\n",
    "kmin_plot = 1e-3; kmax_plot = 1e1\n",
    "\n",
    "# Initialise plot\n",
    "plt.subplots(3, 1, figsize=(5., 7.))\n",
    "\n",
    "# P(k)\n",
    "plt.subplot(3, 1, 1)\n",
    "plt.loglog(ks, Pk_lin(z, ks), color=col_lin, label='Linear')\n",
    "plt.loglog(ks, Pk_2h['g-g'], color=col_gal, ls='--', label='Two-halo term')\n",
    "plt.loglog(ks, Pk_1h['g-g'], color=col_gal, ls=':', label='One-halo term')\n",
    "plt.loglog(ks, Pk_hm['g-g'], color=col_gal, ls='-', label='Galaxies')\n",
    "plt.xticks([])\n",
    "plt.xlim((kmin_plot, kmax_plot))\n",
    "plt.ylabel(r'$P_\\mathrm{gg}(k)\\,/\\,(h^{-1} \\mathrm{Mpc})^3$')\n",
    "plt.ylim((Pkmin, Pkmax))\n",
    "plt.legend(fontsize='9')\n",
    "\n",
    "# Residual with linear\n",
    "plt.subplot(3, 1, 2)\n",
    "plt.loglog(ks, Pk_lin(z, ks)/Pk_lin(z, ks), color=col_lin)\n",
    "plt.loglog(ks, Pk_2h['g-g']/Pk_lin(z, ks), color=col_gal, ls='--')\n",
    "plt.loglog(ks, Pk_1h['g-g']/Pk_lin(z, ks), color=col_gal, ls=':')\n",
    "plt.loglog(ks, Pk_hm['g-g']/Pk_lin(z, ks), color=col_gal, ls='-')\n",
    "plt.xticks([])\n",
    "plt.xlim((kmin_plot, kmax_plot))\n",
    "plt.ylabel(r'$P_\\mathrm{gg}(k)\\,/\\,P^\\mathrm{lin}(k)$')\n",
    "\n",
    "# Residual with halo-model matter power\n",
    "plt.subplot(3, 1, 3)\n",
    "plt.semilogx(ks, Pk_lin(z, ks)/Pk_hm['g-g'], color=col_lin, ls='-')\n",
    "plt.semilogx(ks, Pk_2h['g-g']/Pk_hm['g-g'], color=col_gal, ls='--')\n",
    "plt.semilogx(ks, Pk_1h['g-g']/Pk_hm['g-g'], color=col_gal, ls=':')\n",
    "plt.semilogx(ks, Pk_hm['g-g']/Pk_hm['g-g'], color=col_gal, ls='-')\n",
    "plt.xlabel(klab)\n",
    "plt.xlim((kmin_plot, kmax_plot))\n",
    "plt.ylabel(r'$P_\\mathrm{gg}(k)\\,/\\,P_\\mathrm{gg}^\\mathrm{hm}(k)$')\n",
    "plt.ylim(bottom=0.)\n",
    "\n",
    "# Finish\n",
    "plt.tight_layout()\n",
    "plt.show()"
   ]
  },
  {
   "attachments": {},
   "cell_type": "markdown",
   "id": "acdec302",
   "metadata": {},
   "source": [
    "The galaxy spectrum looks superficially similar to the matter spectrum but the details are different. Note the large-scale bias means that the amplitude of the galaxy spectrum is elevated with respect to the linear spectrum. The relative amplitude of this offset is the squared bias of our galaxy sample, and so it looks like our HOD corresponds to a galaxy sample with $b \\simeq 1.5$ (note that the power ratio goes like $b^2$). Note that in the case of the galaxy sample the large-scale shot noise in the one-halo term, as the galaxy distribution is not restrained by either mass or momentum conservation. However, in this example the classic $1/n$ galaxy shot noise has been subtracted from the spectrum, which is already handled by the one-halo calculation. If one would rather retain this shot noise, then one can set the `shot=True` flag in the `halomodel.Pk_hm` calculation."
   ]
  },
  {
   "attachments": {},
   "cell_type": "markdown",
   "id": "87d7d2a8",
   "metadata": {},
   "source": [
    "In the previous example, the HOD we constructed had only integer numbers of galaxies assigned to each halo. In reality, the way galaxies occupy haloes is expected to be stochastic, with some variation about a mean occupation number for each halo mass. This variance will contribute to the power spectrum, and always adds a little bit of power. `halomodel` can include this. Let's look at the difference that this makes in the case that we assume a Poisson variance, where the variance is exactly equal to the mean occupation number of the halo."
   ]
  },
  {
   "cell_type": "code",
   "execution_count": null,
   "id": "f43adee2",
   "metadata": {},
   "outputs": [],
   "source": [
    "# Halo window function\n",
    "def HOD(M, Mmin):\n",
    "    return M/Mmin\n",
    "Ng = HOD(Ms, Mmin=1e12)\n",
    "rhog = hmod.average(Ms, Ng, sigmas=sigmaRs)\n",
    "rvs = hmod.virial_radius(Ms)\n",
    "Uk = halomodel.halo_window_function(ks, rvs, profile='isothermal')\n",
    "\n",
    "# Galaxy profile: Need discrete=True here because profile is of a discrete galaxys\n",
    "galaxy_profile_novar = halomodel.halo_profile(ks, Ms, Ng, Uk, rhog, discrete=True)\n",
    "galaxy_profile_var = halomodel.halo_profile(ks, Ms, Ng, Uk, rhog, var=Ng, discrete=True)\n",
    "\n",
    "# Calculate the halo-model power spectrum\n",
    "Pk_2h_novar, Pk_1h_novar, Pk_hm_novar = hmod.power_spectrum(ks, Ms, {'g': galaxy_profile_novar}, lambda k: Pk_lin(z, k), sigmas=sigmaRs)\n",
    "Pk_2h_var, Pk_1h_var, Pk_hm_var = hmod.power_spectrum(ks, Ms, {'g': galaxy_profile_var}, lambda k: Pk_lin(z, k), sigmas=sigmaRs)"
   ]
  },
  {
   "cell_type": "code",
   "execution_count": null,
   "id": "a42ed190",
   "metadata": {},
   "outputs": [],
   "source": [
    "# Axis limits\n",
    "Pkmin = 1e1; Pkmax = 1e5\n",
    "kmin_plot = 1e-3; kmax_plot = 1e1\n",
    "col_var, col_novar = col_gal, 'C4'\n",
    "\n",
    "# Initialise plot\n",
    "plt.subplots(3, 1, figsize=(5., 7.))\n",
    "\n",
    "# P(k)\n",
    "plt.subplot(3, 1, 1)\n",
    "for ls, label in zip([ls_2h, ls_1h, ls_hm], ['Two-halo term', 'One-halo term', 'Galaxies']):\n",
    "    plt.plot(np.nan, color='black', ls=ls, label=label)\n",
    "plt.loglog(ks, Pk_lin(z, ks), color=col_lin, label='Linear')\n",
    "for ls, label, Pk in zip([ls_2h, ls_1h, ls_hm], [None, None, 'No variance'], [Pk_2h_novar['g-g'], Pk_1h_novar['g-g'], Pk_hm_novar['g-g']]):\n",
    "    plt.loglog(ks, Pk, color=col_novar, ls=ls, label=label)\n",
    "for ls, label, Pk in zip([ls_2h, ls_1h, ls_hm], [None, None, 'Variance'], [Pk_2h_var['g-g'], Pk_1h_var['g-g'], Pk_hm_var['g-g']]):\n",
    "    plt.loglog(ks, Pk, color=col_var, ls=ls, label=label)\n",
    "plt.xticks([])\n",
    "plt.xlim((kmin_plot, kmax_plot))\n",
    "plt.ylabel(r'$P_\\mathrm{gg}(k)\\,/\\,(h^{-1} \\mathrm{Mpc})^3$')\n",
    "plt.ylim((Pkmin, Pkmax))\n",
    "plt.legend(fontsize='9', ncol=2)\n",
    "\n",
    "# Residual with linear\n",
    "plt.subplot(3, 1, 2)\n",
    "plt.loglog(ks, Pk_lin(z, ks)/Pk_lin(z, ks), color=col_lin)\n",
    "for ls, Pk in zip([ls_2h, ls_1h, ls_hm], [Pk_2h_novar['g-g'], Pk_1h_novar['g-g'], Pk_hm_novar['g-g']]):\n",
    "    plt.loglog(ks, Pk/Pk_lin(z, ks), color=col_novar, ls=ls)\n",
    "for ls, Pk in zip([ls_2h, ls_1h, ls_hm], [Pk_2h_var['g-g'], Pk_1h_var['g-g'], Pk_hm_var['g-g']]):\n",
    "    plt.loglog(ks, Pk/Pk_lin(z, ks), color=col_var, ls=ls)\n",
    "plt.xticks([])\n",
    "plt.xlim((kmin_plot, kmax_plot))\n",
    "plt.ylabel(r'$P_\\mathrm{gg}(k)\\,/\\,P^\\mathrm{lin}(k)$')\n",
    "\n",
    "# Residual with halo-model matter power\n",
    "plt.subplot(3, 1, 3)\n",
    "plt.semilogx(ks, Pk_lin(z, ks)/Pk_hm_novar['g-g'], color=col_lin, ls='-')\n",
    "for ls, Pk in zip([ls_2h, ls_1h, ls_hm], [Pk_2h_novar['g-g'], Pk_1h_novar['g-g'], Pk_hm_novar['g-g']]):\n",
    "    plt.semilogx(ks, Pk/Pk_hm_novar['g-g'], color=col_novar, ls=ls)\n",
    "for ls, Pk in zip([ls_2h, ls_1h, ls_hm], [Pk_2h_var['g-g'], Pk_1h_var['g-g'], Pk_hm_var['g-g']]):\n",
    "    plt.semilogx(ks, Pk/Pk_hm_novar['g-g'], color=col_var, ls=ls)\n",
    "plt.xlabel(klab)\n",
    "plt.xlim((kmin_plot, kmax_plot))\n",
    "plt.ylabel(r'$P_\\mathrm{gg}(k)\\,/\\,P_\\mathrm{gg}^\\mathrm{hm}(k)$')\n",
    "plt.ylim(bottom=0.)\n",
    "\n",
    "# Finish\n",
    "plt.tight_layout()\n",
    "plt.show()"
   ]
  },
  {
   "attachments": {},
   "cell_type": "markdown",
   "id": "6b19eb92",
   "metadata": {},
   "source": [
    "We see that the variance adds power in the one-halo term, with the result that the power at $k=10h\\mathrm{Mpc}^{-1}$ is almost twice that if the variance is neglected, and there are $5\\%$-level effects at $k\\simeq 1h\\mathrm{Mpc}^{-1}$ The variance is important, and should be considered in general."
   ]
  },
  {
   "attachments": {},
   "cell_type": "markdown",
   "id": "d789e9c7",
   "metadata": {},
   "source": [
    "We can also decide whether or not to include the galaxy shot-noise in our predictions. In some conventions this is subtracted from the power, but not always. "
   ]
  },
  {
   "cell_type": "code",
   "execution_count": null,
   "id": "38da5711",
   "metadata": {},
   "outputs": [],
   "source": [
    "# Halo profiles\n",
    "Ng = HOD(Ms, Mmin=1e12)\n",
    "rhog = hmod.average(Ms, Ng, sigmas=sigmaRs)\n",
    "rvs = hmod.virial_radius(Ms)\n",
    "Uk = halomodel.halo_window_function(ks, rvs, profile='isothermal')\n",
    "galaxy_profile = halomodel.halo_profile(ks, Ms, Ng, Uk, rhog, var=Ng, discrete=True)\n",
    "\n",
    "# Calculate the halo-model power spectrum\n",
    "Pk_2h_noshot, Pk_1h_noshot, Pk_hm_noshot = hmod.power_spectrum(ks, Ms, {'g': galaxy_profile}, lambda k: Pk_lin(z, k), sigmas=sigmaRs, include_shotnoise=False)\n",
    "Pk_2h_shot, Pk_1h_shot, Pk_hm_shot = hmod.power_spectrum(ks, Ms, {'g': galaxy_profile}, lambda k: Pk_lin(z, k), sigmas=sigmaRs, include_shotnoise=True)"
   ]
  },
  {
   "cell_type": "code",
   "execution_count": null,
   "id": "2f64429c",
   "metadata": {},
   "outputs": [],
   "source": [
    "# Axis limits\n",
    "Pkmin = 1e1; Pkmax = 1e5\n",
    "kmin_plot = 1e-3; kmax_plot = 1e1\n",
    "col_shot, col_noshot = 'C4', col_gal\n",
    "\n",
    "# Initialise plot\n",
    "plt.subplots(3, 1, figsize=(5., 7.))\n",
    "\n",
    "# P(k)\n",
    "plt.subplot(3, 1, 1)\n",
    "for ls, label in zip([ls_2h, ls_1h, ls_hm], ['Two-halo term', 'One-halo term', 'Galaxies']):\n",
    "    plt.plot(np.nan, color='black', ls=ls, label=label)\n",
    "plt.loglog(ks, Pk_lin(z, ks), color=col_lin, label='Linear')\n",
    "for ls, label, Pk in zip([ls_2h, ls_1h, ls_hm], [None, None, 'No shot noise'], [Pk_2h_noshot['g-g'], Pk_1h_noshot['g-g'], Pk_hm_noshot['g-g']]):\n",
    "    plt.loglog(ks, Pk, color=col_noshot, ls=ls, label=label)\n",
    "for ls, label, Pk in zip([ls_2h, ls_1h, ls_hm], [None, None, 'Shot noise'], [Pk_2h_shot['g-g'], Pk_1h_shot['g-g'], Pk_hm_shot['g-g']]):\n",
    "    plt.loglog(ks, Pk, color=col_shot, ls=ls, label=label)\n",
    "plt.xticks([])\n",
    "plt.xlim((kmin_plot, kmax_plot))\n",
    "plt.ylabel(r'$P_\\mathrm{gg}(k)\\,/\\,(h^{-1} \\mathrm{Mpc})^3$')\n",
    "plt.ylim((Pkmin, Pkmax))\n",
    "plt.legend(fontsize='9', ncol=2)\n",
    "\n",
    "# Residual with linear\n",
    "plt.subplot(3, 1, 2)\n",
    "plt.loglog(ks, Pk_lin(z, ks)/Pk_lin(z, ks), color=col_lin)\n",
    "for ls, Pk in zip([ls_2h, ls_1h, ls_hm], [Pk_2h_noshot['g-g'], Pk_1h_noshot['g-g'], Pk_hm_noshot['g-g']]):\n",
    "    plt.loglog(ks, Pk/Pk_lin(z, ks), color=col_noshot, ls=ls)\n",
    "for ls, Pk in zip([ls_2h, ls_1h, ls_hm], [Pk_2h_shot['g-g'], Pk_1h_shot['g-g'], Pk_hm_shot['g-g']]):\n",
    "    plt.loglog(ks, Pk/Pk_lin(z, ks), color=col_shot, ls=ls)\n",
    "plt.xticks([])\n",
    "plt.xlim((kmin_plot, kmax_plot))\n",
    "plt.ylabel(r'$P_\\mathrm{gg}(k)\\,/\\,P^\\mathrm{lin}(k)$')\n",
    "\n",
    "# Residual with halo-model matter power\n",
    "plt.subplot(3, 1, 3)\n",
    "plt.semilogx(ks, Pk_lin(z, ks)/Pk_hm_noshot['g-g'], color=col_lin, ls='-')\n",
    "for ls, Pk in zip([ls_2h, ls_1h, ls_hm], [Pk_2h_novar['g-g'], Pk_1h_noshot['g-g'], Pk_hm_noshot['g-g']]):\n",
    "    plt.semilogx(ks, Pk/Pk_hm_noshot['g-g'], color=col_noshot, ls=ls)\n",
    "for ls, Pk in zip([ls_2h, ls_1h, ls_hm], [Pk_2h_shot['g-g'], Pk_1h_shot['g-g'], Pk_hm_shot['g-g']]):\n",
    "    plt.semilogx(ks, Pk/Pk_hm_noshot['g-g'], color=col_shot, ls=ls)\n",
    "plt.xlabel(klab)\n",
    "plt.xlim((kmin_plot, kmax_plot))\n",
    "plt.ylabel(r'$P_\\mathrm{gg}(k)\\,/\\,P_\\mathrm{gg}^\\mathrm{hm}(k)$')\n",
    "plt.ylim(bottom=0.)\n",
    "\n",
    "# Finish\n",
    "plt.tight_layout()\n",
    "plt.show()"
   ]
  },
  {
   "attachments": {},
   "cell_type": "markdown",
   "id": "7f4f446e",
   "metadata": {},
   "source": [
    "We see that including shot noise adds significant power at small scales. The shot noise is assumed to be independent of scale and constant $1/n_\\mathrm{g}$."
   ]
  },
  {
   "attachments": {},
   "cell_type": "markdown",
   "id": "89fda2b1",
   "metadata": {},
   "source": [
    "Now that we have created both matter and galaxy profiles, it is easy to cross correlate them by supplying a list of the two halo profiles. When we do this, the code calculates both auto spectra and also the cross spectrum. If we supply `n` halo profiles then we get the triangle number of `n` independent auto/cross spectra computed. These are stored and accessed via the keys of `Pk_xx`. For example, if we have `profiles = {'u': profile_u, 'v': profile_v}` then `Pk_xx['u-u']` will store the auto spectrum corresponding to `profile_u`, `Pk_xx['v-v']` will store the same but for `profile_v`, the cross spectra can be accessed via either of `Pk_xx['u-v']` or  `Pk_xx['v-u']`, so there is some redundancy but the cross calculations are performed only once."
   ]
  },
  {
   "cell_type": "code",
   "execution_count": null,
   "id": "6c0cc689",
   "metadata": {},
   "outputs": [],
   "source": [
    "# Calculate the halo-model power spectrum\n",
    "profiles = {'m': matter_profile, 'g': galaxy_profile}\n",
    "Pk_2h, Pk_1h, Pk_hm = hmod.power_spectrum(ks, Ms, profiles, lambda k: Pk_lin(z, k), sigmas=sigmaRs)"
   ]
  },
  {
   "attachments": {},
   "cell_type": "markdown",
   "id": "2c6d6dc2",
   "metadata": {},
   "source": [
    "...and plot, noting that `Pk_xx['m-m']` singles out the matter-matter (auto) spectrum, `Pk_xx['g-g']` singles out the galaxy-galaxy (auto) spectrum, and `Pk_xx['m-g']` singles out the matter-galaxy cross spectrum, and is identical to `Pk_xx['g-m']`:"
   ]
  },
  {
   "cell_type": "code",
   "execution_count": null,
   "id": "4bb07d03",
   "metadata": {},
   "outputs": [],
   "source": [
    "# Plot matter, galaxy and cross spectra\n",
    "\n",
    "# Axis limits\n",
    "Pkmin = 1e1; Pkmax = 1e5\n",
    "kmin_plot = 1e-3; kmax_plot = 1e1\n",
    "rmin = 1e-1; rmax = 5e2\n",
    "smin = 0.; smax = 4.\n",
    "\n",
    "# Initialise plot\n",
    "plt.subplots(3, 1, figsize=(5., 7.), dpi=100, sharex=True)\n",
    "plt.subplots_adjust(wspace=0.1, hspace=0.1) \n",
    "\n",
    "# Lists for plots\n",
    "Pks = [Pk_2h['m-m'], Pk_1h['m-m'], Pk_hm['m-m'], Pk_hm['g-g'], Pk_hm['m-g']]\n",
    "cols = 3*[col_mat]+[col_gal, col_mg]\n",
    "lss = [ls_2h, ls_1h, ls_hm, ls_hm, ls_hm]\n",
    "labs = [None, None, 'Matter', 'Galaxy', 'Matter-galaxy']\n",
    "\n",
    "# P(k)\n",
    "plt.subplot(3, 1, 1)\n",
    "plt.loglog(ks, Pk_lin(z, ks), color=col_lin, label='Linear')\n",
    "for (ls, lab) in zip([ls_2h, ls_1h], ['Two-halo term', 'One-halo term']):\n",
    "    plt.plot(np.nan, ls=ls, label=lab, color='black')\n",
    "for (Pk, col, ls, lab) in zip(Pks, cols, lss, labs):\n",
    "    plt.loglog(ks, Pk, color=col, ls=ls, label=lab)\n",
    "plt.xticks([])\n",
    "plt.xlim((kmin_plot, kmax_plot))\n",
    "plt.ylabel(r'$P_{\\rm uv}(k)\\,/\\,(h^{-1} \\mathrm{Mpc})^3$')\n",
    "plt.ylim((Pkmin, Pkmax))\n",
    "plt.legend(ncol=2, loc='lower left', fontsize='9')\n",
    "\n",
    "# Lists for plots\n",
    "Pks = [Pk_2h['m-m'], Pk_1h['m-m'], Pk_hm['m-m'],\n",
    "       Pk_2h['g-g'], Pk_1h['g-g'], Pk_hm['g-g'],\n",
    "       Pk_2h['m-g'], Pk_1h['m-g'], Pk_hm['m-g']]\n",
    "cols = 3*[col_mat]+3*[col_gal]+3*[col_mg]\n",
    "lss = 3*[ls_2h, ls_1h, ls_hm]\n",
    "\n",
    "# Residual with linear\n",
    "plt.subplot(3, 1, 2)\n",
    "plt.loglog(ks, Pk_lin(z, ks)/Pk_lin(z, ks), color=col_lin)\n",
    "for (Pk, col, ls) in zip(Pks, cols, lss):\n",
    "    plt.loglog(ks, Pk/Pk_lin(z, ks), color=col, ls=ls)\n",
    "plt.xticks([])\n",
    "plt.xlim((kmin_plot, kmax_plot))\n",
    "plt.ylabel(r'$P_{\\rm uv}(k)\\,/\\,P^\\mathrm{lin}(k)$')\n",
    "plt.ylim((rmin, rmax))\n",
    "\n",
    "# Residual with halo-model matter power\n",
    "plt.subplot(3, 1, 3)\n",
    "plt.semilogx(ks, Pk_lin(z, ks)/Pk_hm['m-m'], color=col_lin)\n",
    "for (Pk, col, ls) in zip(Pks, cols, lss):\n",
    "    plt.semilogx(ks, Pk/Pk_hm['m-m'], color=col, ls=ls)\n",
    "plt.xlabel(klab)\n",
    "plt.xlim((kmin_plot, kmax_plot))\n",
    "plt.ylabel(r'$P_{\\rm uv}(k)\\,/\\,P_\\mathrm{mm}(k)$')\n",
    "plt.ylim((smin, smax))\n",
    "\n",
    "# Finish\n",
    "plt.show()"
   ]
  },
  {
   "attachments": {},
   "cell_type": "markdown",
   "id": "9d7f5783",
   "metadata": {},
   "source": [
    "We see that all spectra have the same shape at large scales, but that those spectra that involve galaxies are offset in amplitude. This tells us that the galaxy sample is positively biased, with $b\\simeq1.5$. At smaller scales the spectra are all similarly shaped, but the exact scale dependence is different for each. This arises because of the different way that matter and galaxies occupy haloes."
   ]
  },
  {
   "attachments": {},
   "cell_type": "markdown",
   "id": "58733c24",
   "metadata": {},
   "source": [
    "Now, let's create a more realistic HOD with both central and satellite galaxies with their own unique statistical properties. We will use the Zheng et al. (2005) HOD model. In the more realistic example we also need to consider the variance both central and satellite occupation numbers at each halo mass. As is common, we will assume that central galaxies are Bernoulli distributed (either 0 or 1 with some probability) and that satellite galaxies are Poisson distributed."
   ]
  },
  {
   "cell_type": "code",
   "execution_count": null,
   "id": "9c69fff3",
   "metadata": {},
   "outputs": [],
   "source": [
    "# Zheng et al. (2005) HOD with some reasonable parameters\n",
    "N_cen, N_sat = halomodel.HOD_mean(Ms, method='Zheng et al. (2005)', Mmin=1e12, sigma=0.15, M0=1e12, M1=1e13, alpha=1.)\n",
    "V_cen, V_sat, _ = halomodel.HOD_variance(N_cen, N_sat, central_condition=False)\n",
    "\n",
    "# Compute the mean galaxy density corresponding to our HOD\n",
    "rho_cen = hmod.average(Ms, N_cen, sigmas=sigmaRs)\n",
    "rho_sat = hmod.average(Ms, N_sat, sigmas=sigmaRs)\n",
    "rho_gal = rho_cen+rho_sat\n",
    "print('Mean central galaxy density [(Mpc/h)^-3]:', rho_cen)\n",
    "print('Mean satellite galaxy density [(Mpc/h)^-3]:', rho_sat)\n",
    "print('Mean galaxy density [(Mpc/h)^-3]:', rho_gal)\n",
    "print('Central galaxy fraction:', rho_cen/rho_gal)\n",
    "print('Satellite galaxy fraction:', rho_sat/rho_gal)\n",
    "\n",
    "# Plot HOD\n",
    "plt.fill_between(Ms, N_cen+np.sqrt(V_cen), N_cen-np.sqrt(V_cen), color=col_cen, alpha=0.2)\n",
    "plt.fill_between(Ms, N_sat+np.sqrt(V_sat), N_sat-np.sqrt(V_sat), color=col_sat, alpha=0.2)\n",
    "plt.loglog(Ms, N_cen, color=col_cen, label='Centrals')\n",
    "plt.loglog(Ms, N_sat, color=col_sat, label='Satellites')\n",
    "plt.xlabel('Halo mass [$h^{-1}\\,M_\\odot$]')\n",
    "plt.xlim((1e11, 1e15))\n",
    "plt.ylabel('Number of galaxies')\n",
    "plt.ylim((1e-1, 1e2))\n",
    "plt.legend()\n",
    "plt.show()"
   ]
  },
  {
   "cell_type": "markdown",
   "id": "62209458",
   "metadata": {},
   "source": [
    "On plotting the HOD distribution as a function of halo mass we can see the mean occupancy and its variance both look quite reasonable.\n",
    "\n",
    "Now we can set up the profiles of the central and satellite galaxies and compute the halo model power. Here we include the variance via `var` optional argument; note that this corresponds to the variance in `N(M)` at each `M`. We then sum the component power spectra to get the total. We need to sum central-central, central-satellite, satellite-central and satellite-satellite. Note that central-satellite is equal to satellite-central, but both must be included (or twice one of them). Also note that we define `norm=rho_gal` for each halo profile, rather than `norm=rho_cen` or `norm=rho_sat`, which allows us to sum them nicely at the end. Here we have assumed that the presence of central and satellite galaxies are entirely independent, which allows for the possibility of haloes hosting a satellite galaxy without hosting a central. With the particular parameters we have chosen this is not important, but in general one may wish to impose the 'central-condition' that satellite galaxies cannot be present without a central. This introduces a covariance between central and satellite occupation that cannot be included in the current version of `pyhalomodel`."
   ]
  },
  {
   "cell_type": "code",
   "execution_count": null,
   "id": "ef3b33b9",
   "metadata": {},
   "outputs": [],
   "source": [
    "# Halo window functions\n",
    "rvs = hmod.virial_radius(Ms)\n",
    "Uk_cen = halomodel.halo_window_function(ks, rvs, profile='delta')\n",
    "Uk_sat = halomodel.halo_window_function(ks, rvs, cs, profile='isothermal')\n",
    "\n",
    "# Initialise profile class; need discrete=True here because profile is of a discrete tracer\n",
    "central_profile = halomodel.halo_profile(ks, Ms, N_cen, Uk_cen, rho_gal, var=V_cen, discrete=True)\n",
    "satellite_profile = halomodel.halo_profile(ks, Ms, N_sat, Uk_sat, rho_gal, var=V_sat, discrete=True)\n",
    "\n",
    "# Calculate the halo-model power spectrum\n",
    "profiles = {'c': central_profile, 's': satellite_profile}\n",
    "_, _, Pk_hm = hmod.power_spectrum(ks, Ms, profiles, lambda k: Pk_lin(z, k), sigmas=sigmaRs)\n",
    "\n",
    "# Sum to get the total galaxy power; cross terms are identical, but we need to include both in the sum\n",
    "Pk_gg = Pk_hm['c-c']+Pk_hm['c-s']+Pk_hm['s-c']+Pk_hm['s-s']"
   ]
  },
  {
   "cell_type": "markdown",
   "id": "31d8adc5",
   "metadata": {},
   "source": [
    "... and plot the power spectra of centrals, satellites, their cross spectra and the total..."
   ]
  },
  {
   "cell_type": "code",
   "execution_count": null,
   "id": "66bdd956",
   "metadata": {},
   "outputs": [],
   "source": [
    "# Axis limits\n",
    "Pkmin = 1e1; Pkmax = 1e5\n",
    "rmin = 1e-1; rmax = 1e2\n",
    "smin = 0.; smax = 1.1\n",
    "kmin_plot = 1e-3; kmax_plot = 1e1\n",
    "\n",
    "# Initialise plot\n",
    "plt.subplots(3, 1, figsize=(5., 7.))\n",
    "\n",
    "# Lists for plot\n",
    "Pks = [Pk_hm['c-c'], Pk_hm['s-s'], 2.*Pk_hm['c-s'], Pk_gg]\n",
    "cols = [col_cen, col_sat, col_cs, col_gal]\n",
    "labs = ['Central', 'Satellite', 'Central-satellite', 'Galaxies']\n",
    "\n",
    "# P(k)\n",
    "plt.subplot(3, 1, 1)\n",
    "plt.loglog(ks, Pk_lin(z, ks), color=col_lin, label='Linear')\n",
    "for (Pk, col, lab) in zip(Pks, cols, labs):\n",
    "    plt.loglog(ks, Pk, color=col, label=lab)\n",
    "plt.xticks([])\n",
    "plt.xlim((kmin_plot, kmax_plot))\n",
    "plt.ylabel(r'$P_{uv}(k)\\,/\\,(h^{-1} \\mathrm{Mpc})^3$')\n",
    "plt.ylim((Pkmin, Pkmax))\n",
    "plt.legend(fontsize='9')\n",
    "\n",
    "# Residual with linear\n",
    "plt.subplot(3, 1, 2)\n",
    "plt.loglog(ks, Pk_lin(z, ks)/Pk_lin(z, ks), color=col_lin)\n",
    "for (Pk, col) in zip(Pks, cols):\n",
    "    plt.loglog(ks, Pk/Pk_lin(z, ks), color=col)\n",
    "plt.xticks([])\n",
    "plt.xlim((kmin_plot, kmax_plot))\n",
    "plt.ylabel(r'$P_{uv}(k)\\,/\\,P^\\mathrm{lin}(k)$')\n",
    "plt.ylim((rmin, rmax))\n",
    "\n",
    "# Residual with halo-model matter power\n",
    "plt.subplot(3, 1, 3)\n",
    "plt.semilogx(ks, Pk_lin(z, ks)/Pk_gg, color='black')\n",
    "for (Pk, col) in zip(Pks, cols):\n",
    "    plt.semilogx(ks, Pk/Pk_gg, color=col)\n",
    "plt.xlabel(klab)\n",
    "plt.xlim((kmin_plot, kmax_plot))\n",
    "plt.ylabel(r'$P_{uv}(k)\\,/\\,P_\\mathrm{gg}^\\mathrm{hm}(k)$')\n",
    "plt.ylim((smin, smax))\n",
    "\n",
    "# Finish\n",
    "plt.tight_layout()\n",
    "plt.show()"
   ]
  },
  {
   "cell_type": "markdown",
   "id": "b5c699cd",
   "metadata": {},
   "source": [
    "We can see that the central-central, central-satellite, satellite-central and central-central terms all contribute roughly equally at large scales (which is a coincidence for this particular HOD choice with this cosmology and redshift; note that twice the central-satellite term is plotted), then the satellite auto spectrum dominates at intermediate scales, while the central-satellite cross spectrum dominates at the smallest scales.\n",
    "\n",
    "Another (approximate) way of calculating the total galaxy spectrum is in 'one go', rather than by summing contributions. Here we generate a total galaxy HOD under the assumption that the total occupation variance is the sum of the variances of central and satellite:"
   ]
  },
  {
   "cell_type": "code",
   "execution_count": null,
   "id": "7b35fb61",
   "metadata": {},
   "outputs": [],
   "source": [
    "# Calculate the total number of galaxies and the variance of the total\n",
    "N_gal = N_cen+N_sat # Total galaxies is a sum of central and satellites\n",
    "V_gal = V_cen+V_sat # If galaxy distributions are independent then variances add\n",
    "\n",
    "# Plot HOD\n",
    "for (N, V, col) in zip([N_cen, N_sat, N_gal], [V_cen, V_sat, V_gal], [col_cen, col_sat, col_gal]):\n",
    "    plt.fill_between(Ms, N+np.sqrt(V), N-np.sqrt(V), color=col, alpha=0.2)\n",
    "for (N, col, lab) in zip([N_cen, N_sat, N_gal], [col_cen, col_sat, col_gal], ['Centrals', 'Satellites', 'Total']):\n",
    "    plt.loglog(Ms, N, color=col, label=lab)\n",
    "plt.xlabel('Halo mass [$h^{-1}\\,M_\\odot$]')\n",
    "plt.xlim((1e11, 1e15))\n",
    "plt.ylabel('Number of galaxies')\n",
    "plt.ylim((1e-1, 1e2))\n",
    "plt.legend()\n",
    "plt.show()"
   ]
  },
  {
   "cell_type": "markdown",
   "id": "09b4156f",
   "metadata": {},
   "source": [
    "We see that the total mean number of galaxies and its variance both look reasonable.\n",
    "\n",
    "Now we can compute the halo profile corresponding to the galaxies. This is a sum of the profiles for centrals and satellites, but weighted by the occupation number of each. With this in hand we can compute our halo model..."
   ]
  },
  {
   "cell_type": "code",
   "execution_count": null,
   "id": "63a2e80f",
   "metadata": {},
   "outputs": [],
   "source": [
    "# Calculate a galaxy profile as a weighted-mean profile\n",
    "Uk_gal = np.zeros((nM, nk))\n",
    "for iM, _ in enumerate(Ms):\n",
    "    if N_gal[iM] == 0.:\n",
    "        Uk_gal[iM, :] = 0.\n",
    "    else:\n",
    "        # Weighted mean profile for the sum\n",
    "        for ik, _ in enumerate(ks):\n",
    "            Uk_gal[iM, ik] = (N_cen[iM]*Uk_cen[iM, ik]+N_sat[iM]*Uk_sat[iM, ik])/N_gal[iM]\n",
    "            \n",
    "# Halo profile\n",
    "galaxy_profile = halomodel.halo_profile(ks, Ms, N_gal, Uk_gal, rho_gal, var=V_gal, discrete=True)\n",
    "\n",
    "# Power calculation\n",
    "_, _, Pk_hm = hmod.power_spectrum(ks, Ms, {'g': galaxy_profile}, lambda k: Pk_lin(z, k), sigmas=sigmaRs)\n",
    "P_sn = 1./rho_gal"
   ]
  },
  {
   "cell_type": "markdown",
   "id": "948c3be7",
   "metadata": {},
   "source": [
    "... and plot a comparison of the power spectra of the approximate model to the correct model ..."
   ]
  },
  {
   "cell_type": "code",
   "execution_count": null,
   "id": "7e9f5e86",
   "metadata": {},
   "outputs": [],
   "source": [
    "# Axis limits\n",
    "Pkmin = 1e1; Pkmax = 1e5\n",
    "rmin = 1e-1; rmax = 1e2\n",
    "smin = 0.95; smax = 1.05\n",
    "kmin_plot = 1e-3; kmax_plot = 1e1\n",
    "\n",
    "# Initialise plot\n",
    "plt.subplots(3, 1, figsize=(5., 7.))\n",
    "\n",
    "# P(k)\n",
    "plt.subplot(3, 1, 1)\n",
    "plt.loglog(ks, Pk_lin(z, ks), color=col_lin, label='Linear')\n",
    "plt.loglog(ks, Pk_gg, color=col_gal, label='Galaxies')\n",
    "plt.loglog(ks, Pk_hm['g-g'], color=col_gal, ls=':', label='Approximate')\n",
    "plt.loglog(ks, len(ks)*[P_sn], color='black', ls=':', label='Shot noise')\n",
    "plt.xticks([])\n",
    "plt.xlim((kmin_plot, kmax_plot))\n",
    "plt.ylabel(r'$P_\\mathrm{gg}(k)\\,/\\,(h^{-1} \\mathrm{Mpc})^3$')\n",
    "plt.ylim((Pkmin, Pkmax))\n",
    "plt.legend(fontsize='9')\n",
    "\n",
    "# Residual with linear\n",
    "plt.subplot(3, 1, 2)\n",
    "plt.loglog(ks, Pk_lin(z, ks)/Pk_lin(z, ks), color=col_lin)\n",
    "plt.loglog(ks, Pk_gg/Pk_lin(z, ks), color=col_gal)\n",
    "plt.loglog(ks, Pk_hm['g-g']/Pk_lin(z, ks), ls=':', color=col_gal)\n",
    "plt.xticks([])\n",
    "plt.xlim((kmin_plot, kmax_plot))\n",
    "plt.ylabel(r'$P_\\mathrm{gg}(k)\\,/\\,P^\\mathrm{lin}(k)$')\n",
    "plt.ylim((rmin, rmax))\n",
    "\n",
    "# Residual with halo-model matter power\n",
    "plt.subplot(3, 1, 3)\n",
    "plt.semilogx(ks, Pk_lin(z, ks)/Pk_gg, color=col_lin)\n",
    "plt.semilogx(ks, Pk_gg/Pk_gg, color=col_gal)\n",
    "plt.semilogx(ks, Pk_hm['g-g']/Pk_gg, ls=':', color=col_gal)\n",
    "plt.xlabel(klab)\n",
    "plt.xlim((kmin_plot, kmax_plot))\n",
    "plt.ylabel(r'$P_\\mathrm{gg}(k)\\,/\\,P_\\mathrm{gg}^\\mathrm{correct}(k)$')\n",
    "plt.ylim((smin, smax))\n",
    "\n",
    "# Finish\n",
    "plt.tight_layout()\n",
    "plt.show()"
   ]
  },
  {
   "attachments": {},
   "cell_type": "markdown",
   "id": "600dadf7",
   "metadata": {},
   "source": [
    "We see that the approximate scheme agrees well with the full calculation, where central and satellite contributions are considered separately, but that we get ~1% deviations by k ~ 3 h/Mpc. In both cases shot noise (1/ng) has been subtracted from the galaxy power. The difference arises because in the correct central-central power, the one-halo term is automatically zero when shot-noise is subtracted (<N(N-1)> = 0 for central galaxies), however, in the approximate case the auto correlationo of the central galaxy profile always contributes to the one-halo term, even though its contribution is supressed by the larger contribution of the satellite profile. Since the central-galaxy profile is a delta function, it is spread evenly over all k in Fourier space, and it eventually (and incorrectly) dominates over the satellite contribution at some large wavenumber. There is no way of avoiding this unless the galaxy contribution is correctly split into central and satellites, eacch with their own statistical properies. The exact wavenumber where this error appears, and the effect it may have on the power, will be dependent on the HOD. We recommend always treating central and satellite galaxies separately."
   ]
  },
  {
   "attachments": {},
   "cell_type": "markdown",
   "id": "d9b3f2c3",
   "metadata": {},
   "source": [
    "Next, let's see what happens when we change the halo mass function used in the calculation. To do this, we will need to create some new 'halo models':"
   ]
  },
  {
   "cell_type": "code",
   "execution_count": null,
   "id": "fbbce281",
   "metadata": {},
   "outputs": [],
   "source": [
    "# Initialise halo models; all using virial halo definition\n",
    "hms = ['Tinker et al. (2010)', 'Sheth & Tormen (1999)', 'Despali et al. (2016)']\n",
    "hmods = {}\n",
    "for hm in hms:\n",
    "    hmods[hm] = halomodel.halo_model(z, Omega_m, name=hm, Dv=330.)\n",
    "\n",
    "# Use both matter and galaxy profiles\n",
    "profiles = {'m': matter_profile, 'g': galaxy_profile}\n",
    "\n",
    "# Halo model computations\n",
    "Pks = {}\n",
    "for hm in hms:\n",
    "    _, _, Pk_hm = hmods[hm].power_spectrum(ks, Ms, profiles, lambda k: Pk_lin(z, k), sigmas=sigmaRs)\n",
    "    Pks[hm] = Pk_hm"
   ]
  },
  {
   "cell_type": "markdown",
   "id": "d8b86b1e",
   "metadata": {},
   "source": [
    "Then we can plot comparisons of the power spectra that have been computed using the different halo mass functions."
   ]
  },
  {
   "cell_type": "code",
   "execution_count": null,
   "id": "251339cd",
   "metadata": {},
   "outputs": [],
   "source": [
    "# Axis ranges\n",
    "rmin = 0.95; rmax = 1.175\n",
    "\n",
    "# P(k)\n",
    "for (ls, lab) in zip(['-', '--', ':'], ['Matter', 'Matter-galaxy', 'Galaxy']):\n",
    "    plt.plot(np.nan, color='black', ls=ls, label=lab)\n",
    "for (col, hm) in zip(['C0', 'C1', 'C2'], hms):\n",
    "    plt.semilogx(ks, Pks[hm]['m-m']/Pks['Tinker et al. (2010)']['m-m'], color=col, ls='-', label=hm)\n",
    "    plt.semilogx(ks, Pks[hm]['m-g']/Pks['Tinker et al. (2010)']['m-g'], color=col, ls='--')\n",
    "    plt.semilogx(ks, Pks[hm]['g-g']/Pks['Tinker et al. (2010)']['g-g'], color=col, ls=':')\n",
    "plt.xlabel(klab)\n",
    "plt.xlim((kmin, kmax))\n",
    "plt.ylabel(r'$P_{uv}(k)\\,/\\,P^\\mathrm{Tinker}_{uv}(k)$')\n",
    "plt.ylim((rmin, rmax))\n",
    "plt.legend()\n",
    "plt.show()"
   ]
  },
  {
   "attachments": {},
   "cell_type": "markdown",
   "id": "8f2a62b4",
   "metadata": {},
   "source": [
    "We see that the choice of mass function can have O(10%) level effects on the power spectrum, with the effect being most pronouced around k = 1 h/Mpc. Sheth & Tormen (1999) predicts more high-mass haloes compared to the other mass functions, which results in a boost in power in intermediate regions and also a larger shot-noise contribution in the matter at large scales because the density field is decomposed into fewer haloes."
   ]
  },
  {
   "attachments": {},
   "cell_type": "markdown",
   "id": "5afe5ae9",
   "metadata": {},
   "source": [
    "Finally, let's have a look at the power spectra when we change the halo definition, but keep everything all as constant as possible."
   ]
  },
  {
   "cell_type": "code",
   "execution_count": null,
   "id": "b22d4c16",
   "metadata": {},
   "outputs": [],
   "source": [
    "# Create a new halo model for each new halo model\n",
    "Dvs = {\n",
    "    'M200': 200.,\n",
    "    'Mvir': 330.,\n",
    "    'M200c': 200./Omega_m,\n",
    "}\n",
    "hmods = []\n",
    "for Dv in Dvs:\n",
    "    hmods.append(halomodel.halo_model(z, Omega_m, name='Tinker et al. (2010)', Dv=Dvs[Dv], verbose=True)) \n",
    "    \n",
    "# Halo window functions\n",
    "matter_profiles =[]; galaxy_profiles = []\n",
    "for hmod, Dv in zip(hmods, Dvs):\n",
    "\n",
    "    # Halo model\n",
    "    rvs = hmod.virial_radius(Ms)\n",
    "    cs = halomodel.concentration(Ms, z, halo_definition=Dv)\n",
    "\n",
    "    # Matter profile\n",
    "    matter_profile = halomodel.matter_profile(ks, Ms, rvs, cs, hmod.Om_m)\n",
    "    matter_profiles.append(matter_profile)\n",
    "\n",
    "    # Galaxy profile\n",
    "    N_cen, N_sat = halomodel.HOD_mean(Ms, method='Zheng et al. (2005)')\n",
    "    N_gal = N_cen+N_sat\n",
    "    rhog = hmod.average(Ms, N_gal, sigmas=sigmaRs)\n",
    "    V_cen, V_sat, _ = halomodel.HOD_variance(N_cen, N_sat)\n",
    "    V_gal = V_cen+V_sat\n",
    "    galaxy_profile = halomodel.halo_profile(ks, Ms, N_gal, Uk_gal, rhog, var=V_gal, mass=False, discrete=True)\n",
    "    galaxy_profiles.append(galaxy_profile)\n",
    "\n",
    "# Calculate power spectra\n",
    "Pks = {}\n",
    "for (Dv, hmod, matter_profile, galaxy_profile) in zip(Dvs, hmods, matter_profiles, galaxy_profiles):\n",
    "    _, _, Pk_hm = hmod.power_spectrum(ks, Ms, {'m': matter_profile, 'g': galaxy_profile}, lambda k: Pk_lin(z, k), sigmas=sigmaRs)\n",
    "    Pks[Dv] = Pk_hm"
   ]
  },
  {
   "cell_type": "code",
   "execution_count": null,
   "id": "996cb8f3",
   "metadata": {},
   "outputs": [],
   "source": [
    "# P(k)\n",
    "rmin = 0.7; rmax = 1.3\n",
    "\n",
    "# Loop over Dv definitions and plot\n",
    "for ls, label in zip(['-', '--', ':'], ['Matter', 'Matter-galaxy', 'Galaxy']):\n",
    "    plt.axhline(1., color='black', ls=ls, label=label)\n",
    "for (col, Dv) in zip(['C0', 'C1', 'C2'], Dvs):\n",
    "    plt.semilogx(ks, Pks[Dv]['m-m']/Pks['Mvir']['m-m'], color=col, ls='-', label=Dv)\n",
    "    plt.semilogx(ks, Pks[Dv]['m-g']/Pks['Mvir']['m-g'], color=col, ls='--')\n",
    "    plt.semilogx(ks, Pks[Dv]['g-g']/Pks['Mvir']['g-g'], color=col, ls=':')\n",
    "plt.xlabel(klab)\n",
    "plt.xlim((kmin, kmax))\n",
    "plt.ylabel(r'$P_\\mathrm{mm}(k)\\,/\\,P^\\mathrm{M_{vir}}_\\mathrm{mm}(k)$')\n",
    "plt.ylim((rmin, rmax))\n",
    "plt.legend()\n",
    "plt.show()"
   ]
  },
  {
   "attachments": {},
   "cell_type": "markdown",
   "id": "73cb154c",
   "metadata": {},
   "source": [
    "Changing the halo-mass definition makes a surprisingly large difference to the overall power spectrum, particularly around the transition region. Clearly the matter power spectrum should not depend on how haloes are defined, so this final plot serves as a warning that one needs to be very careful with the halo model. Keep its level of accuracy in mind when using it for cosmological calculations! One needs to pick ingredients consistently and carefully, and also be aware of what is being missed in the standard calculation."
   ]
  }
 ],
 "metadata": {
  "kernelspec": {
   "display_name": "halomodel-review-ZbihH8Ur-py3.10",
   "language": "python",
   "name": "python3"
  },
  "language_info": {
   "codemirror_mode": {
    "name": "ipython",
    "version": 3
   },
   "file_extension": ".py",
   "mimetype": "text/x-python",
   "name": "python",
   "nbconvert_exporter": "python",
   "pygments_lexer": "ipython3",
   "version": "3.10.9"
  },
  "vscode": {
   "interpreter": {
    "hash": "1a0314d85ebf2d67c2175da34d1c7f9a0ad73276894a7031f01adcc5a4a39c45"
   }
  }
 },
 "nbformat": 4,
 "nbformat_minor": 5
}

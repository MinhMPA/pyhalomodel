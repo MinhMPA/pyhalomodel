{
 "cells": [
  {
   "attachments": {},
   "cell_type": "markdown",
   "id": "18dbf725",
   "metadata": {},
   "source": [
    "# Demo notebook\n",
    "\n",
    "First we import the libraries we need"
   ]
  },
  {
   "cell_type": "code",
   "execution_count": null,
   "id": "8be2cdf0",
   "metadata": {},
   "outputs": [],
   "source": [
    "# Standard imports\n",
    "import sys\n",
    "import numpy as np\n",
    "import matplotlib.pyplot as plt\n",
    "\n",
    "# Third-party imports\n",
    "import camb # Calculates the linear matter power spectrum\n",
    "\n",
    "# Halo Model library imports\n",
    "sys.path.append('../halomodel/') # TODO: This will not be necessary once this is all pip installable\n",
    "import cosmology # TODO: Remove this dependancy\n",
    "import halomodel"
   ]
  },
  {
   "attachments": {},
   "cell_type": "markdown",
   "id": "502a13ff",
   "metadata": {},
   "source": [
    "Now we set the cosmological parameters. If `sigma_8_set = True` we scale the linear power spectrum to account for the new sigma_8 value.  "
   ]
  },
  {
   "cell_type": "code",
   "execution_count": null,
   "id": "0c49ef79",
   "metadata": {},
   "outputs": [],
   "source": [
    "# Set cosmological parameters\n",
    "Omega_c = 0.25\n",
    "Omega_b = 0.05\n",
    "Omega_k = 0.0\n",
    "h = 0.7\n",
    "As = 2e-9\n",
    "ns = 0.96\n",
    "w = -1.0\n",
    "wa = 0.0\n",
    "m_nu = 0.0 # [eV]\n",
    "\n",
    "# You can choose to set sigma_8, in that case we scale the power spectrum\n",
    "sigma_8_set = True # If True uses the following value\n",
    "sigma_8  = 0.7"
   ]
  },
  {
   "attachments": {},
   "cell_type": "markdown",
   "id": "5e615216",
   "metadata": {},
   "source": [
    "Set some plot parameters"
   ]
  },
  {
   "cell_type": "code",
   "execution_count": null,
   "id": "003100fb",
   "metadata": {},
   "outputs": [],
   "source": [
    "# Plot colours\n",
    "col_lin = 'black'\n",
    "col_mat = 'C0'\n",
    "col_gal = 'C1'\n",
    "col_cen = 'C3'\n",
    "col_sat = 'C0'\n",
    "col_mg  = 'C4'\n",
    "col_cs  = 'C5'\n",
    "\n",
    "# Plot line styles\n",
    "ls_li = '-'\n",
    "ls_hm = '-'\n",
    "ls_2h = '--'\n",
    "ls_1h = ':'\n",
    "\n",
    "# Plot labels\n",
    "klab = r'$k\\,/\\,h \\mathrm{Mpc}^{-1}$'"
   ]
  },
  {
   "cell_type": "markdown",
   "id": "49a250ba",
   "metadata": {},
   "source": [
    "Now let's set some parameters that we will use throughout the calculation: First, we set a range of wavenumbers, `k`, and then fill array, `ks`, we then set a redshift, `z`."
   ]
  },
  {
   "cell_type": "code",
   "execution_count": null,
   "id": "6ffe59e6",
   "metadata": {},
   "outputs": [],
   "source": [
    "# Wavenumber range [h/Mpc]\n",
    "kmin = 1e-3; kmax = 200\n",
    "nk = 101\n",
    "ks = np.logspace(np.log10(kmin), np.log10(kmax), nk)\n",
    "\n",
    "# Redshifts\n",
    "z = 0.\n",
    "zmax = 2. # CAMB parameter\n",
    "\n",
    "# Redshifts\n",
    "zs = [1., 0.] # CAMB reorders from high-z to low-z, so we define it like this from the start to avoid confusion"
   ]
  },
  {
   "attachments": {},
   "cell_type": "markdown",
   "id": "98b725d9",
   "metadata": {},
   "source": [
    "Now we initialise `CAMB` and produce a linear matter power spectrum. We have the option here to scale the power by an input `sigma_8` value."
   ]
  },
  {
   "cell_type": "code",
   "execution_count": null,
   "id": "3696cc57",
   "metadata": {},
   "outputs": [],
   "source": [
    "# Sets cosmological parameters in camb to calculate the linear power spectrum\n",
    "pars = camb.CAMBparams()\n",
    "wb   = Omega_b*h**2\n",
    "wc   = Omega_c*h**2\n",
    "\n",
    "# This function sets standard and helium set using BBN consistency\n",
    "pars.set_cosmology(ombh2=wb, omch2=wc, H0=100.*h, mnu=m_nu, omk=Omega_k)\n",
    "pars.set_dark_energy(w=w, wa=wa, dark_energy_model='ppf') \n",
    "pars.InitPower.set_params(As=As, ns=ns, r=0.)\n",
    "pars.set_matter_power(redshifts=zs, kmax=kmax) # Setup the linear matter power spectrum\n",
    "\n",
    "# Scale 'As' to be correct for the desired 'sigma_8' value if necessary\n",
    "if sigma_8_set:\n",
    "    camb_results = camb.get_results(pars)\n",
    "    sigma_8_init = (camb_results.get_sigma8()[zs.index(0.)]).item()\n",
    "    scaling = (sigma_8/sigma_8_init)**2\n",
    "    As *= scaling\n",
    "    pars.InitPower.set_params(As=As, ns=ns, r=0.)\n",
    "\n",
    "# Now get the linear power spectrum\n",
    "Pk_lin = camb.get_matter_power_interpolator(pars, \n",
    "                                            nonlinear=False, \n",
    "                                            hubble_units=True, \n",
    "                                            k_hunit=True, \n",
    "                                            kmax=kmax,\n",
    "                                            var1=camb.model.Transfer_tot,\n",
    "                                            var2=camb.model.Transfer_tot, \n",
    "                                            zmax=zmax,\n",
    "                                           )\n",
    "Omega_m  = pars.omegam # Also extract the matter density\n",
    "Pk_lin = Pk_lin.P # Single out the linear P(k) interpolator\n",
    "camb_results = camb.get_results(pars)\n",
    "sigma_8 = (camb_results.get_sigma8()[zs.index(0.)]).item()"
   ]
  },
  {
   "attachments": {},
   "cell_type": "markdown",
   "id": "1bdda81b",
   "metadata": {},
   "source": [
    "Now we can create a halo model, which needs to be reinitialised at each different redshift. In this example notebook we are only doing calculations at a single redshift, so we initialise the halo model with that in mind. We also need to choose a mass function and linear halo bias, in this example these come from `Tinker et al. (2010)`, and we need to choose a halo definition, here we choose $\\Delta_\\mathrm{v}=330$, so haloes are defined to be spherical objects that contain an average density that is $330$ times greater than the mean background universe, which is approximately the virial (spherical-collapse) definition for this cosmology at $z=0$."
   ]
  },
  {
   "cell_type": "code",
   "execution_count": null,
   "id": "faaef5bf",
   "metadata": {},
   "outputs": [],
   "source": [
    "# Initialise halo model\n",
    "hmod = halomodel.halo_model(z, Omega_m, name='Tinker et al. (2010)', Dv=330.)\n",
    "\n",
    "# Calculate the matter density\n",
    "print('Mean matter density [log10((Msun/h)/(Mpc/h)^3)]:', np.log10(hmod.rhom))"
   ]
  },
  {
   "attachments": {},
   "cell_type": "markdown",
   "id": "d52222d4",
   "metadata": {},
   "source": [
    "Now we set a range of halo masses, `M`, and fill an array, `Ms`. This halo-mass range needs to be wide enough that it includes all 'interesting' halo masses from the point of view of the calculation, and the mass-spacing needs to be fine enough that the calculation converges; in an actual use-case the effect on power spectra of both mass range and spacing should be convergence tested. Then we find the Lagrangian radii, `Rs`, corresponding the the halo masses."
   ]
  },
  {
   "cell_type": "code",
   "execution_count": null,
   "id": "5a944ac0",
   "metadata": {},
   "outputs": [],
   "source": [
    "# Halo mass range [Msun/h] over which to integrate\n",
    "Mmin = 1e9; Mmax = 1e15\n",
    "nM = 129\n",
    "Ms = np.logspace(np.log10(Mmin), np.log10(Mmax), nM)\n",
    "\n",
    "# Lagrangian radii [Mpc/h] corresponding to halo masses\n",
    "Rs = hmod.Lagrangian_radius(Ms)"
   ]
  },
  {
   "attachments": {},
   "cell_type": "markdown",
   "id": "0617030a",
   "metadata": {},
   "source": [
    "Next, we need to get an array of `sigma(R)` values. This requires an integral over the linear power spectrum times the Fourier transform of a top hat function, which is the oscillatory sinc function. We can get this from `CAMB`."
   ]
  },
  {
   "cell_type": "code",
   "execution_count": null,
   "id": "64d82699",
   "metadata": {},
   "outputs": [],
   "source": [
    "# Get sigma(R) from CAMB\n",
    "# TODO: Change this to use CAMB directly\n",
    "sigmaRs_camb = cosmology.sigmaR(Rs, camb_results, integration_type='camb')\n",
    "sigmaRs = sigmaRs_camb"
   ]
  },
  {
   "cell_type": "markdown",
   "id": "d7b3b017",
   "metadata": {},
   "source": [
    "First, we will use the halo model to compute the matter power spectrum, to do this we need to define a matter halo. We use the `haloprof` class, which contains the Fourier window function of the halo profile `W(M,k)` that is necessary for the power-spectrum calculation. This is a 2D array of the window function evaluated at `(ks, Ms)` values defined above, so if these change then the `haloprof` must be updated. We break the function $W(M,k)=N(M)U(M,k)/{\\rm norm}$ where `W(M,k)` has dimensions of field multiplied by volume, `N(M)/norm` has dimension of field multiplied by volume and `U(M,k)` is dimensionless and should tend to unity as k tends to zero, because its real space counter part is normalised. \n",
    "\n",
    "In our case, we are going to compute the power spectrum of matter overdensity (density contrast: $\\delta_{\\rm m}=(\\rho-\\bar\\rho)/\\bar\\rho$), which is dimensionless. We take `N(M)=M`, ${\\rm norm}=\\bar\\rho$, such that `N(M)/norm` = $M/\\bar\\rho$ and has dimensions of volume. We could also have set $N(M)=M/\\bar\\rho$ and `norm=1` and would get the same results. The distinction between these two approaches is important for discrete tracers, but not otherwise.\n",
    "\n",
    "We also need to set the optional `mass=True` in the halo profile, to let it know that our profile corresponds to a matter profile. This is important because the contribtion to the matter power of haloes below `Mmin`, set above, is important to the calculation (much of the mass in the Universe is in very low mass haloes), and this flag allows this to be taken into account in a consistent way."
   ]
  },
  {
   "cell_type": "code",
   "execution_count": null,
   "id": "3a7ddd36",
   "metadata": {},
   "outputs": [],
   "source": [
    "# Halo density profiles or window functions\n",
    "Uk = np.zeros((nM, nk))\n",
    "for iM, M in enumerate(Ms):\n",
    "    c = halomodel.concentration(M, z, method='Duffy et al. (2008)', halo_definition='Mvir') # Specifiy 'Mvir' for Duffy c(M)\n",
    "    rv = hmod.virial_radius(M) # Take Dv from the halomodel to ensure consistency\n",
    "    for ik, k in enumerate(ks):\n",
    "        Uk[iM, ik] = halomodel.halo_window_function(k, rv, c, profile='NFW')\n",
    "        \n",
    "# Initialise profile class\n",
    "matter_profile = halomodel.halo_profile(ks, Ms, Ms, Uk, hmod.rhom, mass=True)  # Need mass=True here"
   ]
  },
  {
   "cell_type": "markdown",
   "id": "f584af20",
   "metadata": {},
   "source": [
    "Now we are in a position to combine our halo model with our matter profile and do a calculation of the power spectrum. Note that profile must be provided as a list: `[matter_profile]` rather than `matter_profile`. The reason for this will become apparent soon. We use the result from the quad integration above, but note that whichever we use the impact on the power spectrum is very small (<0.1%). "
   ]
  },
  {
   "cell_type": "code",
   "execution_count": null,
   "id": "01509d47",
   "metadata": {},
   "outputs": [],
   "source": [
    "# Calculate the halo-model power spectrum\n",
    "Pk_2h, Pk_1h, Pk_hm = hmod.power_spectrum(ks, Ms, [matter_profile], lambda k: Pk_lin(z, k), sigmas=sigmaRs[-1])"
   ]
  },
  {
   "cell_type": "markdown",
   "id": "801f7cc6",
   "metadata": {},
   "source": [
    "Now let's do some plotting. Note carefully that the output arrays `Pk_2h`, `Pk_1h`, and `Pk_hm` are three dimensional, with `k` in the third dimension. In this first example the other two dimensions are length `1` because we have only provided one profile, the `matter_profile`. So to access the power spectrum we need `Pk_xx[0, 0, :]`."
   ]
  },
  {
   "cell_type": "code",
   "execution_count": null,
   "id": "1a62d3f1",
   "metadata": {},
   "outputs": [],
   "source": [
    "# Axis limits\n",
    "Pkmin = 1e1; Pkmax = 3e4\n",
    "rmin = 1e-1; rmax = 1e2\n",
    "smin = 0.0; smax = 1.1\n",
    "kmin_plot = 1e-3; kmax_plot = 1e1\n",
    "\n",
    "# Initialise plot\n",
    "plt.subplots(3, 1, figsize=(5,7), dpi=100)\n",
    "\n",
    "# P(k)\n",
    "plt.subplot(3, 1, 1)\n",
    "plt.loglog(ks, Pk_lin(z, ks), color=col_lin, label='Linear')\n",
    "plt.loglog(ks, Pk_2h[0, 0, :], color=col_mat, ls=ls_2h, label='Two-halo term')\n",
    "plt.loglog(ks, Pk_1h[0, 0, :], color=col_mat, ls=ls_1h, label='One-halo term')\n",
    "plt.loglog(ks, Pk_hm[0, 0, :], color=col_mat, ls=ls_hm, label='Halo model')\n",
    "plt.xticks([])\n",
    "plt.xlim((kmin_plot, kmax_plot))\n",
    "plt.ylabel(r'$P_\\mathrm{mm}(k)\\,/\\,(h^{-1} \\mathrm{Mpc})^3$')\n",
    "plt.ylim((Pkmin, Pkmax))\n",
    "plt.legend(fontsize='9', loc='lower left')\n",
    "\n",
    "# Residual with linear\n",
    "plt.subplot(3, 1, 2)\n",
    "plt.loglog(ks, Pk_lin(z, ks)/Pk_lin(z, ks), color=col_lin)\n",
    "plt.loglog(ks, Pk_2h[0, 0, :]/Pk_lin(z, ks), color=col_mat, ls=ls_2h)\n",
    "plt.loglog(ks, Pk_1h[0, 0, :]/Pk_lin(z, ks), color=col_mat, ls=ls_1h)\n",
    "plt.loglog(ks, Pk_hm[0, 0, :]/Pk_lin(z, ks), color=col_mat, ls=ls_hm)\n",
    "plt.xticks([])\n",
    "plt.xlim((kmin_plot, kmax_plot))\n",
    "plt.ylabel(r'$P_\\mathrm{mm}(k)\\,/\\,P^\\mathrm{lin}_{\\rm mm}(k)$')\n",
    "plt.ylim((rmin, rmax))\n",
    "\n",
    "# Residual with halo-model matter power\n",
    "plt.subplot(3, 1, 3)\n",
    "plt.semilogx(ks, Pk_lin(z, ks)/Pk_hm[0, 0, :], color=col_lin, ls='-')\n",
    "plt.semilogx(ks, Pk_2h[0, 0, :]/Pk_hm[0, 0, :], color=col_mat, ls=ls_2h)\n",
    "plt.semilogx(ks, Pk_1h[0, 0, :]/Pk_hm[0, 0, :], color=col_mat, ls=ls_1h)\n",
    "plt.semilogx(ks, Pk_hm[0, 0, :]/Pk_hm[0, 0, :], color=col_mat, ls=ls_hm)\n",
    "plt.xlabel(klab)\n",
    "plt.xlim((kmin_plot, kmax_plot))\n",
    "plt.ylabel(r'$P_\\mathrm{mm}(k)\\,/\\,P_\\mathrm{mm}^\\mathrm{hm}(k)$')\n",
    "plt.ylim((smin, smax))\n",
    "\n",
    "# Finish\n",
    "plt.tight_layout()\n",
    "plt.show()"
   ]
  },
  {
   "cell_type": "markdown",
   "id": "b0c71d8a",
   "metadata": {},
   "source": [
    "The upper panel shows the halo-model matter power spectrum broken into 2- and 1-halo components, we see that the 2-halo term dominates at large scales while the 1-halo term dominates at small scales, as expected. We see that the 1-halo term has a constant 'shot-noise' contribution at large scales, and we see that the 2-halo term deviates from the linear spectrum only at small scales, and only where the 1-halo term is dominating the overall spectrum. The shot-noise contribution of the one-halo term at large scales is unphysical, and arises because neither mass nor momentum conservation have been imposed in the initial step of the derivation of the halo model, but this has very little impact in practice, although the one-halo term will eventually (and unphysically) dominate the power at ultra-large scales. The middle panel shows each spectra relative to linear and the bottom shows the contribution of the 2- and 1-halo terms to the total. Note that each term contributes equally at `k ~ 0.5 h/Mpc`, which is the transition region. The slight (and unphysical) deviation of the total power from the linear result can be seen at `k~10^-3 h/Mpc`.\n",
    "\n",
    "Now let's calculate some galaxy spectra, first we need to specify a halo-occupation distribution (HOD) model to assign galaxies to haloes. In this example we choose a simple HOD, one that illustrates the basic point."
   ]
  },
  {
   "cell_type": "code",
   "execution_count": null,
   "id": "1cee60e8",
   "metadata": {},
   "outputs": [],
   "source": [
    "# Simple (unrealistic) HOD model\n",
    "def HOD(M, Mmin=1e12, Msat=1e13):\n",
    "    if M < Mmin:\n",
    "        return 0.\n",
    "    elif Mmin <= M and M < Msat:\n",
    "        return 1.\n",
    "    else:\n",
    "        return M/Msat\n",
    "\n",
    "# Fill an array with mean galaxy number at each halo mass\n",
    "Ng = np.zeros(nM)\n",
    "for iM, M in enumerate(Ms):\n",
    "    Ng[iM] = HOD(M)\n",
    "    \n",
    "# Compute the mean galaxy density corresponding to our HOD\n",
    "rhog = hmod.average(Ms, Ng, sigmas=sigmaRs[-1])\n",
    "print('Mean galaxy density [(Mpc/h)^-3]:', rhog)\n",
    "\n",
    "# Plot HOD\n",
    "plt.loglog(Ms, Ng, color=col_gal)\n",
    "plt.xlabel('Halo mass [$h^{-1}\\,M_\\odot$]')\n",
    "plt.ylabel('Number of galaxies')\n",
    "plt.ylim(bottom=1e-1)\n",
    "plt.xlim((1e11, 1e16))\n",
    "plt.show()"
   ]
  },
  {
   "cell_type": "markdown",
   "id": "cc96451a",
   "metadata": {},
   "source": [
    "The unusual HOD has a step feature, but that is no problem for `halomodel`.\n",
    "\n",
    "Now we can create a galaxy profile by combining the HOD with a halo window. Here we choose an isothermal profile `rho(r) ~ 1/r^2` for the galaxies and we set the `discrete=True` flag to let the calculation know that the halo profile corresponds to that of a discrete tracer, which ensures that `<N(N-1)>` is used in the one-halo term, rather than `<N^2>`. In the `W(M,k)=N(M)W(M,k)/norm` language we used before we have `N(M) = Ng(M)`, the number of galaxies in each halo, and `norm=rhog` the overall number-density of galaxies (dimension 1/volume). For discrete tracers (only) it is important to make the distinction between `N` and `norm`, and we would get different results if we set `N(M)=Ng(M)/norm` and `norm=1.`. We can then do a power spectrum calculation."
   ]
  },
  {
   "cell_type": "code",
   "execution_count": null,
   "id": "d61672f3",
   "metadata": {},
   "outputs": [],
   "source": [
    "# Halo density profiles or window functions\n",
    "Uk = np.zeros((nM, nk))\n",
    "for iM, M in enumerate(Ms):\n",
    "    c = halomodel.concentration(M, z, method='Duffy et al. (2008)', halo_definition='Mvir') # Specifiy 'Mvir' for Duffy c(M)\n",
    "    rv = hmod.virial_radius(M) # Take Dv from the halomodel to ensure consistency\n",
    "    for ik, k in enumerate(ks):\n",
    "        Uk[iM, ik] = halomodel.halo_window_function(k, rv, c, profile='NFW')\n",
    "\n",
    "# Galaxy profile: Need discrete=True here because profile is of a discrete galaxys\n",
    "galaxy_profile = halomodel.halo_profile(ks, Ms, Ng, Uk, rhog, discrete=True)\n",
    "\n",
    "# Calculate the halo-model power spectrum\n",
    "Pk_2h_gg, Pk_1h_gg, Pk_hm_gg = hmod.power_spectrum(ks, Ms, [galaxy_profile], lambda k: Pk_lin(z, k), sigmas=sigmaRs[-1])"
   ]
  },
  {
   "cell_type": "markdown",
   "id": "d56860d7",
   "metadata": {},
   "source": [
    "And we can plot the results once more..."
   ]
  },
  {
   "cell_type": "code",
   "execution_count": null,
   "id": "6b16c270",
   "metadata": {},
   "outputs": [],
   "source": [
    "# Axis limits\n",
    "Pkmin = 1e1; Pkmax = 1e5\n",
    "rmin = 1e-1; rmax = 1e2\n",
    "smin = 0.; smax = 1.05\n",
    "kmin_plot = 1e-3; kmax_plot = 1e1\n",
    "\n",
    "# Initialise plot\n",
    "plt.subplots(3, 1, figsize=(5, 7))\n",
    "\n",
    "# P(k)\n",
    "plt.subplot(3, 1, 1)\n",
    "plt.loglog(ks, Pk_lin(z, ks), color=col_lin, label='linear')\n",
    "plt.loglog(ks, Pk_2h_gg[0, 0, :], color=col_gal, ls='--', label='2-halo term')\n",
    "plt.loglog(ks, Pk_1h_gg[0, 0, :], color=col_gal, ls=':', label='1-halo term')\n",
    "plt.loglog(ks, Pk_hm_gg[0, 0, :], color=col_gal, ls='-', label='halo model for gals')\n",
    "plt.xticks([])\n",
    "plt.xlim((kmin_plot, kmax_plot))\n",
    "plt.ylabel(r'$P_\\mathrm{gg}(k)\\,/\\,(h^{-1} \\mathrm{Mpc})^3$')\n",
    "plt.ylim((Pkmin, Pkmax))\n",
    "plt.legend(fontsize='9')\n",
    "\n",
    "# Residual with linear\n",
    "plt.subplot(3, 1, 2)\n",
    "plt.loglog(ks, Pk_lin(z, ks)/Pk_lin(z, ks), color=col_lin)\n",
    "plt.loglog(ks, Pk_2h_gg[0, 0, :]/Pk_lin(z, ks), color=col_gal, ls='--')\n",
    "plt.loglog(ks, Pk_1h_gg[0, 0, :]/Pk_lin(z, ks), color=col_gal, ls=':')\n",
    "plt.loglog(ks, Pk_hm_gg[0, 0, :]/Pk_lin(z, ks), color=col_gal, ls='-')\n",
    "plt.xticks([])\n",
    "plt.xlim((kmin_plot, kmax_plot))\n",
    "plt.ylabel(r'$P_\\mathrm{gg}(k)\\,/\\,P^\\mathrm{lin}(k)$')\n",
    "plt.ylim((rmin, rmax))\n",
    "\n",
    "# Residual with halo-model matter power\n",
    "plt.subplot(3, 1, 3)\n",
    "plt.semilogx(ks, Pk_lin(z, ks)/Pk_hm_gg[0, 0, :], color=col_lin, ls='-')\n",
    "plt.semilogx(ks, Pk_2h_gg[0, 0, :]/Pk_hm_gg[0, 0, :], color=col_gal, ls='--')\n",
    "plt.semilogx(ks, Pk_1h_gg[0, 0, :]/Pk_hm_gg[0, 0, :], color=col_gal, ls=':')\n",
    "plt.semilogx(ks, Pk_hm_gg[0, 0, :]/Pk_hm_gg[0, 0, :], color=col_gal, ls='-')\n",
    "plt.xlabel(klab)\n",
    "plt.xlim((kmin_plot, kmax_plot))\n",
    "plt.ylabel(r'$P_\\mathrm{gg}(k)\\,/\\,P_\\mathrm{gg}^\\mathrm{hm}(k)$')\n",
    "plt.ylim((smin, smax))\n",
    "\n",
    "# Finish\n",
    "plt.tight_layout()\n",
    "plt.show()"
   ]
  },
  {
   "cell_type": "markdown",
   "id": "acdec302",
   "metadata": {},
   "source": [
    "The galaxy spectrum looks superficially similar to the matter spectrum but the details are different. Note the large-scale bias means that the amplitude of the galaxy spectrum is elevated with respect to the linear spectrum. The relative amplitude of this offset is the squared bias of our galaxy sample, and so it looks like our HOD corresponds to a galaxy sample with `b ~ 1.3`. Note that in the case of the galaxy sample the large-scale shot noise in the one-halo term, as the galaxy distribution is not restrained by either mass or momentum conservation. However, in this example the classic `1/n` galaxy shot noise has been subtracted from the spectrum, which is already handled by the one-halo calculation. If one would rather retain this shot noise, then one can set the `shot=True` flag in the `halomodel.Pk_hm` calculation.\n",
    "\n",
    "Now that we have created both matter and galaxy profiles, it is easy to cross correlate them by supplying a list of the two halo profiles. When we do this, the code calculates both auto spectra and also the cross spectrum. If we supply `n` halo profiles then we get the triangle number of `n` independent auto/cross spectra computed. These are stored in the first two dimensions of the `Pk_xx[:, :, :]` arrays, each of length `n`, so there is some redundancy."
   ]
  },
  {
   "cell_type": "code",
   "execution_count": null,
   "id": "6c0cc689",
   "metadata": {},
   "outputs": [],
   "source": [
    "# Calculate the halo-model power spectrum\n",
    "profiles = [matter_profile, galaxy_profile]\n",
    "Pk_2h, Pk_1h, Pk_hm = hmod.power_spectrum(ks, Ms, profiles, lambda k: Pk_lin(z, k), sigmas=sigmaRs[-1])"
   ]
  },
  {
   "cell_type": "markdown",
   "id": "2c6d6dc2",
   "metadata": {},
   "source": [
    "...and plot, noting that `Pk_xx[0, 0, :]` singles out the matter-matter (auto) spectrum, `Pk_xx[1, 1, :]` singles out the galaxy-galaxy (auto) spectrum, and `Pk_xx[0, 1, :]` singles out the matter-galaxy cross spectrum, and is identical to `Pk_xx[1, 0, :]`:"
   ]
  },
  {
   "cell_type": "code",
   "execution_count": null,
   "id": "4bb07d03",
   "metadata": {},
   "outputs": [],
   "source": [
    "# Plot matter, galaxy and cross spectra\n",
    "\n",
    "# Axis limits\n",
    "Pkmin = 1e1; Pkmax = 5e4\n",
    "kmin_plot = 1e-3; kmax_plot = 1e1\n",
    "rmin = 1e-1; rmax = 1e2\n",
    "smin = 0.; smax = 2.4\n",
    "\n",
    "# Initialise plot\n",
    "plt.subplots(3, 1, figsize=(5, 7), dpi=100, sharex=True)\n",
    "plt.subplots_adjust(wspace=0.1, hspace=0.1) \n",
    "\n",
    "# Lists for plots\n",
    "Pks = [Pk_2h[0, 0, :], Pk_1h[0, 0, :], Pk_hm[0, 0, :], Pk_hm[1, 1, :], Pk_hm[0, 1, :]]\n",
    "cols = 3*[col_mat]+[col_gal, col_mg]\n",
    "lss = [ls_2h, ls_1h, ls_hm, ls_hm, ls_hm]\n",
    "labs = [None, None, 'matter', 'galaxy', 'matter-galaxy']\n",
    "\n",
    "# P(k)\n",
    "plt.subplot(3, 1, 1)\n",
    "plt.loglog(ks, Pk_lin(z, ks), color=col_lin, label='linear')\n",
    "for (ls, lab) in zip([ls_2h, ls_1h], ['2-halo term', '1-halo term']):\n",
    "    plt.plot(np.nan, ls=ls, label=lab, color='black')\n",
    "\n",
    "for (Pk, col, ls, lab) in zip(Pks, cols, lss, labs):\n",
    "    plt.loglog(ks, Pk, color=col, ls=ls, label=lab)\n",
    "\n",
    "plt.xticks([])\n",
    "plt.xlim((kmin_plot, kmax_plot))\n",
    "plt.ylabel(r'$P_{\\rm uv}(k)\\,/\\,(h^{-1} \\mathrm{Mpc})^3$')\n",
    "plt.ylim((Pkmin, Pkmax))\n",
    "plt.legend(ncol=2, loc='lower left', fontsize='9')\n",
    "\n",
    "# Lists for plots\n",
    "Pks = [Pk_2h[0, 0, :], Pk_1h[0, 0, :], Pk_hm[0, 0, :],\n",
    "       Pk_2h[1, 1, :], Pk_1h[1, 1, :], Pk_hm[1, 1, :],\n",
    "       Pk_2h[0, 1, :], Pk_1h[0, 1, :], Pk_hm[0, 1, :]]\n",
    "cols = 3*[col_mat]+3*[col_gal]+3*[col_mg]\n",
    "lss = 3*[ls_2h, ls_1h, ls_hm]\n",
    "\n",
    "# Residual with linear\n",
    "plt.subplot(3, 1, 2)\n",
    "plt.loglog(ks, Pk_lin(z, ks)/Pk_lin(z, ks), color=col_lin)\n",
    "for (Pk, col, ls) in zip(Pks, cols, lss):\n",
    "    plt.loglog(ks, Pk/Pk_lin(z, ks), color=col, ls=ls)\n",
    "plt.xticks([])\n",
    "plt.xlim((kmin_plot, kmax_plot))\n",
    "plt.ylabel(r'$P_{\\rm uv}(k)\\,/\\,P^\\mathrm{lin}(k)$')\n",
    "plt.ylim((rmin, rmax))\n",
    "\n",
    "# Residual with halo-model matter power\n",
    "plt.subplot(3, 1, 3)\n",
    "plt.semilogx(ks, Pk_lin(z, ks)/Pk_hm[0, 0, :], color=col_lin)\n",
    "for (Pk, col, ls) in zip(Pks, cols, lss):\n",
    "    plt.semilogx(ks, Pk/Pk_hm[0, 0, :], color=col, ls=ls)\n",
    "plt.xlabel(klab)\n",
    "plt.xlim((kmin_plot, kmax_plot))\n",
    "plt.ylabel(r'$P_{\\rm uv}(k)\\,/\\,P_\\mathrm{mm}(k)$')\n",
    "plt.ylim((smin, smax))\n",
    "\n",
    "# Finish\n",
    "plt.show()"
   ]
  },
  {
   "cell_type": "markdown",
   "id": "9d7f5783",
   "metadata": {},
   "source": [
    "We see that all spectra have the same shape at large scales, but that those spectra that involve galaxies are offset in amplitude. This tells us that the galaxy sample is positively biased, with `b~1.3`. At smaller scales the spectra are all similarly shaped, but the exact scale dependence is different for each. This arises because of the different way that matter and galaxies occupy haloes."
   ]
  },
  {
   "attachments": {},
   "cell_type": "markdown",
   "id": "95cf62f2",
   "metadata": {},
   "source": [
    "Now lets plot the dimensionless multiplicity function, $M^2 n(M)/\\bar\\rho$, as a function of halo mass for three popular halo mass functions: Sheth & Tormen (1999); Tinker et al. (2010); Despali et al. (2016) at $z = 0$ (solid) and $z = 1$ (dashed) for the virial halo definition. Note that the `kmax` value for `Pk_lin` is very important here. We chose `kmax=200`, which produces smooth functions. A smaller `kmax` can produce noisy results for lower masses."
   ]
  },
  {
   "cell_type": "code",
   "execution_count": null,
   "id": "89b00310",
   "metadata": {},
   "outputs": [],
   "source": [
    "mass_functions = [\n",
    "    'Sheth & Tormen (1999)',\n",
    "    'Tinker et al. (2010)',\n",
    "    'Despali et al. (2016)',\n",
    "]\n",
    "\n",
    "# Calculate b(M) and n(M)\n",
    "bs = []\n",
    "Fs = []\n",
    "for iz, z in enumerate(zs):\n",
    "    for mass_function in mass_functions:\n",
    "        print(mass_function, 'z = %1.1f'%(z))\n",
    "        hmod = halomodel.halo_model(z, Omega_m, name=mass_function, Dv=330.)\n",
    "        b = hmod.linear_bias(Ms, sigmas=sigmaRs[iz])\n",
    "        F = hmod.multiplicity_function(Ms, sigma=lambda R: camb_results.get_sigmaR(R, hubble_units=True, return_R_z=False)[iz])\n",
    "        bs.append(b)\n",
    "        Fs.append(F)"
   ]
  },
  {
   "cell_type": "code",
   "execution_count": null,
   "id": "5bbf1948",
   "metadata": {},
   "outputs": [],
   "source": [
    "# Make the plot\n",
    "plt.subplots(2, 1, figsize=(5, 4), dpi=100, sharex=True)\n",
    "n = len(mass_functions)\n",
    "\n",
    "# Mass function\n",
    "plt.subplot(2, 1, 1)\n",
    "plt.plot(Ms[0], np.nan, color='black', ls='-', label=r'$z=0$')\n",
    "plt.plot(Ms[0], np.nan, color='black', ls='--', label=r'$z=1$')\n",
    "for i, mass_function in enumerate(mass_functions):\n",
    "    plt.plot(Ms, Fs[i], ls='--', color='C%d'%i)\n",
    "    plt.plot(Ms, Fs[i+n], ls='-', color='C%d'%i)\n",
    "plt.xscale('log')\n",
    "plt.gca().set_xticklabels([])\n",
    "plt.ylim((0., 0.06))\n",
    "plt.ylabel(r'$M^2 n(M)/\\bar\\rho$')\n",
    "# Common x-axis\n",
    "plt.xlim((Ms[0], Ms[-1]))\n",
    "plt.legend()\n",
    "\n",
    "# Linear bias\n",
    "plt.subplot(2, 1, 2)\n",
    "plt.axhline(1., color='black')\n",
    "for i, mass_function in enumerate(mass_functions):\n",
    "    plt.plot(Ms, bs[i], ls='--', color='C%d'%i)\n",
    "    plt.plot(Ms, bs[i+n], ls='-', color='C%d'%i, label=mass_function)\n",
    "plt.xlabel(r'$M / h^{-1} M_\\odot$')\n",
    "plt.xscale('log')\n",
    "plt.ylim((0., 5.))\n",
    "plt.ylabel(r'$b(M)$')\n",
    "\n",
    "# Common x-axis\n",
    "plt.xlim((Ms[0], Ms[-1]))\n",
    "plt.legend()\n",
    "\n",
    "#plt.savefig('plots/hmf_and_bias.pdf',bbox_inches='tight')\n",
    "plt.show()"
   ]
  },
  {
   "cell_type": "markdown",
   "id": "58733c24",
   "metadata": {},
   "source": [
    "The rest of the plots show how one can use the other functionalities of the halomodel code. Feel free to play around with this or move on to the other notebooks and see how the other figures in the review are created. \n",
    "\n",
    "Now, let's create a more realistic HOD with both central and satellite galaxies with their own unique statistical properties. We will use the Zheng et al. (2005) HOD model. In the more realistic example we also need to consider the variance both central and satellite occupation numbers at each halo mass. As is common, we will assume that central galaxies are Bernoulli distributed (either 0 or 1 with some probability) and that satellite galaxies are Poisson distributed."
   ]
  },
  {
   "cell_type": "code",
   "execution_count": null,
   "id": "9c69fff3",
   "metadata": {},
   "outputs": [],
   "source": [
    "# Zheng et al. (2005) HOD with some reasonable parameters\n",
    "N_cen, N_sat = halomodel.HOD_mean(Ms, method='Zheng et al. (2005)', Mmin=1e12, sigma=0.15, M0=1e12, M1=1e13, alpha=1.)\n",
    "V_cen, V_sat, _ = halomodel.HOD_variance(N_cen, N_sat, central_condition=False)\n",
    "\n",
    "# Calculate variance\n",
    "#V_cen = N_cen*(1.-N_cen) # Bernoulli statistics: mean = p; var = p(1-p)\n",
    "#V_sat = N_sat # Poisson statistics: mean = lam; var = lam\n",
    "\n",
    "# Compute the mean galaxy density corresponding to our HOD\n",
    "rho_cen = hmod.average(Ms, N_cen, sigmas=sigmaRs[-1])\n",
    "rho_sat = hmod.average(Ms, N_sat, sigmas=sigmaRs[-1])\n",
    "rho_gal = rho_cen+rho_sat\n",
    "print('Mean central galaxy density [(Mpc/h)^-3]:', rho_cen)\n",
    "print('Mean satellite galaxy density [(Mpc/h)^-3]:', rho_sat)\n",
    "print('Mean galaxy density [(Mpc/h)^-3]:', rho_gal)\n",
    "print('Central galaxy fraction:', rho_cen/rho_gal)\n",
    "print('Satellite galaxy fraction:', rho_sat/rho_gal)\n",
    "\n",
    "# Plot HOD\n",
    "plt.fill_between(Ms, N_cen+np.sqrt(V_cen), N_cen-np.sqrt(V_cen), color=col_cen, alpha=0.2)\n",
    "plt.fill_between(Ms, N_sat+np.sqrt(V_sat), N_sat-np.sqrt(V_sat), color=col_sat, alpha=0.2)\n",
    "plt.loglog(Ms, N_cen, color=col_cen, label='Centrals')\n",
    "plt.loglog(Ms, N_sat, color=col_sat, label='Satellites')\n",
    "plt.xlabel('Halo mass [$h^{-1}\\,M_\\odot$]')\n",
    "plt.xlim((1e11, 1e15))\n",
    "plt.ylabel('Number of galaxies')\n",
    "plt.ylim((1e-1, 1e2))\n",
    "plt.legend()\n",
    "plt.show()"
   ]
  },
  {
   "cell_type": "markdown",
   "id": "62209458",
   "metadata": {},
   "source": [
    "On plotting the HOD distribution as a function of halo mass we can see the mean occupancy and its variance both look quite reasonable.\n",
    "\n",
    "Now we can set up the profiles of the central and satellite galaxies and compute the halo model power. Here we include the variance via `var` optional argument; note that this corresponds to the variance in `N(M)` at each `M`. We then sum the component power spectra to get the total. We need to sum central-central, central-satellite, satellite-central and satellite-satellite. Note that central-satellite is equal to satellite-central, but both must be included (or twice one of them). Also note that we define `norm=rho_gal` for each halo profile, rather than `norm=rho_cen` or `norm=rho_sat`, which allows us to sum them nicely at the end. Here we have assumed that the presence of central and satellite galaxies are entirely independent, which allows for the possibility of haloes hosting a satellite galaxy without hosting a central. With the particular parameters we have chosen this is not important, but in general one may wish to impose the 'central-condition' that satellite galaxies cannot be present without a central. This introduces a covariance between central and satellite occupation that cannot be included in the current version of `pyhalomodel`."
   ]
  },
  {
   "cell_type": "code",
   "execution_count": null,
   "id": "ef3b33b9",
   "metadata": {},
   "outputs": [],
   "source": [
    "# Halo density profiles or window functions\n",
    "Uk_cen = np.zeros((nM, nk)); Uk_sat = np.zeros((nM, nk))\n",
    "for iM, M in enumerate(Ms):\n",
    "    c = halomodel.concentration(M, z, method='Duffy et al. (2008)', halo_definition='Mvir') # Specifiy 'Mvir' for Duffy c(M)\n",
    "    rv = hmod.virial_radius(M) # Take Dv from the halomodel to ensure consistency\n",
    "    for ik, k in enumerate(ks):\n",
    "        Uk_cen[iM, ik] = halomodel.halo_window_function(k, rv, profile='delta')\n",
    "        Uk_sat[iM, ik] = halomodel.halo_window_function(k, rv, c, profile='NFW')\n",
    "\n",
    "# Initialise profile class; need discrete=True here because profile is of a discrete tracer\n",
    "central_profile = halomodel.halo_profile(ks, Ms, N_cen, Uk_cen, rho_gal, var=V_cen, discrete=True)\n",
    "satellite_profile = halomodel.halo_profile(ks, Ms, N_sat, Uk_sat, rho_gal, var=V_sat, discrete=True)\n",
    "\n",
    "# Calculate the halo-model power spectrum\n",
    "profiles = [central_profile, satellite_profile]\n",
    "_, _, Pk_hm = hmod.power_spectrum(ks, Ms, profiles, lambda k: Pk_lin(z, k), sigmas=sigmaRs[-1])\n",
    "\n",
    "# Sum to get the total galaxy power; cross terms are identical, but we need to include both in the sum\n",
    "Pk_gg = Pk_hm[0, 0, :]+Pk_hm[0, 1, :]+Pk_hm[1, 0, :]+Pk_hm[1, 1, :]"
   ]
  },
  {
   "cell_type": "markdown",
   "id": "31d8adc5",
   "metadata": {},
   "source": [
    "... and plot the power spectra of centrals, satellites, their cross spectra and the total..."
   ]
  },
  {
   "cell_type": "code",
   "execution_count": null,
   "id": "66bdd956",
   "metadata": {},
   "outputs": [],
   "source": [
    "# Axis limits\n",
    "Pkmin = 1e1; Pkmax = 1e5\n",
    "rmin = 1e-1; rmax = 1e2\n",
    "smin = 0.; smax = 1.1\n",
    "kmin_plot = 1e-3; kmax_plot = 1e1\n",
    "\n",
    "# Initialise plot\n",
    "plt.subplots(3, 1, figsize=(5,7))\n",
    "\n",
    "# Lists for plot\n",
    "Pks = [Pk_hm[0, 0, :], Pk_hm[1, 1, :], 2.*Pk_hm[0, 1, :], Pk_gg]\n",
    "cols = [col_cen, col_sat, col_cs, col_gal]\n",
    "labs = ['central', 'satellite', 'central-satellite', 'all galaxies']\n",
    "\n",
    "# P(k)\n",
    "plt.subplot(3, 1, 1)\n",
    "plt.loglog(ks, Pk_lin(z, ks), color=col_lin, label='linear')\n",
    "for (Pk, col, lab) in zip(Pks, cols, labs):\n",
    "    plt.loglog(ks, Pk, color=col, label=lab)\n",
    "plt.xticks([])\n",
    "plt.xlim((kmin_plot, kmax_plot))\n",
    "plt.ylabel(r'$P_{uv}(k)\\,/\\,(h^{-1} \\mathrm{Mpc})^3$')\n",
    "plt.ylim((Pkmin, Pkmax))\n",
    "plt.legend(fontsize='9')\n",
    "\n",
    "# Residual with linear\n",
    "plt.subplot(3, 1, 2)\n",
    "plt.loglog(ks, Pk_lin(z, ks)/Pk_lin(z, ks), color=col_lin)\n",
    "for (Pk, col) in zip(Pks, cols):\n",
    "    plt.loglog(ks, Pk/Pk_lin(z, ks), color=col)\n",
    "plt.xticks([])\n",
    "plt.xlim((kmin_plot, kmax_plot))\n",
    "plt.ylabel(r'$P_{uv}(k)\\,/\\,P^\\mathrm{lin}(k)$')\n",
    "plt.ylim((rmin, rmax))\n",
    "\n",
    "# Residual with halo-model matter power\n",
    "plt.subplot(3, 1, 3)\n",
    "plt.semilogx(ks, Pk_lin(z, ks)/Pk_gg, color='black')\n",
    "for (Pk, col) in zip(Pks, cols):\n",
    "    plt.semilogx(ks, Pk/Pk_gg, color=col)\n",
    "plt.xlabel(klab)\n",
    "plt.xlim((kmin_plot, kmax_plot))\n",
    "plt.ylabel(r'$P_{uv}(k)\\,/\\,P_\\mathrm{gg}^\\mathrm{hm}(k)$')\n",
    "plt.ylim((smin, smax))\n",
    "\n",
    "# Finish\n",
    "plt.tight_layout()\n",
    "plt.show()"
   ]
  },
  {
   "cell_type": "markdown",
   "id": "b5c699cd",
   "metadata": {},
   "source": [
    "We can see that the central-central, central-satellite, satellite-central and central-central terms all contribute roughly equally at large scales (which is a coincidence for this particular HOD choice with this cosmology and redshift; note that twice the central-satellite term is plotted), then the satellite auto spectrum dominates at intermediate scales, while the central-satellite cross spectrum dominates at the smallest scales.\n",
    "\n",
    "Another (approximate) way of calculating the total galaxy spectrum is in 'one go', rather than by summing contributions. Here we generate a total galaxy HOD under the assumption that the total occupation variance is the sum of the variances of central and satellite:"
   ]
  },
  {
   "cell_type": "code",
   "execution_count": null,
   "id": "7b35fb61",
   "metadata": {},
   "outputs": [],
   "source": [
    "# Calculate the total number of galaxies and the variance of the total\n",
    "N_gal = N_cen+N_sat # Total galaxies is a sum of central and satellites\n",
    "V_gal = V_cen+V_sat # If galaxy distributions are independent then variances add\n",
    "\n",
    "# Plot HOD\n",
    "for (N, V, col) in zip([N_cen, N_sat, N_gal], [V_cen, V_sat, V_gal], [col_cen, col_sat, col_gal]):\n",
    "    plt.fill_between(Ms, N+np.sqrt(V), N-np.sqrt(V), color=col, alpha=0.2)\n",
    "for (N, col, lab) in zip([N_cen, N_sat, N_gal], [col_cen, col_sat, col_gal], ['centrals', 'satellites', 'total']):\n",
    "    plt.loglog(Ms, N, color=col, label=lab)\n",
    "plt.xlabel('Halo mass [$h^{-1}\\,M_\\odot$]')\n",
    "plt.xlim((1e11, 1e15))\n",
    "plt.ylabel('Number of galaxies')\n",
    "plt.ylim((1e-1, 1e2))\n",
    "plt.legend()\n",
    "plt.show()"
   ]
  },
  {
   "cell_type": "markdown",
   "id": "09b4156f",
   "metadata": {},
   "source": [
    "We see that the total mean number of galaxies and its variance both look reasonable.\n",
    "\n",
    "Now we can compute the halo profile corresponding to the galaxies. This is a sum of the profiles for centrals and satellites, but weighted by the occupation number of each. With this in hand we can compute our halo model..."
   ]
  },
  {
   "cell_type": "code",
   "execution_count": null,
   "id": "63a2e80f",
   "metadata": {},
   "outputs": [],
   "source": [
    "# Calculate a galaxy profile as a weighted-mean profile\n",
    "Uk_gal = np.zeros((nM, nk))\n",
    "for iM, _ in enumerate(Ms):\n",
    "    if N_gal[iM] == 0.:\n",
    "        Uk_gal[iM, :] = 0.\n",
    "    else:\n",
    "        # Weighted mean profile for the sum\n",
    "        for ik, _ in enumerate(ks):\n",
    "            Uk_gal[iM, ik] = (N_cen[iM]*Uk_cen[iM, ik]+N_sat[iM]*Uk_sat[iM, ik])/N_gal[iM]\n",
    "            \n",
    "# Halo profile\n",
    "galaxy_profile = halomodel.halo_profile(ks, Ms, N_gal, Uk_gal, rho_gal, var=V_gal, discrete=True)\n",
    "\n",
    "# Power calculation\n",
    "_, _, Pk_hm = hmod.power_spectrum(ks, Ms, [galaxy_profile], lambda k: Pk_lin(z, k), sigmas=sigmaRs[-1])\n",
    "P_sn = 1./rho_gal"
   ]
  },
  {
   "cell_type": "markdown",
   "id": "948c3be7",
   "metadata": {},
   "source": [
    "... and plot a comparison of the power spectra of the approximate model to the correct model ..."
   ]
  },
  {
   "cell_type": "code",
   "execution_count": null,
   "id": "7e9f5e86",
   "metadata": {},
   "outputs": [],
   "source": [
    "# Axis limits\n",
    "Pkmin = 1e1; Pkmax = 1e5\n",
    "rmin = 1e-1; rmax = 1e2\n",
    "smin = 0.95; smax = 1.05\n",
    "kmin_plot = 1e-3; kmax_plot = 1e1\n",
    "\n",
    "# Initialise plot\n",
    "plt.subplots(3, 1, figsize=(5,7))\n",
    "\n",
    "# P(k)\n",
    "plt.subplot(3, 1, 1)\n",
    "plt.loglog(ks, Pk_lin(z, ks), color=col_lin, label='linear')\n",
    "plt.loglog(ks, Pk_gg, color=col_gal, label='all galaxies')\n",
    "plt.loglog(ks, Pk_hm[0, 0, :], color=col_gal, ls=':', label='approximate')\n",
    "plt.loglog(ks, len(ks)*[P_sn], color='black', ls=':', label='shot noise')\n",
    "plt.xticks([])\n",
    "plt.xlim((kmin_plot, kmax_plot))\n",
    "plt.ylabel(r'$P_\\mathrm{gg}(k)\\,/\\,(h^{-1} \\mathrm{Mpc})^3$')\n",
    "plt.ylim((Pkmin, Pkmax))\n",
    "plt.legend(fontsize='9')\n",
    "\n",
    "# Residual with linear\n",
    "plt.subplot(3, 1, 2)\n",
    "plt.loglog(ks, Pk_lin(z, ks)/Pk_lin(z, ks), color=col_lin)\n",
    "plt.loglog(ks, Pk_gg/Pk_lin(z, ks), color=col_gal)\n",
    "plt.loglog(ks, Pk_hm[0, 0, :]/Pk_lin(z, ks), ls=':', color=col_gal)\n",
    "plt.xticks([])\n",
    "plt.xlim((kmin_plot, kmax_plot))\n",
    "plt.ylabel(r'$P_\\mathrm{gg}(k)\\,/\\,P^\\mathrm{lin}(k)$')\n",
    "plt.ylim((rmin, rmax))\n",
    "\n",
    "# Residual with halo-model matter power\n",
    "plt.subplot(3, 1, 3)\n",
    "plt.semilogx(ks, Pk_lin(z, ks)/Pk_gg, color=col_lin)\n",
    "plt.semilogx(ks, Pk_gg/Pk_gg, color=col_gal)\n",
    "plt.semilogx(ks, Pk_hm[0, 0, :]/Pk_gg, ls=':', color=col_gal)\n",
    "plt.xlabel(klab)\n",
    "plt.xlim((kmin_plot, kmax_plot))\n",
    "plt.ylabel(r'$P_\\mathrm{gg}(k)\\,/\\,P_\\mathrm{gg}^\\mathrm{correct}(k)$')\n",
    "plt.ylim((smin, smax))\n",
    "\n",
    "# Finish\n",
    "plt.tight_layout()\n",
    "plt.show()"
   ]
  },
  {
   "cell_type": "markdown",
   "id": "600dadf7",
   "metadata": {},
   "source": [
    "We see that the approximate scheme agrees well with the full calculation, where central and satellite contributions are considered separately, but that we get ~1% deviations by k ~ 3 h/Mpc. In both cases shot noise (1/ng) has been subtracted from the galaxy power. The difference arises because in the correct central-central power, the one-halo term is automatically zero when shot-noise is subtracted (<N(N-1)> = 0 for central galaxies), however, in the approximate case the auto correlationo of the central galaxy profile always contributes to the one-halo term, even though its contribution is supressed by the larger contribution of the satellite profile. Since the central-galaxy profile is a delta function, it is spread evenly over all k in Fourier space, and it eventually (and incorrectly) dominates over the satellite contribution at some large wavenumber. There is no way of avoiding this unless the galaxy contribution is correctly split into central and satellites, eacch with their own statistical properies. The exact wavenumber where this error appears, and the effect it may have on the power, will be dependent on the HOD. We recommend always treating central and satellite galaxies separately.\n",
    "\n",
    "Next, let's see what happens when we change the halo mass function used in the calculation. To do this, we will need to create some new 'halo models':"
   ]
  },
  {
   "cell_type": "code",
   "execution_count": null,
   "id": "fbbce281",
   "metadata": {},
   "outputs": [],
   "source": [
    "# Initialise halo models; all using virial halo definition\n",
    "hms = ['Tinker et al. (2010)', 'Sheth & Tormen (1999)', 'Despali et al. (2016)']\n",
    "hmods = []\n",
    "for hm in hms:\n",
    "    hmods.append(halomodel.halo_model(z,Omega_m, name=hm, Dv=330.))\n",
    "\n",
    "# Use both matter and galaxy profiles\n",
    "profiles = [matter_profile, galaxy_profile]\n",
    "\n",
    "# Halo model computations\n",
    "Pks = []\n",
    "for hmod in hmods:\n",
    "    _, _, Pk_hm = hmod.power_spectrum(ks, Ms, profiles, lambda k: Pk_lin(z, k), sigmas=sigmaRs[-1])\n",
    "    Pks.append(Pk_hm)"
   ]
  },
  {
   "cell_type": "markdown",
   "id": "d8b86b1e",
   "metadata": {},
   "source": [
    "Then we can plot comparisons of the power spectra that have been computed using the different halo mass functions."
   ]
  },
  {
   "cell_type": "code",
   "execution_count": null,
   "id": "251339cd",
   "metadata": {},
   "outputs": [],
   "source": [
    "# Axis ranges\n",
    "rmin = 0.95; rmax = 1.15\n",
    "\n",
    "# P(k)\n",
    "for (ls, lab) in zip(['-', '--', ':'], ['matter', 'matter-galaxy', 'galaxy']):\n",
    "    plt.plot(np.nan, color='black', ls=ls, label=lab)\n",
    "for (col, Pk, hm) in zip(['C0', 'C1', 'C2'], Pks, hms):\n",
    "    plt.semilogx(ks, Pk[0, 0, :]/Pks[0][0, 0, :], color=col, ls='-', label=hm)\n",
    "    plt.semilogx(ks, Pk[0, 1, :]/Pks[0][0, 1, :], color=col, ls='--')\n",
    "    plt.semilogx(ks, Pk[1, 1, :]/Pks[0][1, 1, :], color=col, ls=':')\n",
    "plt.xlabel(klab)\n",
    "plt.xlim((kmin, kmax))\n",
    "plt.ylabel(r'$P_{uv}(k)\\,/\\,P^\\mathrm{Tinker}_{uv}(k)$')\n",
    "plt.ylim((rmin, rmax))\n",
    "plt.legend()\n",
    "plt.show()"
   ]
  },
  {
   "cell_type": "markdown",
   "id": "8f2a62b4",
   "metadata": {},
   "source": [
    "We see that the choice of mass function can have O(10%) level effects on the power spectrum, with the effect being most pronouced around k = 1 h/Mpc. Sheth & Tormen (1999) predicts more high-mass haloes compared to the other mass functions, which results in a boost in power in intermediate regions and also a larger shot-noise contribution in the matter at large scales because the density field is decomposed into fewer haloes.\n",
    "\n",
    "Finally, let's have a look at the matter power spectrum when we change the halo definition, but keep everything all as constant as possible."
   ]
  },
  {
   "cell_type": "code",
   "execution_count": null,
   "id": "b22d4c16",
   "metadata": {},
   "outputs": [],
   "source": [
    "# Create a new halo model for each new halo model\n",
    "Dvs = [('M200', 200.), ('Mvir', 330.), ('M200c', 200./Omega_m)]\n",
    "hmods = []\n",
    "for (_, Dv) in Dvs:\n",
    "    hmods.append(halomodel.halo_model(z, Omega_m, name='Tinker et al. (2010)', Dv=Dv, verbose=True)) \n",
    "    \n",
    "# Halo density profiles or window functions\n",
    "Uks = []\n",
    "for hmod, Dv in zip(hmods, Dvs):\n",
    "    halo_definition = Dv[0]\n",
    "    Uk = np.zeros((nM, nk))\n",
    "    for iM, M in enumerate(Ms):\n",
    "        c = halomodel.concentration(M, z, halo_definition=halo_definition) # Must use an appropriate concentration-mass relation \n",
    "        rv = hmod.virial_radius(M) # Take Dv from the halomodel to ensure consistency\n",
    "        for ik, k in enumerate(ks):\n",
    "            Uk[iM, ik] = halomodel.halo_window_function(k, rv, c, profile='NFW')\n",
    "    Uks.append(Uk)\n",
    "\n",
    "# Create a separate matter profile for each halo definition\n",
    "profiles = []\n",
    "for Uk in Uks:\n",
    "    profiles.append(halomodel.halo_profile(ks, Ms, Ms, Uk, hmod.rhom, mass=True))\n",
    "\n",
    "Pks = []\n",
    "for (hmod, profile) in zip(hmods, profiles):\n",
    "    _, _, Pk_hm = hmod.power_spectrum(ks, Ms, [profile], lambda k: Pk_lin(z, k), sigmas=sigmaRs[-1])\n",
    "    Pks.append(Pk_hm)"
   ]
  },
  {
   "cell_type": "code",
   "execution_count": null,
   "id": "996cb8f3",
   "metadata": {},
   "outputs": [],
   "source": [
    "# P(k)\n",
    "rmin = 0.7; rmax = 1.2\n",
    "\n",
    "# Loop over Dv definitions and plot\n",
    "for (col, Dv, Pk) in zip(['C0', 'C1', 'C2'], Dvs, Pks):\n",
    "    plt.semilogx(ks, Pk[0, 0, :]/Pks[1][0, 0, :], color=col, ls='-', label=Dv[0])\n",
    "plt.xlabel(klab)\n",
    "plt.xlim((kmin, kmax))\n",
    "plt.ylabel(r'$P_\\mathrm{mm}(k)\\,/\\,P^\\mathrm{M_{vir}}_\\mathrm{mm}(k)$')\n",
    "plt.ylim((rmin, rmax))\n",
    "plt.legend()\n",
    "plt.show()"
   ]
  },
  {
   "cell_type": "markdown",
   "id": "73cb154c",
   "metadata": {},
   "source": [
    "Changing the halo-mass definition makes a surprisingly large difference to the overall power spectrum, particularly around the transition region. Clearly the matter power spectrum shoulnd not depend on how haloes are defined, so this final plot serves as a warning that one needs to be very careful with the halo model. Keep its level of accuracy in mind when using it for cosmological calculations! One needs to pick ingredients consistently and carefully, and also be aware of what is being missed in the standard calculation."
   ]
  }
 ],
 "metadata": {
  "kernelspec": {
   "display_name": "halomodel-review-w93DCCWo-py3.10",
   "language": "python",
   "name": "python3"
  },
  "language_info": {
   "codemirror_mode": {
    "name": "ipython",
    "version": 3
   },
   "file_extension": ".py",
   "mimetype": "text/x-python",
   "name": "python",
   "nbconvert_exporter": "python",
   "pygments_lexer": "ipython3",
   "version": "3.10.9"
  },
  "vscode": {
   "interpreter": {
    "hash": "41ff0ec98bca25e72a1e71a24e0e5e4546423de9525991eddeb8e4594fc81649"
   }
  }
 },
 "nbformat": 4,
 "nbformat_minor": 5
}

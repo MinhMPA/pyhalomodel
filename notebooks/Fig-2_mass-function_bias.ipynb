{
 "cells": [
  {
   "attachments": {},
   "cell_type": "markdown",
   "id": "18dbf725",
   "metadata": {},
   "source": [
    "# Fig 2: Dimensionless multiplicity function $M^2 n(M)/\\bar\\rho$ and linear halo bias $b(M)$\n",
    "\n",
    "First we import the libraries we need:|"
   ]
  },
  {
   "cell_type": "code",
   "execution_count": null,
   "id": "8be2cdf0",
   "metadata": {},
   "outputs": [],
   "source": [
    "# Standard imports\n",
    "import sys\n",
    "import numpy as np\n",
    "import matplotlib.pyplot as plt\n",
    "\n",
    "# Third-party imports\n",
    "import camb # Calculates the linear matter power spectrum\n",
    "\n",
    "# Halo Model library imports\n",
    "sys.path.append('../halomodel/')\n",
    "import cosmology\n",
    "import halomodel"
   ]
  },
  {
   "cell_type": "markdown",
   "id": "502a13ff",
   "metadata": {},
   "source": [
    "Now we set the comsological parameters. If `sigma_8_set = True` we scale the linear power spectrum to account for the new sigma_8 value.  "
   ]
  },
  {
   "cell_type": "code",
   "execution_count": null,
   "id": "0c49ef79",
   "metadata": {},
   "outputs": [],
   "source": [
    "# Set cosmological parameters\n",
    "Omega_c = 0.25\n",
    "Omega_b = 0.05\n",
    "Omega_k = 0.0\n",
    "h = 0.7\n",
    "As = 1.97448e-9\n",
    "ns = 0.96\n",
    "w = -1.0\n",
    "wa = 0.0\n",
    "m_nu = 0.0 # in eV\n",
    "\n",
    "# You can choose to set sigma_8, in that case we scale the power spectrum\n",
    "sigma_8_set = True # If true uses the following value\n",
    "sigma_8_in  = 0.7"
   ]
  },
  {
   "cell_type": "markdown",
   "id": "49a250ba",
   "metadata": {},
   "source": [
    "Now let's set some parameters that we will use throughout the calculation: First, we set a range of wavenumbers, `k`, and then fill array, `ks`, we then set a redshift, `z`."
   ]
  },
  {
   "cell_type": "code",
   "execution_count": null,
   "id": "6ffe59e6",
   "metadata": {},
   "outputs": [],
   "source": [
    "# k range [h/Mpc]\n",
    "kmin = 1e-3; kmax = 200\n",
    "nk = 101\n",
    "ks = np.logspace(np.log10(kmin), np.log10(kmax), nk)\n",
    "\n",
    "# Starting redshift\n",
    "z = 0.\n",
    "zmax = 2.\n",
    "\n",
    "# Redshift\n",
    "zs = [1., 0.] # CAMB reorders from high-z to low-z, so we define it like this from the start to avoid confusion"
   ]
  },
  {
   "cell_type": "markdown",
   "id": "98b725d9",
   "metadata": {},
   "source": [
    "Now we initialise `CAMB` and produce a linear matter power spectrum. We have the option here to scale the power by an input `sigma_8` value: `sigma_8_in`"
   ]
  },
  {
   "cell_type": "code",
   "execution_count": null,
   "id": "3696cc57",
   "metadata": {},
   "outputs": [],
   "source": [
    "# Sets cosmological parameters in camb to calculate the linear power spectrum\n",
    "pars = camb.CAMBparams()\n",
    "wb   = Omega_b*h**2\n",
    "wc   = Omega_c*h**2\n",
    "\n",
    "# This function sets standard and helium set using BBN consistency\n",
    "pars.set_cosmology(ombh2=wb, omch2=wc, H0=100.*h, mnu=m_nu, omk=Omega_k)\n",
    "pars.set_dark_energy(w=w, wa=wa, dark_energy_model='ppf') \n",
    "pars.InitPower.set_params(As=As, ns=ns, r=0)\n",
    "pars.set_matter_power(redshifts=zs, kmax=kmax) # Setup the linear matter power spectrum\n",
    "\n",
    "# extract parameters from CAMB\n",
    "Omega_m  = pars.omegam \n",
    "Omega_nu = pars.omeganu\n",
    "Omega_L  = 1. + Omega_k - Omega_m\n",
    "camb_results = camb.get_results(pars)\n",
    "sigma_8 = (camb_results.get_sigma8()[zs.index(z)]).item()\n",
    "\n",
    "if sigma_8_set:\n",
    "    scaling = (sigma_8_in/sigma_8)**2\n",
    "    As *= scaling\n",
    "    pars.InitPower.set_params(As=As, ns=ns, r=0)\n",
    "\n",
    "Pk_lin = camb.get_matter_power_interpolator(pars, \n",
    "                                            nonlinear = False, \n",
    "                                            hubble_units = True, \n",
    "                                            k_hunit = True, \n",
    "                                            kmax = kmax,\n",
    "                                            var1 = camb.model.Transfer_tot,\n",
    "                                            var2 = camb.model.Transfer_tot, \n",
    "                                            zmax = zmax,\n",
    "                                           )\n",
    "Pk_lin = Pk_lin.P # Single out the linear P(k) interpolator\n",
    "camb_results = camb.get_results(pars)\n",
    "sigma_8 = (camb_results.get_sigma8()[zs.index(z)]).item()"
   ]
  },
  {
   "cell_type": "markdown",
   "id": "d52222d4",
   "metadata": {},
   "source": [
    "Now we set a range of halo masses, `M`, and fill an array, `Ms`. This halo-mass range needs to be wide enough that it includes all 'interesting' halo masses from the point of view of the calculation, and the mass-spacing needs to be fine enough that the calculation converges; in an actual use-case the effect on power spectra of both mass range and spacing should be convergence tested. Then we find the Lagrangian radii, `R`, corresponding the the halo masses."
   ]
  },
  {
   "cell_type": "code",
   "execution_count": null,
   "id": "5a944ac0",
   "metadata": {},
   "outputs": [],
   "source": [
    "# Halo mass range [Msun/h]\n",
    "Mmin = 1e9; Mmax = 1e15; nM = 129\n",
    "Ms = np.logspace(np.log10(Mmin), np.log10(Mmax), nM)\n",
    "\n",
    "# Lagrangian radii corresponding to halo masses; \n",
    "Rs = cosmology.Lagrangian_radius(Ms, Omega_m)"
   ]
  },
  {
   "cell_type": "markdown",
   "id": "0617030a",
   "metadata": {},
   "source": [
    "Next, we need to get an array of `sigma(R)` values. This requires an integral over the linear power spectrum times the Fourier transform of a top hat function, which is the oscillatory sinc function. We can use different integration methods to calculate this. Three methods are given: \n",
    "* `brute`: uses a brute force sum over `nk` log-bins between `kmin` and `kmax`\n",
    "* `quad`: uses the scipy.integrate.quad routine integrates between zero and infinity\n",
    "* `camb`: uses the internal camb integration"
   ]
  },
  {
   "cell_type": "code",
   "execution_count": null,
   "id": "64d82699",
   "metadata": {},
   "outputs": [],
   "source": [
    "# Get sigma(R) from CAMB\n",
    "sigmaRs_camb = cosmology.get_sigmaR(Rs, camb_results, integration_type='camb')\n",
    "sigmaRs = sigmaRs_camb"
   ]
  },
  {
   "cell_type": "markdown",
   "id": "c7d4460c",
   "metadata": {},
   "source": [
    "Now we can create a halo model, which has to be reinitialised at each different redshift of interest. In this example notebook we are only doing calculations at a single redshift, so we initialise the halo model with that in mind. We also need to choose a mass function and linear halo bias, in this example these come from `Tinker et al. (2010)`, and we need to choose a halo definition, here we choose `330`, so haloes are defined to be spherical objects that contain an average density that is 330 times greater than the mean background universe, which is approximately the virial definition for this cosmology at `z=0`."
   ]
  },
  {
   "cell_type": "code",
   "execution_count": null,
   "id": "a98cf70d",
   "metadata": {},
   "outputs": [],
   "source": [
    "# Initialise halo model\n",
    "hmod = halomodel.halo_model(z, Omega_m, hm='Tinker et al. (2010)', Dv=330.)"
   ]
  },
  {
   "cell_type": "markdown",
   "id": "95cf62f2",
   "metadata": {},
   "source": [
    "Now lets make figure 2: Dimensionless multiplicity function, $M^2 n(M)/\\bar\\rho$, as a function of halo mass for three popular halo mass functions: Sheth and Tormen 1999; Tinker et al. 2010; Despali et al. 2016 at z = 0 (solid) and z = 1 (dashed) for the virial halo definition. Note that the kmax value for Pk_lin is very important here. We chose kmax=200, which produces smooth functions. A smaller kmax can produce noisy results for lower masses."
   ]
  },
  {
   "cell_type": "code",
   "execution_count": null,
   "id": "89b00310",
   "metadata": {},
   "outputs": [],
   "source": [
    "mass_functions = [\n",
    "    'Sheth & Tormen (1999)',\n",
    "    'Tinker et al. (2010)',\n",
    "    'Despali et al. (2016)',\n",
    "]\n",
    "\n",
    "# Calculate b(M) and n(M)\n",
    "# NOTE: Remove slow calculation with sigma(R) from P(k)\n",
    "bs = []\n",
    "Fs = []\n",
    "for iz, z in enumerate(zs):\n",
    "    for mass_function in mass_functions:\n",
    "        print(mass_function, 'z = %1.1f'%(z))\n",
    "        hmod = halomodel.halo_model(z, Omega_m, hm=mass_function, Dv=330.)\n",
    "        b = hmod.linear_bias(Ms, sigmas=sigmaRs[iz])\n",
    "        #F = halomodel.halo_multiplicity_function(hmod, Ms, Pk_lin=lambda k: Pk_lin(z, k))\n",
    "        F = hmod.multiplicity_function(Ms, sigma=lambda R: camb_results.get_sigmaR(R, hubble_units=True, return_R_z=False)[iz])\n",
    "        bs.append(b)\n",
    "        Fs.append(F)"
   ]
  },
  {
   "cell_type": "code",
   "execution_count": null,
   "id": "5bbf1948",
   "metadata": {},
   "outputs": [],
   "source": [
    "# Make the plot\n",
    "plt.subplots(2, 1, figsize=(5, 4), dpi=100, sharex=True)\n",
    "n = len(mass_functions)\n",
    "\n",
    "# Mass function\n",
    "plt.subplot(2, 1, 1)\n",
    "plt.plot(Ms[0], np.nan, color='black', ls='-', label=r'$z=0$')\n",
    "plt.plot(Ms[0], np.nan, color='black', ls='--', label=r'$z=1$')\n",
    "for i, mass_function in enumerate(mass_functions):\n",
    "    plt.plot(Ms, Fs[i], ls='--', color='C%d'%i)\n",
    "    plt.plot(Ms, Fs[i+n], ls='-', color='C%d'%i)\n",
    "plt.xscale('log')\n",
    "plt.gca().set_xticklabels([])\n",
    "plt.ylim((0., 0.06))\n",
    "plt.ylabel(r'$M^2 n(M)/\\bar\\rho$')\n",
    "# Common x-axis\n",
    "plt.xlim((Ms[0], Ms[-1]))\n",
    "plt.legend()\n",
    "\n",
    "# Linear bias\n",
    "plt.subplot(2, 1, 2)\n",
    "plt.axhline(1., color='black')\n",
    "for i, mass_function in enumerate(mass_functions):\n",
    "    plt.plot(Ms, bs[i], ls='--', color='C%d'%i)\n",
    "    plt.plot(Ms, bs[i+n], ls='-', color='C%d'%i, label=mass_function)\n",
    "plt.xlabel(r'$M / h^{-1} M_\\odot$')\n",
    "plt.xscale('log')\n",
    "plt.ylim((0., 5.))\n",
    "plt.ylabel(r'$b(M)$')\n",
    "\n",
    "# Common x-axis\n",
    "plt.xlim((Ms[0], Ms[-1]))\n",
    "plt.legend()\n",
    "\n",
    "plt.savefig('plots/hmf_and_bias.pdf',bbox_inches='tight')\n",
    "plt.show()"
   ]
  }
 ],
 "metadata": {
  "kernelspec": {
   "display_name": "Python 3",
   "language": "python",
   "name": "python3"
  },
  "language_info": {
   "codemirror_mode": {
    "name": "ipython",
    "version": 3
   },
   "file_extension": ".py",
   "mimetype": "text/x-python",
   "name": "python",
   "nbconvert_exporter": "python",
   "pygments_lexer": "ipython3",
   "version": "3.10.9"
  },
  "vscode": {
   "interpreter": {
    "hash": "aee8b7b246df8f9039afb4144a1f6fd8d2ca17a180786b69acc140d282b71a49"
   }
  }
 },
 "nbformat": 4,
 "nbformat_minor": 5
}

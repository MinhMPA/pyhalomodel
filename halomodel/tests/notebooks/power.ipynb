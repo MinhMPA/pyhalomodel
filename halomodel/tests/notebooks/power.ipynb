{
 "cells": [
  {
   "cell_type": "code",
   "execution_count": null,
   "metadata": {},
   "outputs": [],
   "source": [
    "# Standard imports\n",
    "import numpy as np\n",
    "import matplotlib.pyplot as plt"
   ]
  },
  {
   "cell_type": "code",
   "execution_count": null,
   "metadata": {},
   "outputs": [],
   "source": [
    "# Parameters\n",
    "benchmark_dir = './../benchmarks/'\n",
    "results_dir = './../results/'\n",
    "\n",
    "# File to checck\n",
    "file = 'power_mm_z0.0.dat'"
   ]
  },
  {
   "cell_type": "code",
   "execution_count": null,
   "metadata": {},
   "outputs": [],
   "source": [
    "# Load data\n",
    "\n",
    "benchmark_file = benchmark_dir+file\n",
    "results_file = results_dir+file\n",
    "\n",
    "data_bench = np.loadtxt(benchmark_file)\n",
    "data_test = np.loadtxt(results_file)"
   ]
  },
  {
   "cell_type": "code",
   "execution_count": null,
   "metadata": {},
   "outputs": [],
   "source": [
    "plt.subplots(2, 1)\n",
    "\n",
    "# P(k)\n",
    "plt.subplot(2, 1, 1)\n",
    "plt.loglog(data_bench[:, 0], data_bench[:, 1], label='Benchmark')\n",
    "plt.loglog(data_test[:, 0], data_test[:, 1], label='Test')\n",
    "plt.xticks([])\n",
    "plt.ylabel('$P(k)$ $[(\\mathrm{Mpc}/h)^3]$')\n",
    "plt.legend()\n",
    "\n",
    "# Ratio\n",
    "plt.subplot(2, 1, 2)\n",
    "plt.semilogx(data_bench[:, 0], data_bench[:, 1]/data_bench[:, 1])\n",
    "plt.semilogx(data_test[:, 0], data_test[:, 1]/data_bench[:, 1])\n",
    "plt.xlabel('$k$ $[h\\mathrm{Mpc}]$')\n",
    "plt.ylabel('$P(k)/P(k)$')\n",
    "\n",
    "plt.show()"
   ]
  }
 ],
 "metadata": {
  "kernelspec": {
   "display_name": "Python 3",
   "language": "python",
   "name": "python3"
  },
  "language_info": {
   "codemirror_mode": {
    "name": "ipython",
    "version": 3
   },
   "file_extension": ".py",
   "mimetype": "text/x-python",
   "name": "python",
   "nbconvert_exporter": "python",
   "pygments_lexer": "ipython3",
   "version": "3.10.9"
  },
  "orig_nbformat": 4,
  "vscode": {
   "interpreter": {
    "hash": "aee8b7b246df8f9039afb4144a1f6fd8d2ca17a180786b69acc140d282b71a49"
   }
  }
 },
 "nbformat": 4,
 "nbformat_minor": 2
}

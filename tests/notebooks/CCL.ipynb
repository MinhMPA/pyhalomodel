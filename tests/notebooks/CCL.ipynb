{
 "cells": [
  {
   "cell_type": "code",
   "execution_count": null,
   "metadata": {},
   "outputs": [],
   "source": []
  }
 ],
 "metadata": {
  "kernelspec": {
   "display_name": "halomodel-9x4PpIM0-py3.10",
   "language": "python",
   "name": "python3"
  },
  "language_info": {
   "name": "python",
   "version": "3.10.9"
  },
  "orig_nbformat": 4,
  "vscode": {
   "interpreter": {
    "hash": "8d443b5d6f21d64bdd5ec2aaf46e6b3a56438c3d8195417b180d3601582e93fe"
   }
  }
 },
 "nbformat": 4,
 "nbformat_minor": 2
}

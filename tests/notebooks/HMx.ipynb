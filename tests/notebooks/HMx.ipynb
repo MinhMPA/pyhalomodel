{
 "cells": [
  {
   "cell_type": "code",
   "execution_count": null,
   "metadata": {},
   "outputs": [],
   "source": [
    "import numpy as np\n",
    "import matplotlib.pyplot as plt"
   ]
  },
  {
   "cell_type": "code",
   "execution_count": null,
   "metadata": {},
   "outputs": [],
   "source": [
    "bench = np.loadtxt('../benchmarks/HMx_0_26_3_z0.0.dat')\n",
    "result = np.loadtxt('../results/HMx_0_26_3_z0.0.dat')\n",
    "\n",
    "k_bench = bench[:, 0]\n",
    "Pk_bench = bench[:, 4]*2.*np.pi**2/k_bench**3\n",
    "\n",
    "k_result = result[:, 0]\n",
    "Pk_result = result[:, 1]"
   ]
  },
  {
   "cell_type": "code",
   "execution_count": null,
   "metadata": {},
   "outputs": [],
   "source": [
    "plt.subplots(2, 1)\n",
    "\n",
    "plt.subplot(2, 1, 1)\n",
    "plt.loglog(k_bench, Pk_bench)\n",
    "plt.loglog(k_result, Pk_result)\n",
    "plt.xticks([])\n",
    "\n",
    "plt.subplot(2, 1, 2)\n",
    "plt.semilogx(k_bench, Pk_bench/Pk_bench)\n",
    "plt.semilogx(k_result, Pk_result/Pk_bench)\n",
    "\n",
    "plt.show()"
   ]
  }
 ],
 "metadata": {
  "kernelspec": {
   "display_name": "Python 3",
   "language": "python",
   "name": "python3"
  },
  "language_info": {
   "codemirror_mode": {
    "name": "ipython",
    "version": 3
   },
   "file_extension": ".py",
   "mimetype": "text/x-python",
   "name": "python",
   "nbconvert_exporter": "python",
   "pygments_lexer": "ipython3",
   "version": "3.10.9"
  },
  "orig_nbformat": 4,
  "vscode": {
   "interpreter": {
    "hash": "aee8b7b246df8f9039afb4144a1f6fd8d2ca17a180786b69acc140d282b71a49"
   }
  }
 },
 "nbformat": 4,
 "nbformat_minor": 2
}
